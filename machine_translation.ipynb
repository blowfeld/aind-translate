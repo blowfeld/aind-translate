{
 "cells": [
  {
   "cell_type": "markdown",
   "metadata": {
    "collapsed": true,
    "deletable": true,
    "editable": true
   },
   "source": [
    "# Artificial Intelligence Nanodegree\n",
    "## Machine Translation Project\n",
    "In this notebook, sections that end with **'(IMPLEMENTATION)'** in the header indicate that the following blocks of code will require additional functionality which you must provide. Please be sure to read the instructions carefully!\n",
    "\n",
    "## Introduction\n",
    "In this notebook, you will build a deep neural network that functions as part of an end-to-end machine translation pipeline. Your completed pipeline will accept English text as input and return the French translation.\n",
    "\n",
    "- **Preprocess** - You'll convert text to sequence of integers.\n",
    "- **Models** Create models which accepts a sequence of integers as input and returns a probability distribution over possible translations. After learning about the basic types of neural networks that are often used for machine translation, you will engage in your own investigations, to design your own model!\n",
    "- **Prediction** Run the model on English text.\n",
    "\n",
    "## Dataset\n",
    "We begin by investigating the dataset that will be used to train and evaluate your pipeline.  The most common datasets used for machine translation are from [WMT](http://www.statmt.org/).  However, that will take a long time to train a neural network on.  We'll be using a dataset we created for this project that contains a small vocabulary.  You'll be able to train your model in a reasonable time with this dataset.\n",
    "### Load Data\n",
    "The data is located in `data/small_vocab_en` and `data/small_vocab_fr`. The `small_vocab_en` file contains English sentences with their French translations in the `small_vocab_fr` file. Load the English and French data from these files from running the cell below."
   ]
  },
  {
   "cell_type": "code",
   "execution_count": 1,
   "metadata": {
    "collapsed": false,
    "deletable": true,
    "editable": true
   },
   "outputs": [
    {
     "name": "stdout",
     "output_type": "stream",
     "text": [
      "Dataset Loaded\n"
     ]
    }
   ],
   "source": [
    "import helper\n",
    "\n",
    "\n",
    "# Load English data\n",
    "english_sentences = helper.load_data('data/small_vocab_en')\n",
    "# Load French data\n",
    "french_sentences = helper.load_data('data/small_vocab_fr')\n",
    "\n",
    "print('Dataset Loaded')"
   ]
  },
  {
   "cell_type": "markdown",
   "metadata": {
    "deletable": true,
    "editable": true
   },
   "source": [
    "### Files\n",
    "Each line in `small_vocab_en` contains an English sentence with the respective translation in each line of `small_vocab_fr`.  View the first two lines from each file."
   ]
  },
  {
   "cell_type": "code",
   "execution_count": 2,
   "metadata": {
    "collapsed": false,
    "deletable": true,
    "editable": true
   },
   "outputs": [
    {
     "name": "stdout",
     "output_type": "stream",
     "text": [
      "small_vocab_en Line 1:  new jersey is sometimes quiet during autumn , and it is snowy in april .\n",
      "small_vocab_fr Line 1:  new jersey est parfois calme pendant l' automne , et il est neigeux en avril .\n",
      "small_vocab_en Line 2:  the united states is usually chilly during july , and it is usually freezing in november .\n",
      "small_vocab_fr Line 2:  les états-unis est généralement froid en juillet , et il gèle habituellement en novembre .\n"
     ]
    }
   ],
   "source": [
    "for sample_i in range(2):\n",
    "    print('small_vocab_en Line {}:  {}'.format(sample_i + 1, english_sentences[sample_i]))\n",
    "    print('small_vocab_fr Line {}:  {}'.format(sample_i + 1, french_sentences[sample_i]))"
   ]
  },
  {
   "cell_type": "markdown",
   "metadata": {
    "deletable": true,
    "editable": true
   },
   "source": [
    "From looking at the sentences, you can see they have been preprocessed already.  The puncuations have been delimited using spaces. All the text have been converted to lowercase.  This should save you some time, but the text requires more preprocessing.\n",
    "### Vocabulary\n",
    "The complexity of the problem is determined by the complexity of the vocabulary.  A more complex vocabulary is a more complex problem.  Let's look at the complexity of the dataset we'll be working with."
   ]
  },
  {
   "cell_type": "code",
   "execution_count": 3,
   "metadata": {
    "collapsed": false,
    "deletable": true,
    "editable": true
   },
   "outputs": [
    {
     "name": "stdout",
     "output_type": "stream",
     "text": [
      "1823250 English words.\n",
      "227 unique English words.\n",
      "10 Most common words in the English dataset:\n",
      "\"is\" \",\" \".\" \"in\" \"it\" \"during\" \"the\" \"but\" \"and\" \"sometimes\"\n",
      "\n",
      "1961295 French words.\n",
      "355 unique French words.\n",
      "10 Most common words in the French dataset:\n",
      "\"est\" \".\" \",\" \"en\" \"il\" \"les\" \"mais\" \"et\" \"la\" \"parfois\"\n"
     ]
    }
   ],
   "source": [
    "import collections\n",
    "\n",
    "\n",
    "english_words_counter = collections.Counter([word for sentence in english_sentences for word in sentence.split()])\n",
    "french_words_counter = collections.Counter([word for sentence in french_sentences for word in sentence.split()])\n",
    "\n",
    "print('{} English words.'.format(len([word for sentence in english_sentences for word in sentence.split()])))\n",
    "print('{} unique English words.'.format(len(english_words_counter)))\n",
    "print('10 Most common words in the English dataset:')\n",
    "print('\"' + '\" \"'.join(list(zip(*english_words_counter.most_common(10)))[0]) + '\"')\n",
    "print()\n",
    "print('{} French words.'.format(len([word for sentence in french_sentences for word in sentence.split()])))\n",
    "print('{} unique French words.'.format(len(french_words_counter)))\n",
    "print('10 Most common words in the French dataset:')\n",
    "print('\"' + '\" \"'.join(list(zip(*french_words_counter.most_common(10)))[0]) + '\"')"
   ]
  },
  {
   "cell_type": "markdown",
   "metadata": {
    "deletable": true,
    "editable": true
   },
   "source": [
    "For comparison, _Alice's Adventures in Wonderland_ contains 2,766 unique words of a total of 15,500 words.\n",
    "## Preprocess\n",
    "For this project, you won't use text data as input to your model. Instead, you'll convert the text into sequences of integers using the following preprocess methods:\n",
    "1. Tokenize the words into ids\n",
    "2. Add padding to make all the sequences the same length.\n",
    "\n",
    "Time to start preprocessing the data...\n",
    "### Tokenize (IMPLEMENTATION)\n",
    "For a neural network to predict on text data, it first has to be turned into data it can understand. Text data like \"dog\" is a sequence of ASCII character encodings.  Since a neural network is a series of multiplication and addition operations, the input data needs to be number(s).\n",
    "\n",
    "We can turn each character into a number or each word into a number.  These are called character and word ids, respectively.  Character ids are used for character level models that generate text predictions for each character.  A word level model uses word ids that generate text predictions for each word.  Word level models tend to learn better, since they are lower in complexity, so we'll use those.\n",
    "\n",
    "Turn each sentence into a sequence of words ids using Keras's [`Tokenizer`](https://keras.io/preprocessing/text/#tokenizer) function. Use this function to tokenize `english_sentences` and `french_sentences` in the cell below.\n",
    "\n",
    "Running the cell will run `tokenize` on sample data and show output for debugging."
   ]
  },
  {
   "cell_type": "code",
   "execution_count": 4,
   "metadata": {
    "collapsed": false,
    "deletable": true,
    "editable": true
   },
   "outputs": [
    {
     "name": "stderr",
     "output_type": "stream",
     "text": [
      "Using TensorFlow backend.\n"
     ]
    },
    {
     "name": "stdout",
     "output_type": "stream",
     "text": [
      "{'least': 26, 'au': 29, 'pamplemousse': 62, 'freezing': 101, 'traduire': 291, 'oranges': 51, 'chinese': 333, 'fun': 351, 'redouté': 281, 'april': 90, 'redoutée': 551, 'occupée': 253, 'éléphants': 457, 'winter': 77, 'elephant': 387, 'singes': 467, 'would': 485, 'cours': 207, 'to': 154, 'juillet': 89, 'grocery': 474, \"qu'elle\": 500, 'manguiers': 514, 'français': 340, 'busy': 112, \"d'\": 155, 'les': 11, 'most': 41, 'lime.': 408, 'shiny': 245, 'serpents': 464, 'grandes': 520, 'raisin': 158, 'it': 8, 'limes.': 346, 'apprécié': 554, 'sharks': 449, 'entre': 288, 'does': 503, 'un': 264, 'animals': 258, 'envisagent': 537, 'janvier': 76, 'wonderful': 110, 'mouillé': 349, 'nice': 85, 'printemps': 74, 'espagnol': 336, 'vit': 548, 'grape': 168, 'black': 243, 'loved.': 293, 'glaciales': 342, 'our': 99, 'anglais': 339, 'portuguese': 332, 'plans': 296, 'allé': 402, 'son': 38, \"aren't\": 492, 'se': 298, 'where': 526, 'le': 23, 'oiseau': 419, 'est': 4, 'nous': 199, 'rusty': 240, 'voiture': 186, 'lemons.': 341, 'aiment': 226, 'bear': 390, 'grande': 299, 'school': 478, 'moindres': 542, 'envisage': 322, 'pourrait': 360, \"n'aime\": 191, \"n'aimons\": 431, 'brillante': 312, 'lac': 482, 'were': 313, 'gelé': 433, 'paris': 33, 'souris': 358, 'citron': 161, '?': 213, 'likes': 133, 'wet': 118, 'décembre': 96, 'green': 244, 'brillant': 279, 'porcelaine': 517, 'mangoes.': 345, \"l'automne\": 187, '.': 1, 'disliked': 269, 'je': 214, 'veut': 362, 'blanc': 306, 'pluie': 404, 'cher': 218, 'du': 491, 'summer': 94, 'old': 237, 'automne': 43, 'ne': 196, 'favorite': 28, 'aimeraient': 532, 'visite': 443, 'citrons': 50, 'amusant': 354, 'lui': 442, 'voulait': 361, 'vous': 200, 'united': 54, 'want': 421, 'relaxant': 123, 'sèche': 252, 'pears.': 304, 'fraise': 165, 'monkey': 389, 'lapin': 399, 'pommes': 137, 'des': 201, 'vers': 439, 'animaux': 260, 'dry': 111, 'pourraient': 422, 'we': 198, 'peaches.': 303, 'and': 15, 'states': 55, 'avez': 411, 'peach.': 377, 'do': 436, 'ont': 381, 'jamais': 22, 'belle': 195, 'grand': 437, 'may': 83, 'traduis': 553, 'déteste': 183, 'aimée': 428, \"it's\": 365, 'pensez': 472, 'grosses': 538, \"c'est\": 519, 'am': 506, 'cold': 108, 'calme': 134, \"l'orange\": 160, 'nouvelle': 272, 'préféré': 32, 'a': 188, 'december': 95, 'pêche': 166, 'elle': 49, 'pleut': 283, 'vu': 274, 'was': 208, 'think': 363, \"qu'il\": 305, 'verts': 142, 'novembre': 93, 'humide': 125, 'field': 476, 'sont': 232, 'apple.': 380, 'clémentes': 373, 'july': 88, 'last': 255, 'ses': 302, 'cépage': 471, 'avons': 515, 'february': 97, 'grapefruit': 63, 'driving': 219, 'favoris': 559, 'juin': 72, 'traduction': 348, 'the': 10, 'généralement': 25, 'chinois': 338, 'maillot': 407, 'octobre': 104, 'march': 79, \"l'école\": 483, 'aimons': 227, 'éléphant': 420, 'intention': 371, 't': 516, 'orange': 176, 'grapes.': 330, \"isn't\": 505, 'has': 504, ',': 2, 'spring': 73, 'like': 177, 'dernière': 508, 'difficile': 353, 'apple': 170, 'little': 233, 'lake': 477, 'rendre': 325, 'noir': 319, 'préférés': 315, 'serpent': 400, 'enneigée': 181, 'oranges.': 308, 'à': 46, 'monkeys': 453, \"didn't\": 470, \"l'épicerie\": 480, 'verte': 275, 'en': 5, 'dislikes': 132, 'jaune': 246, 'lions': 418, 'are': 251, 'snakes': 450, 'dans': 529, 'bears': 454, 'blanche': 280, 'spanish': 331, 'lemon.': 378, 'bleue': 289, 'this': 259, 'doux': 124, 'dogs': 448, 'as-tu': 557, 'détestons': 236, 'ce': 215, 'mangue': 156, 'november': 92, 'prévoit': 441, 'pas': 179, 'voulez': 531, 'rouillée': 294, 'détestait': 435, 'camion': 206, 'chevaux': 458, 'voulaient': 423, 'chilly': 115, 'translate': 295, 'mangoes': 146, 'faire': 558, 'où': 528, 'fait': 193, 'banana': 172, 'plaît': 525, 'moteur': 562, 'wanted': 318, 'grape.': 414, 'drove': 271, 'merveilleux': 119, 'requin': 394, 'big': 234, 'pêches': 138, 'bananas': 151, 'pluvieux': 131, 'rabbit': 391, 'september': 86, 'enneigé': 541, 'petites': 502, 'my': 65, 'il': 6, 'limes': 145, 'lapins': 466, 'prévoient': 440, 'car': 205, 'french': 335, 'truck': 204, 'been': 493, 'occupé': 130, 'leur': 129, \"n'aimez\": 229, 'petite': 276, 'blue': 241, 'conduite': 543, 'prochain': 212, 'fraises': 140, 'la': 17, 'froid': 37, 'i': 194, 'mangues': 144, 'une': 220, \"l'automobile\": 430, 'going': 267, 'gros': 357, 'préférées': 521, 'he': 59, 'gelés': 544, 'visit': 222, 'eiffel': 425, 'visiter': 250, 'souvent': 560, 'sometimes': 18, 'étaient': 323, 'chien': 396, 'lion': 314, 'orange.': 374, 'pear.': 379, 'raisins': 143, 'chats': 465, 'habituellement': 136, 'inde': 53, 'douce': 522, 'translating': 343, 'etats-unis': 546, 'football': 426, 'détestez': 518, 'elephants': 446, 'beau': 135, 'strawberry': 167, '-ce': 432, 'ours': 398, 'voudrait': 511, 'yellow': 238, 'mild': 117, 'when': 415, 'lemon': 171, 'conduit': 210, 'veulent': 424, 'tranquille': 216, 'that': 197, 'usually': 20, 'gèle': 184, 'cheval': 395, 'fruits': 185, \"n'est\": 486, 'drives': 270, 'grapefruit.': 282, 'her': 67, 'parfois': 19, 'bien': 438, 'allons': 487, 'vais': 510, 'requins': 462, 'saw': 268, 'aimé': 30, 'était': 223, 'vieux': 328, 'volant': 410, \"n'a\": 533, 'allés': 412, 'notre': 126, 'fall': 70, 'white': 242, \"l'\": 24, 'pears': 153, 'liked.': 292, 'loved': 47, 'et': 14, 'chat': 393, 'bénigne': 539, 'rabbits': 452, 'chaux': 162, 'quiet': 121, 'during': 9, 'été': 82, 'frais': 513, 'grosse': 403, 'facile': 355, 'august': 113, \"l'ours\": 463, 'warm': 107, 'banana.': 376, 'pendant': 61, 'bird': 384, 'weather': 495, 'hot': 122, 'animal': 178, 'vos': 370, 'vert': 326, 'pomme': 159, '-': 327, 'horses': 447, 'they': 189, 'mon': 68, 'peaches': 152, 'ressort': 549, 'jersey': 35, 'pousse': 490, 'agréable': 36, 'at': 497, 'easy': 352, 'pluies': 320, 'êtes-vous': 509, 'apples': 149, 'but': 12, 'grapes': 148, 'nos': 277, \"n'aiment\": 228, 'snake': 392, 'grands': 536, 'ils': 190, 'sec': 128, 'petit': 329, 'neige': 192, 'états-unis': 56, 'their': 100, 'terrain': 481, 'légère': 469, 'février': 98, 'petits': 534, 'monde': 406, 'lime': 169, 'neigeux': 209, 'lemons': 147, \"l'animal\": 484, 'septembre': 87, 'india': 52, 'your': 64, 'bananes': 141, 'cette': 221, 'birds': 455, 'californie': 127, 'went': 316, 'qui': 552, 'thinks': 321, 'mango': 173, 'frisquet': 254, 'china': 57, 'temps': 496, 'have': 527, 'horse': 386, 'détend': 550, 'red': 239, 'tour': 479, 'dislike': 180, 'chaude': 225, 'mais': 13, 'mice': 456, 'cet': 347, 'mois': 44, 'bananas.': 307, 'es-tu': 561, 'rouge': 247, 'might': 317, 'aimé.': 235, 'préférée': 256, \"j'aime\": 248, 'english': 334, 'california': 45, '-ils': 501, '-elle': 507, 'rouille': 498, 'never': 21, \"l'oiseau\": 461, 'chine': 58, 'did': 372, 'singe': 397, 'pense': 287, 'dernier': 261, 'pleasant': 102, 'gel': 157, 'redoutés': 401, 'votre': 69, 'france': 34, 'portugais': 337, 'vieille': 273, 'durant': 523, 'mouse': 385, 'tower': 473, 'in': 7, 'chaud': 39, 'next': 211, 'poire': 164, 'aiment-ils': 535, 'january': 75, 'oiseaux': 468, 'poires': 139, 'feared': 257, 'noire': 278, 'bleu': 297, 'mango.': 375, 'rouillé': 300, 'pamplemousses': 285, 'plus': 42, 'banane': 163, 'comment': 445, 'chiens': 459, 'aller': 224, 'mars': 80, 'cats': 451, 'moins': 27, 'strawberries.': 310, 'de': 40, 'cat': 382, 'strawberry.': 417, \"n'êtes\": 547, 'comme': 356, 'why': 364, 'his': 66, 'favori': 182, 'you': 202, 'trouvé': 556, 'prévois': 368, 'tout': 545, 'leurs': 230, \"l'éléphant\": 460, 'is': 3, 'june': 71, 'aimez': 231, 'aimés': 367, 'snowy': 106, 'préféré.': 301, 'liked': 48, 'new': 31, 'proches': 512, 'shark': 383, 'automobile': 203, 'allions': 555, 'est-ce': 530, 'va': 324, 'hiver': 78, 'avril': 91, 'fruit.': 434, 'quand': 416, 'nouveau': 290, 'autumn': 81, 'mouillée': 540, 'how': 444, 'wants': 359, 'allée': 413, 'she': 60, 'pourquoi': 366, 'apples.': 309, 'go': 217, 'août': 114, 'que': 266, 'détendre': 427, 'mai': 84, 'prévoyons': 369, 'between': 286, '-il': 494, 'aime': 109, 'aux': 311, \"n'aimait\": 284, 'relaxing': 120, 'strawberries': 150, 'congélation': 524, 'sur': 499, 'rainy': 116, 'fruit': 16, 'vont': 409, 'difficult': 350, 'favorite.': 249, 'plan': 262, 'mes': 344, 'dog': 388, 'trop': 405, 'peach': 175, 'peu': 489, 'conduisait': 265, 'beautiful': 103, 'allez': 488, 'october': 105, 'magnifique': 429, 'pear': 174, 'aimait': 263, 'store': 475}\n",
      "\n",
      "Sequence 1 in x\n",
      "  Input:  The quick brown fox jumps over the lazy dog .\n",
      "  Output: [10, 10, 388, 1]\n",
      "Sequence 2 in x\n",
      "  Input:  By Jove , my quick study of lexicography won a prize .\n",
      "  Output: [2, 65, 188, 1]\n",
      "Sequence 3 in x\n",
      "  Input:  This is a short sentence .\n",
      "  Output: [259, 3, 188, 1]\n"
     ]
    }
   ],
   "source": [
    "import project_tests as tests\n",
    "from keras.preprocessing.text import Tokenizer\n",
    "from itertools import chain\n",
    "from pprint import pprint\n",
    "\n",
    "def tokenize(x):\n",
    "    \"\"\"\n",
    "    Tokenize x\n",
    "    :param x: List of sentences/strings to be tokenized\n",
    "    :return: Tuple of (tokenized x data, tokenizer used to tokenize x)\n",
    "    \"\"\"\n",
    "    small_voc_tokenizer = Tokenizer(filters='')\n",
    "    small_voc_tokenizer.fit_on_texts(chain(iter(english_sentences), iter(french_sentences)))\n",
    "\n",
    "    return small_voc_tokenizer.texts_to_sequences(x), small_voc_tokenizer\n",
    "\n",
    "tests.test_tokenize(tokenize)\n",
    "\n",
    "# Tokenize Example output\n",
    "text_sentences = [\n",
    "    'The quick brown fox jumps over the lazy dog .',\n",
    "    'By Jove , my quick study of lexicography won a prize .',\n",
    "    'This is a short sentence .']\n",
    "text_tokenized, text_tokenizer = tokenize(text_sentences)\n",
    "print(text_tokenizer.word_index)\n",
    "print()\n",
    "for sample_i, (sent, token_sent) in enumerate(zip(text_sentences, text_tokenized)):\n",
    "    print('Sequence {} in x'.format(sample_i + 1))\n",
    "    print('  Input:  {}'.format(sent))\n",
    "    print('  Output: {}'.format(token_sent))"
   ]
  },
  {
   "cell_type": "markdown",
   "metadata": {
    "deletable": true,
    "editable": true
   },
   "source": [
    "### Padding (IMPLEMENTATION)\n",
    "When batching the sequence of word ids together, each sequence needs to be the same length.  Since sentences are dynamic in length, we can add padding to the end of the sequences to make them the same length.\n",
    "\n",
    "Make sure all the English sequences have the same length and all the French sequences have the same length by adding padding to the **end** of each sequence using Keras's [`pad_sequences`](https://keras.io/preprocessing/sequence/#pad_sequences) function."
   ]
  },
  {
   "cell_type": "code",
   "execution_count": 5,
   "metadata": {
    "collapsed": false,
    "deletable": true,
    "editable": true
   },
   "outputs": [
    {
     "name": "stdout",
     "output_type": "stream",
     "text": [
      "Sequence 1 in x\n",
      "  Input:  [ 10  10 388   1]\n",
      "  Output: [ 10  10 388   1]\n",
      "Sequence 2 in x\n",
      "  Input:  [  2  65 188   1]\n",
      "  Output: [  2  65 188   1]\n",
      "Sequence 3 in x\n",
      "  Input:  [259   3 188   1]\n",
      "  Output: [259   3 188   1]\n"
     ]
    }
   ],
   "source": [
    "import numpy as np\n",
    "from keras.preprocessing.sequence import pad_sequences\n",
    "\n",
    "\n",
    "def pad(x, length=None):\n",
    "    \"\"\"\n",
    "    Pad x\n",
    "    :param x: List of sequences.\n",
    "    :param length: Length to pad the sequence to.  If None, use length of longest sequence in x.\n",
    "    :return: Padded numpy array of sequences\n",
    "    \"\"\"\n",
    "    maxlen = length if length else max(len(seq) for seq in x)\n",
    "\n",
    "    return pad_sequences(x, maxlen=maxlen, padding='post', truncating='post', value=0)\n",
    "\n",
    "tests.test_pad(pad)\n",
    "\n",
    "# Pad Tokenized output\n",
    "test_pad = pad(text_tokenized)\n",
    "for sample_i, (token_sent, pad_sent) in enumerate(zip(text_tokenized, test_pad)):\n",
    "    print('Sequence {} in x'.format(sample_i + 1))\n",
    "    print('  Input:  {}'.format(np.array(token_sent)))\n",
    "    print('  Output: {}'.format(pad_sent))"
   ]
  },
  {
   "cell_type": "markdown",
   "metadata": {
    "deletable": true,
    "editable": true
   },
   "source": [
    "### Preprocess Pipeline\n",
    "Your focus for this project is to build neural network architecture, so we won't ask you to create a preprocess pipeline.  Instead, we've provided you with the implementation of the `preprocess` function."
   ]
  },
  {
   "cell_type": "code",
   "execution_count": 6,
   "metadata": {
    "collapsed": false,
    "deletable": true,
    "editable": true
   },
   "outputs": [
    {
     "name": "stdout",
     "output_type": "stream",
     "text": [
      "Data Preprocessed\n"
     ]
    }
   ],
   "source": [
    "def preprocess(x, y):\n",
    "    \"\"\"\n",
    "    Preprocess x and y\n",
    "    :param x: Feature List of sentences\n",
    "    :param y: Label List of sentences\n",
    "    :return: Tuple of (Preprocessed x, Preprocessed y, x tokenizer, y tokenizer)\n",
    "    \"\"\"\n",
    "    preprocess_x, x_tk = tokenize(x)\n",
    "    preprocess_y, y_tk = tokenize(y)\n",
    "\n",
    "    preprocess_x = pad(preprocess_x)\n",
    "    preprocess_y = pad(preprocess_y)\n",
    "\n",
    "    # Keras's sparse_categorical_crossentropy function requires the labels to be in 3 dimensions\n",
    "    preprocess_y = preprocess_y.reshape(*preprocess_y.shape, 1)\n",
    "\n",
    "    return preprocess_x, preprocess_y, x_tk, y_tk\n",
    "\n",
    "preproc_english_sentences, preproc_french_sentences, english_tokenizer, french_tokenizer =\\\n",
    "    preprocess(english_sentences, french_sentences)\n",
    "\n",
    "print('Data Preprocessed')"
   ]
  },
  {
   "cell_type": "markdown",
   "metadata": {
    "deletable": true,
    "editable": true
   },
   "source": [
    "## Models\n",
    "In this section, you will experiment with various neural network architectures.\n",
    "You will begin by training four relatively simple architectures.\n",
    "- Model 1 is a simple RNN\n",
    "- Model 2 is a RNN with Embedding\n",
    "- Model 3 is a Bidirectional RNN\n",
    "- Model 4 is an optional Encoder-Decoder RNN\n",
    "\n",
    "After experimenting with the four simple architectures, you will construct a deeper architecture that is designed to outperform all four models.\n",
    "### Ids Back to Text\n",
    "The neural network will be translating the input to words ids, which isn't the final form we want.  We want the French translation.  The function `logits_to_text` will bridge the gab between the logits from the neural network to the French translation.  You'll be using this function to better understand the output of the neural network."
   ]
  },
  {
   "cell_type": "code",
   "execution_count": 7,
   "metadata": {
    "collapsed": false,
    "deletable": true,
    "editable": true
   },
   "outputs": [
    {
     "name": "stdout",
     "output_type": "stream",
     "text": [
      "`logits_to_text` function loaded.\n"
     ]
    }
   ],
   "source": [
    "def logits_to_text(logits, tokenizer):\n",
    "    \"\"\"\n",
    "    Turn logits from a neural network into text using the tokenizer\n",
    "    :param logits: Logits from a neural network\n",
    "    :param tokenizer: Keras Tokenizer fit on the labels\n",
    "    :return: String that represents the text of the logits\n",
    "    \"\"\"\n",
    "    index_to_words = {id: word for word, id in tokenizer.word_index.items()}\n",
    "    index_to_words[0] = '<PAD>'\n",
    "\n",
    "    return ' '.join([index_to_words[prediction] for prediction in np.argmax(logits, 1)])\n",
    "\n",
    "print('`logits_to_text` function loaded.')"
   ]
  },
  {
   "cell_type": "markdown",
   "metadata": {
    "deletable": true,
    "editable": true
   },
   "source": [
    "### Model 1: RNN (IMPLEMENTATION)\n",
    "![RNN](images/rnn.png)\n",
    "A basic RNN model is a good baseline for sequence data.  In this model, you'll build a RNN that translates English to French."
   ]
  },
  {
   "cell_type": "code",
   "execution_count": 8,
   "metadata": {
    "collapsed": false,
    "deletable": true,
    "editable": true
   },
   "outputs": [
    {
     "name": "stdout",
     "output_type": "stream",
     "text": [
      "562\n",
      "562\n",
      "(137861, 23, 562)\n",
      "_________________________________________________________________\n",
      "Layer (type)                 Output Shape              Param #   \n",
      "=================================================================\n",
      "input_1 (InputLayer)         (None, 23, 562)           0         \n",
      "_________________________________________________________________\n",
      "gru_1 (GRU)                  (None, 23, 64)            120384    \n",
      "_________________________________________________________________\n",
      "dense_1 (Dense)              (None, 23, 563)           36595     \n",
      "=================================================================\n",
      "Total params: 156,979\n",
      "Trainable params: 156,979\n",
      "Non-trainable params: 0\n",
      "_________________________________________________________________\n",
      "Train on 110288 samples, validate on 27573 samples\n",
      "Epoch 1/15\n",
      "110288/110288 [==============================] - 273s - loss: 1.3032 - acc: 0.6864 - val_loss: 0.6597 - val_acc: 0.8048\n",
      "Epoch 2/15\n",
      "110288/110288 [==============================] - 272s - loss: 0.5872 - acc: 0.8239 - val_loss: 0.5269 - val_acc: 0.8412\n",
      "Epoch 3/15\n",
      "110288/110288 [==============================] - 264s - loss: 0.4970 - acc: 0.8476 - val_loss: 0.4717 - val_acc: 0.8532\n",
      "Epoch 4/15\n",
      "110288/110288 [==============================] - 254s - loss: 0.4547 - acc: 0.8601 - val_loss: 0.4428 - val_acc: 0.8625\n",
      "Epoch 5/15\n",
      "110288/110288 [==============================] - 253s - loss: 0.4299 - acc: 0.8677 - val_loss: 0.4234 - val_acc: 0.8688\n",
      "Epoch 6/15\n",
      "110288/110288 [==============================] - 254s - loss: 0.4112 - acc: 0.8734 - val_loss: 0.4064 - val_acc: 0.8744\n",
      "Epoch 7/15\n",
      "110288/110288 [==============================] - 255s - loss: 0.3972 - acc: 0.8777 - val_loss: 0.3972 - val_acc: 0.8787\n",
      "Epoch 8/15\n",
      "110288/110288 [==============================] - 247s - loss: 0.3864 - acc: 0.8811 - val_loss: 0.3893 - val_acc: 0.8803\n",
      "Epoch 9/15\n",
      "110288/110288 [==============================] - 251s - loss: 0.3771 - acc: 0.8840 - val_loss: 0.3775 - val_acc: 0.8842\n",
      "Epoch 10/15\n",
      "110288/110288 [==============================] - 253s - loss: 0.3692 - acc: 0.8863 - val_loss: 0.3722 - val_acc: 0.8866\n",
      "Epoch 11/15\n",
      "110288/110288 [==============================] - 254s - loss: 0.3625 - acc: 0.8885 - val_loss: 0.3682 - val_acc: 0.8870\n",
      "Epoch 12/15\n",
      "110288/110288 [==============================] - 255s - loss: 0.3572 - acc: 0.8899 - val_loss: 0.3608 - val_acc: 0.8894\n",
      "Epoch 13/15\n",
      "110288/110288 [==============================] - 263s - loss: 0.3517 - acc: 0.8917 - val_loss: 0.3582 - val_acc: 0.8907\n",
      "Epoch 14/15\n",
      "110288/110288 [==============================] - 247s - loss: 0.3497 - acc: 0.8921 - val_loss: 0.3572 - val_acc: 0.8910\n",
      "Epoch 15/15\n",
      "110288/110288 [==============================] - 287s - loss: 0.3431 - acc: 0.8944 - val_loss: 0.3490 - val_acc: 0.8932\n",
      "new jersey is sometimes quiet during autumn , and it is snowy in april . <PAD> <PAD> <PAD> <PAD> <PAD> <PAD> <PAD> <PAD>\n",
      "new jersey est parfois calme en automne automne et et est est neigeux avril . . <PAD> <PAD> <PAD> <PAD> <PAD> <PAD> <PAD>\n"
     ]
    }
   ],
   "source": [
    "from keras.layers import GRU, Input, Dense, TimeDistributed\n",
    "from keras.models import Model, Sequential\n",
    "from keras.layers import Activation, SimpleRNN\n",
    "from keras.optimizers import Adam\n",
    "from keras.losses import sparse_categorical_crossentropy\n",
    "\n",
    "\n",
    "def simple_model(input_shape, output_sequence_length, english_vocab_size, french_vocab_size, learning_rate=0.1):\n",
    "    \"\"\"\n",
    "    Build and train a basic RNN on x and y\n",
    "    :param input_shape: Tuple of input shape\n",
    "    :param output_sequence_length: Length of output sequence\n",
    "    :param english_vocab_size: Number of unique English words in the dataset\n",
    "    :param french_vocab_size: Number of unique French words in the dataset\n",
    "    :return: Keras model built, but not trained\n",
    "    \"\"\"\n",
    "    print(english_vocab_size)\n",
    "    print(french_vocab_size)\n",
    "    print(input_shape)\n",
    "    timesteps = Input(shape=input_shape[1:])\n",
    "    hidden = GRU(64, return_sequences=True)(timesteps)\n",
    "    predictions = Dense(french_vocab_size + 1, activation='softmax')(hidden)\n",
    "\n",
    "    rnn_model = Model(inputs=timesteps, outputs=predictions)\n",
    "    rnn_model.compile(loss=sparse_categorical_crossentropy,\n",
    "                  optimizer=Adam(learning_rate, decay=0.01),\n",
    "                  metrics=['accuracy'])\n",
    "    rnn_model.summary()\n",
    "\n",
    "    return rnn_model\n",
    "\n",
    "# tests.test_simple_model(simple_model)\n",
    "\n",
    "\n",
    "# Reshaping the input to work with a basic RNN\n",
    "tmp_x = pad(preproc_english_sentences, preproc_french_sentences.shape[1])\n",
    "tmp_x = tmp_x.reshape((-1, preproc_french_sentences.shape[-2], 1))\n",
    "from keras.utils import to_categorical\n",
    "tmp_x = np.apply_along_axis(lambda x: to_categorical(x, num_classes=len(english_tokenizer.word_index))[0], 2, tmp_x)\n",
    "\n",
    "# Train the neural network\n",
    "simple_rnn_model = simple_model(\n",
    "    tmp_x.shape,\n",
    "    preproc_french_sentences.shape[1],\n",
    "    len(english_tokenizer.word_index),\n",
    "    len(french_tokenizer.word_index))\n",
    "simple_rnn_model.fit(tmp_x, preproc_french_sentences, batch_size=1024, epochs=15, validation_split=0.2)\n",
    "\n",
    "# Print prediction(s)\n",
    "print(logits_to_text(tmp_x[:1][0], english_tokenizer))\n",
    "print(logits_to_text(simple_rnn_model.predict(tmp_x[:1])[0], french_tokenizer))"
   ]
  },
  {
   "cell_type": "markdown",
   "metadata": {
    "deletable": true,
    "editable": true
   },
   "source": [
    "### Model 2: Embedding (IMPLEMENTATION)\n",
    "![RNN](images/embedding.png)\n",
    "You've turned the words into ids, but there's a better representation of a word.  This is called word embeddings.  An embedding is a vector representation of the word that is close to similar words in n-dimensional space, where the n represents the size of the embedding vectors.\n",
    "\n",
    "In this model, you'll create a RNN model using embedding."
   ]
  },
  {
   "cell_type": "code",
   "execution_count": 15,
   "metadata": {
    "collapsed": false,
    "deletable": true,
    "editable": true
   },
   "outputs": [
    {
     "name": "stdout",
     "output_type": "stream",
     "text": [
      "_________________________________________________________________\n",
      "Layer (type)                 Output Shape              Param #   \n",
      "=================================================================\n",
      "input_8 (InputLayer)         (None, 23)                0         \n",
      "_________________________________________________________________\n",
      "embedding_7 (Embedding)      (None, 23, 8)             4496      \n",
      "_________________________________________________________________\n",
      "gru_8 (GRU)                  (None, 23, 64)            14016     \n",
      "_________________________________________________________________\n",
      "dense_8 (Dense)              (None, 23, 563)           36595     \n",
      "=================================================================\n",
      "Total params: 55,107\n",
      "Trainable params: 55,107\n",
      "Non-trainable params: 0\n",
      "_________________________________________________________________\n",
      "Train on 110288 samples, validate on 27573 samples\n",
      "Epoch 1/4\n",
      "110288/110288 [==============================] - 178s - loss: 1.3492 - acc: 0.6719 - val_loss: 0.6409 - val_acc: 0.8095\n",
      "Epoch 2/4\n",
      "110288/110288 [==============================] - 187s - loss: 0.5671 - acc: 0.8269 - val_loss: 0.5190 - val_acc: 0.8380\n",
      "Epoch 3/4\n",
      "110288/110288 [==============================] - 203s - loss: 0.4775 - acc: 0.8515 - val_loss: 0.4590 - val_acc: 0.8596\n",
      "Epoch 4/4\n",
      "110288/110288 [==============================] - 198s - loss: 0.4355 - acc: 0.8649 - val_loss: 0.4219 - val_acc: 0.8695\n",
      "new jersey est parfois calme au automne de l' automne , et est en . . <PAD> <PAD> <PAD> <PAD> <PAD> <PAD> <PAD>\n"
     ]
    }
   ],
   "source": [
    "from keras.layers.embeddings import Embedding\n",
    "\n",
    "\n",
    "def embed_model(input_shape, output_sequence_length, english_vocab_size, french_vocab_size, learning_rate=0.1):\n",
    "    \"\"\"\n",
    "    Build and train a RNN model using word embedding on x and y\n",
    "    :param input_shape: Tuple of input shape\n",
    "    :param output_sequence_length: Length of output sequence\n",
    "    :param english_vocab_size: Number of unique English words in the dataset\n",
    "    :param french_vocab_size: Number of unique French words in the dataset\n",
    "    :return: Keras model built, but not trained\n",
    "    \"\"\"\n",
    "    timesteps = Input(shape=input_shape[1:])\n",
    "    embedding = Embedding(english_vocab_size, 8)(timesteps)\n",
    "    hidden = GRU(64, return_sequences=True)(embedding)\n",
    "    predictions = Dense(french_vocab_size + 1, activation='softmax')(hidden)\n",
    "\n",
    "    embed_rnn_model = Model(inputs=timesteps, outputs=predictions)\n",
    "    embed_rnn_model.compile(loss=sparse_categorical_crossentropy,\n",
    "                  optimizer=Adam(learning_rate, decay=0.01),\n",
    "                  metrics=['accuracy'])\n",
    "    embed_rnn_model.summary()\n",
    "\n",
    "    return embed_rnn_model\n",
    "\n",
    "# tests.test_embed_model(embed_model)\n",
    "\n",
    "tmp_x = pad(preproc_english_sentences, preproc_french_sentences.shape[1])\n",
    "\n",
    "# Train the neural network\n",
    "embedded_rnn_model = embed_model(\n",
    "    tmp_x.shape,\n",
    "    preproc_french_sentences.shape[1],\n",
    "    len(english_tokenizer.word_index),\n",
    "    len(french_tokenizer.word_index))\n",
    "embedded_rnn_model.fit(tmp_x, preproc_french_sentences, batch_size=1024, epochs=4, validation_split=0.2)\n",
    "\n",
    "# Print prediction(s)\n",
    "# print(logits_to_text(tmp_x[:1][0], english_tokenizer))\n",
    "print(logits_to_text(embedded_rnn_model.predict(tmp_x[:1])[0], french_tokenizer))"
   ]
  },
  {
   "cell_type": "markdown",
   "metadata": {
    "deletable": true,
    "editable": true
   },
   "source": [
    "### Model 3: Bidirectional RNNs (IMPLEMENTATION)\n",
    "![RNN](images/bidirectional.png)\n",
    "One restriction of a RNN is that it can't see the future input, only the past.  This is where bidirectional recurrent neural networks come in.  They are able to see the future data."
   ]
  },
  {
   "cell_type": "code",
   "execution_count": null,
   "metadata": {
    "collapsed": false,
    "deletable": true,
    "editable": true
   },
   "outputs": [],
   "source": [
    "from keras.layers import Bidirectional\n",
    "\n",
    "\n",
    "def bd_model(input_shape, output_sequence_length, english_vocab_size, french_vocab_size):\n",
    "    \"\"\"\n",
    "    Build and train a bidirectional RNN model on x and y\n",
    "    :param input_shape: Tuple of input shape\n",
    "    :param output_sequence_length: Length of output sequence\n",
    "    :param english_vocab_size: Number of unique English words in the dataset\n",
    "    :param french_vocab_size: Number of unique French words in the dataset\n",
    "    :return: Keras model built, but not trained\n",
    "    \"\"\"\n",
    "    # TODO: Implement\n",
    "    return None\n",
    "tests.test_bd_model(bd_model)\n",
    "\n",
    "\n",
    "# TODO: Train and Print prediction(s)"
   ]
  },
  {
   "cell_type": "markdown",
   "metadata": {
    "deletable": true,
    "editable": true
   },
   "source": [
    "### Model 4: Encoder-Decoder (OPTIONAL)\n",
    "Time to look at encoder-decoder models.  This model is made up of an encoder and decoder. The encoder creates a matrix representation of the sentence.  The decoder takes this matrix as input and predicts the translation as output.\n",
    "\n",
    "Create an encoder-decoder model in the cell below."
   ]
  },
  {
   "cell_type": "code",
   "execution_count": null,
   "metadata": {
    "collapsed": false,
    "deletable": true,
    "editable": true
   },
   "outputs": [],
   "source": [
    "from keras.layers import RepeatVector\n",
    "\n",
    "\n",
    "def encdec_model(input_shape, output_sequence_length, english_vocab_size, french_vocab_size):\n",
    "    \"\"\"\n",
    "    Build and train an encoder-decoder model on x and y\n",
    "    :param input_shape: Tuple of input shape\n",
    "    :param output_sequence_length: Length of output sequence\n",
    "    :param english_vocab_size: Number of unique English words in the dataset\n",
    "    :param french_vocab_size: Number of unique French words in the dataset\n",
    "    :return: Keras model built, but not trained\n",
    "    \"\"\"\n",
    "    # OPTIONAL: Implement\n",
    "    return None\n",
    "tests.test_encdec_model(encdec_model)\n",
    "\n",
    "\n",
    "# OPTIONAL: Train and Print prediction(s)"
   ]
  },
  {
   "cell_type": "markdown",
   "metadata": {
    "deletable": true,
    "editable": true
   },
   "source": [
    "### Model 5: Custom (IMPLEMENTATION)\n",
    "Use everything you learned from the previous models to create a model that incorporates embedding and a bidirectional rnn into one model."
   ]
  },
  {
   "cell_type": "code",
   "execution_count": null,
   "metadata": {
    "collapsed": false,
    "deletable": true,
    "editable": true
   },
   "outputs": [],
   "source": [
    "def model_final(input_shape, output_sequence_length, english_vocab_size, french_vocab_size):\n",
    "    \"\"\"\n",
    "    Build and train a model that incorporates embedding, encoder-decoder, and bidirectional RNN on x and y\n",
    "    :param input_shape: Tuple of input shape\n",
    "    :param output_sequence_length: Length of output sequence\n",
    "    :param english_vocab_size: Number of unique English words in the dataset\n",
    "    :param french_vocab_size: Number of unique French words in the dataset\n",
    "    :return: Keras model built, but not trained\n",
    "    \"\"\"\n",
    "    # TODO: Implement\n",
    "    return None\n",
    "tests.test_model_final(model_final)\n",
    "\n",
    "\n",
    "print('Final Model Loaded')"
   ]
  },
  {
   "cell_type": "markdown",
   "metadata": {
    "deletable": true,
    "editable": true
   },
   "source": [
    "## Prediction (IMPLEMENTATION)"
   ]
  },
  {
   "cell_type": "code",
   "execution_count": null,
   "metadata": {
    "collapsed": false,
    "deletable": true,
    "editable": true
   },
   "outputs": [],
   "source": [
    "import numpy as np\n",
    "from keras.preprocessing.sequence import pad_sequences\n",
    "\n",
    "\n",
    "def final_predictions(x, y, x_tk, y_tk):\n",
    "    \"\"\"\n",
    "    Gets predictions using the final model\n",
    "    :param x: Preprocessed English data\n",
    "    :param y: Preprocessed French data\n",
    "    :param x_tk: English tokenizer\n",
    "    :param y_tk: French tokenizer\n",
    "    \"\"\"\n",
    "    # TODO: Train neural network using model_final\n",
    "    model = None\n",
    "\n",
    "    \n",
    "    ## DON'T EDIT ANYTHING BELOW THIS LINE\n",
    "    y_id_to_word = {value: key for key, value in y_tk.word_index.items()}\n",
    "    y_id_to_word[0] = '<PAD>'\n",
    "\n",
    "    sentence = 'he saw a old yellow truck'\n",
    "    sentence = [x_tk.word_index[word] for word in sentence.split()]\n",
    "    sentence = pad_sequences([sentence], maxlen=x.shape[-1], padding='post')\n",
    "    sentences = np.array([sentence[0], x[0]])\n",
    "    predictions = model.predict(sentences, len(sentences))\n",
    "\n",
    "    print('Sample 1:')\n",
    "    print(' '.join([y_id_to_word[np.argmax(x)] for x in predictions[0]]))\n",
    "    print('Il a vu un vieux camion jaune')\n",
    "    print('Sample 2:')\n",
    "    print(' '.join([y_id_to_word[np.argmax(x)] for x in predictions[1]]))\n",
    "    print(' '.join([y_id_to_word[np.argmax(x)] for x in y[0]]))\n",
    "\n",
    "\n",
    "final_predictions(preproc_english_sentences, preproc_french_sentences, english_tokenizer, french_tokenizer)"
   ]
  },
  {
   "cell_type": "markdown",
   "metadata": {
    "deletable": true,
    "editable": true
   },
   "source": [
    "## Submission\n",
    "When you are ready to submit your project, do the following steps:\n",
    "1. Ensure you pass all points on the [rubric](https://review.udacity.com/#!/rubrics/1004/view).\n",
    "2. Submit the following in a zip file.\n",
    "  - `helper.py`\n",
    "  - `machine_translation.ipynb`\n",
    "  - `machine_translation.html`\n",
    "    - You can export the notebook by navigating to **File -> Download as -> HTML (.html)**."
   ]
  },
  {
   "cell_type": "code",
   "execution_count": null,
   "metadata": {
    "collapsed": true
   },
   "outputs": [],
   "source": []
  },
  {
   "cell_type": "code",
   "execution_count": null,
   "metadata": {
    "collapsed": true
   },
   "outputs": [],
   "source": []
  },
  {
   "cell_type": "code",
   "execution_count": null,
   "metadata": {
    "collapsed": true
   },
   "outputs": [],
   "source": []
  }
 ],
 "metadata": {
  "anaconda-cloud": {},
  "kernelspec": {
   "display_name": "Python [conda env:aind-nlp-capstone]",
   "language": "python",
   "name": "conda-env-aind-nlp-capstone-py"
  },
  "language_info": {
   "codemirror_mode": {
    "name": "ipython",
    "version": 3
   },
   "file_extension": ".py",
   "mimetype": "text/x-python",
   "name": "python",
   "nbconvert_exporter": "python",
   "pygments_lexer": "ipython3",
   "version": "3.5.3"
  }
 },
 "nbformat": 4,
 "nbformat_minor": 0
}
