{
 "cells": [
  {
   "cell_type": "markdown",
   "metadata": {
    "collapsed": true
   },
   "source": [
    "# Artificial Intelligence Nanodegree\n",
    "## Machine Translation Project\n",
    "In this notebook, sections that end with **'(IMPLEMENTATION)'** in the header indicate that the following blocks of code will require additional functionality which you must provide. Please be sure to read the instructions carefully!\n",
    "\n",
    "## Introduction\n",
    "In this notebook, you will build a deep neural network that functions as part of an end-to-end machine translation pipeline. Your completed pipeline will accept English text as input and return the French translation.\n",
    "\n",
    "- **Preprocess** - You'll convert text to sequence of integers.\n",
    "- **Models** Create models which accepts a sequence of integers as input and returns a probability distribution over possible translations. After learning about the basic types of neural networks that are often used for machine translation, you will engage in your own investigations, to design your own model!\n",
    "- **Prediction** Run the model on English text.\n",
    "\n",
    "## Dataset\n",
    "We begin by investigating the dataset that will be used to train and evaluate your pipeline.  The most common datasets used for machine translation are from [WMT](http://www.statmt.org/).  However, that will take a long time to train a neural network on.  We'll be using a dataset we created for this project that contains a small vocabulary.  You'll be able to train your model in a reasonable time with this dataset.\n",
    "### Load Data\n",
    "The data is located in `data/small_vocab_en` and `data/small_vocab_fr`. The `small_vocab_en` file contains English sentences with their French translations in the `small_vocab_fr` file. Load the English and French data from these files from running the cell below."
   ]
  },
  {
   "cell_type": "code",
   "execution_count": 1,
   "metadata": {},
   "outputs": [
    {
     "name": "stdout",
     "output_type": "stream",
     "text": [
      "Dataset Loaded\n"
     ]
    }
   ],
   "source": [
    "import helper\n",
    "\n",
    "\n",
    "# Load English data\n",
    "english_sentences = helper.load_data('data/small_vocab_en')\n",
    "# Load French data\n",
    "french_sentences = helper.load_data('data/small_vocab_fr')\n",
    "\n",
    "print('Dataset Loaded')"
   ]
  },
  {
   "cell_type": "markdown",
   "metadata": {},
   "source": [
    "### Files\n",
    "Each line in `small_vocab_en` contains an English sentence with the respective translation in each line of `small_vocab_fr`.  View the first two lines from each file."
   ]
  },
  {
   "cell_type": "code",
   "execution_count": 2,
   "metadata": {},
   "outputs": [
    {
     "name": "stdout",
     "output_type": "stream",
     "text": [
      "small_vocab_en Line 1:  new jersey is sometimes quiet during autumn , and it is snowy in april .\n",
      "small_vocab_fr Line 1:  new jersey est parfois calme pendant l' automne , et il est neigeux en avril .\n",
      "small_vocab_en Line 2:  the united states is usually chilly during july , and it is usually freezing in november .\n",
      "small_vocab_fr Line 2:  les états-unis est généralement froid en juillet , et il gèle habituellement en novembre .\n"
     ]
    }
   ],
   "source": [
    "for sample_i in range(2):\n",
    "    print('small_vocab_en Line {}:  {}'.format(sample_i + 1, english_sentences[sample_i]))\n",
    "    print('small_vocab_fr Line {}:  {}'.format(sample_i + 1, french_sentences[sample_i]))"
   ]
  },
  {
   "cell_type": "markdown",
   "metadata": {},
   "source": [
    "From looking at the sentences, you can see they have been preprocessed already.  The puncuations have been delimited using spaces. All the text have been converted to lowercase.  This should save you some time, but the text requires more preprocessing.\n",
    "### Vocabulary\n",
    "The complexity of the problem is determined by the complexity of the vocabulary.  A more complex vocabulary is a more complex problem.  Let's look at the complexity of the dataset we'll be working with."
   ]
  },
  {
   "cell_type": "code",
   "execution_count": 3,
   "metadata": {},
   "outputs": [
    {
     "name": "stdout",
     "output_type": "stream",
     "text": [
      "1823250 English words.\n",
      "227 unique English words.\n",
      "10 Most common words in the English dataset:\n",
      "\"is\" \",\" \".\" \"in\" \"it\" \"during\" \"the\" \"but\" \"and\" \"sometimes\"\n",
      "\n",
      "1961295 French words.\n",
      "355 unique French words.\n",
      "10 Most common words in the French dataset:\n",
      "\"est\" \".\" \",\" \"en\" \"il\" \"les\" \"mais\" \"et\" \"la\" \"parfois\"\n"
     ]
    }
   ],
   "source": [
    "import collections\n",
    "\n",
    "\n",
    "english_words_counter = collections.Counter([word for sentence in english_sentences for word in sentence.split()])\n",
    "french_words_counter = collections.Counter([word for sentence in french_sentences for word in sentence.split()])\n",
    "\n",
    "print('{} English words.'.format(len([word for sentence in english_sentences for word in sentence.split()])))\n",
    "print('{} unique English words.'.format(len(english_words_counter)))\n",
    "print('10 Most common words in the English dataset:')\n",
    "print('\"' + '\" \"'.join(list(zip(*english_words_counter.most_common(10)))[0]) + '\"')\n",
    "print()\n",
    "print('{} French words.'.format(len([word for sentence in french_sentences for word in sentence.split()])))\n",
    "print('{} unique French words.'.format(len(french_words_counter)))\n",
    "print('10 Most common words in the French dataset:')\n",
    "print('\"' + '\" \"'.join(list(zip(*french_words_counter.most_common(10)))[0]) + '\"')"
   ]
  },
  {
   "cell_type": "markdown",
   "metadata": {},
   "source": [
    "For comparison, _Alice's Adventures in Wonderland_ contains 2,766 unique words of a total of 15,500 words.\n",
    "## Preprocess\n",
    "For this project, you won't use text data as input to your model. Instead, you'll convert the text into sequences of integers using the following preprocess methods:\n",
    "1. Tokenize the words into ids\n",
    "2. Add padding to make all the sequences the same length.\n",
    "\n",
    "Time to start preprocessing the data...\n",
    "### Tokenize (IMPLEMENTATION)\n",
    "For a neural network to predict on text data, it first has to be turned into data it can understand. Text data like \"dog\" is a sequence of ASCII character encodings.  Since a neural network is a series of multiplication and addition operations, the input data needs to be number(s).\n",
    "\n",
    "We can turn each character into a number or each word into a number.  These are called character and word ids, respectively.  Character ids are used for character level models that generate text predictions for each character.  A word level model uses word ids that generate text predictions for each word.  Word level models tend to learn better, since they are lower in complexity, so we'll use those.\n",
    "\n",
    "Turn each sentence into a sequence of words ids using Keras's [`Tokenizer`](https://keras.io/preprocessing/text/#tokenizer) function. Use this function to tokenize `english_sentences` and `french_sentences` in the cell below.\n",
    "\n",
    "Running the cell will run `tokenize` on sample data and show output for debugging."
   ]
  },
  {
   "cell_type": "code",
   "execution_count": 4,
   "metadata": {},
   "outputs": [
    {
     "name": "stderr",
     "output_type": "stream",
     "text": [
      "Using TensorFlow backend.\n"
     ]
    },
    {
     "name": "stdout",
     "output_type": "stream",
     "text": [
      "{'habituellement': 136, 'pourraient': 422, 'faire': 558, 'vous': 200, 'was': 208, 'glaciales': 342, 'automobile': 203, 'grand': 437, 'hiver': 78, 'ses': 302, 'chilly': 115, 'fait': 193, \"n'êtes\": 547, 'mild': 117, 'dogs': 448, 'sharks': 449, \"qu'il\": 305, 'a': 188, 'pluies': 320, 'spring': 73, 'clémentes': 373, 'cher': 218, 'january': 75, 'your': 64, 'rendre': 325, 'ours': 398, 'where': 526, 'qui': 552, 'busy': 112, 'où': 528, 'mouillée': 540, 'peaches': 152, 'limes': 145, 'sometimes': 18, 'jaune': 246, 'se': 298, \"qu'elle\": 500, 'cépage': 471, 'lemon.': 378, 'ressort': 549, 'allé': 402, 'go': 217, 'quand': 416, 'field': 476, 'comment': 445, 'favori': 182, 'thinks': 321, 'fruits': 185, 'et': 14, 'trouvé': 556, 'printemps': 74, 'loved.': 293, 'nos': 277, 'states': 55, 'brillant': 279, 'états-unis': 56, \"l'épicerie\": 480, 'monkeys': 453, 'pensez': 472, 'préféré': 32, 'banana': 172, 'envisagent': 537, 'drove': 271, 'durant': 523, 'animal': 178, 'she': 60, 'grande': 299, 'décembre': 96, 'jersey': 35, 'big': 234, 'préférée': 256, 'gros': 357, 'généralement': 25, 'between': 286, 'going': 267, 'avons': 515, 'vit': 548, 'pommes': 137, 'to': 154, 'monkey': 389, 'juillet': 89, 'december': 95, 't': 516, 'they': 189, 'allons': 487, 'de': 40, 'êtes-vous': 509, 'enneigée': 181, 'rusty': 240, \"aren't\": 492, 'difficult': 350, 'peaches.': 303, 'store': 475, 'rouge': 247, 'truck': 204, 'he': 59, '-ce': 432, 'bear': 390, 'relaxant': 123, 'les': 11, 'petit': 329, 'bleu': 297, 'au': 29, 'chats': 465, 'but': 12, 'noire': 278, 'shiny': 245, 'douce': 522, '.': 1, 'have': 527, 'may': 83, 'mes': 344, 'vers': 439, 'elephant': 387, 'lime': 169, 'détend': 550, 'rouillée': 294, 'cheval': 395, 'visiter': 250, 'chaud': 39, 'détestons': 236, 'février': 98, 'ne': 196, '-il': 494, \"l'orange\": 160, 'pourrait': 360, 'vieille': 273, 'next': 211, 'dans': 529, 'want': 421, \"l'\": 24, 'traduction': 348, 'football': 426, 'intention': 371, 'poires': 139, 'been': 493, 'serpents': 464, 'préférées': 521, 'pomme': 159, 'bénigne': 539, 'freezing': 101, 'éléphant': 420, 'prévois': 368, 'en': 5, 'fruit': 16, 'moindres': 542, 'rainy': 116, \"n'aime\": 191, 'liked.': 292, 'beautiful': 103, 'pears': 153, 'new': 31, '-ils': 501, 'grandes': 520, 'rabbit': 391, 'fraises': 140, 'wanted': 318, 'went': 316, 'chaux': 162, 'cats': 451, 'novembre': 93, 'aiment': 226, 'rouille': 498, 'this': 259, 'traduis': 553, 'préférés': 315, 'lion': 314, 'parfois': 19, 'occupée': 253, 'tour': 479, 'aller': 224, 'oranges': 51, \"l'ours\": 463, 'gel': 157, 'plaît': 525, ',': 2, 'mice': 456, '-': 327, 'chinese': 333, 'lemons.': 341, 'strawberries.': 310, 'dislikes': 132, 'pamplemousse': 62, 'veulent': 424, 'cold': 108, 'visit': 222, 'pleasant': 102, 'détendre': 427, 'cette': 221, 'voulait': 361, 'souris': 358, 'loved': 47, 'last': 255, 'translate': 295, 'grapefruit': 63, 'tower': 473, 'envisage': 322, 'snakes': 450, 'dry': 111, 'it': 8, 'prévoyons': 369, 'elephants': 446, 'enneigé': 541, 'mars': 80, 'facile': 355, 'grosse': 403, 'notre': 126, 'apples': 149, 'grape': 168, 'black': 243, 'sèche': 252, 'verte': 275, \"d'\": 155, 'rouillé': 300, 'would': 485, 'magnifique': 429, \"l'oiseau\": 461, 'mouse': 385, 'juin': 72, 'grapefruit.': 282, 'strawberries': 150, 'chine': 58, 'portugais': 337, 'détestez': 518, 'french': 335, 'entre': 288, 'fall': 70, 'que': 266, 'pleut': 283, \"n'aimait\": 284, 'in': 7, 'etats-unis': 546, 'march': 79, 'as-tu': 557, 'prévoient': 440, 'neigeux': 209, 'monde': 406, 'petite': 276, 'cours': 207, 'lapin': 399, 'mango.': 375, 'terrain': 481, 'gelé': 433, 'aimons': 227, 'bananas': 151, 'pousse': 490, 'apples.': 309, 'lake': 477, 'neige': 192, 'ont': 381, 'their': 100, 'prévoit': 441, \"j'aime\": 248, 'red': 239, 'the': 10, 'redoutée': 551, 'redouté': 281, 'summer': 94, 'rabbits': 452, 'vert': 326, 'wonderful': 110, 'allés': 412, 'bananes': 141, 'old': 237, 'poire': 164, 'noir': 319, 'like': 177, 'redoutés': 401, 'grands': 536, 'pear.': 379, 'requin': 394, 'voulez': 531, 'you': 202, 'aimeraient': 532, 'grapes': 148, 'might': 317, 'frais': 513, 'usually': 20, 'relaxing': 120, 'aimait': 263, 'driving': 219, 'leurs': 230, 'nous': 199, 'gelés': 544, \"c'est\": 519, 'blanche': 280, 'un': 264, 'wants': 359, 'avez': 411, 'agréable': 36, 'has': 504, 'sur': 499, 'détestait': 435, 'little': 233, 'why': 364, 'mangoes.': 345, 'singes': 467, 'paris': 33, 'warm': 107, 'moteur': 562, 'préféré.': 301, 'green': 244, 'blanc': 306, 'china': 57, 'lac': 482, 'winter': 77, 'vu': 274, 'think': 363, 'aiment-ils': 535, 'le': 23, 'volant': 410, 'es-tu': 561, 'when': 415, 'english': 334, 'oranges.': 308, 'do': 436, 'october': 105, 'horses': 447, 'pêches': 138, 'my': 65, 'congélation': 524, \"didn't\": 470, 'voiture': 186, 'est': 4, 'occupé': 130, 'éléphants': 457, 'pourquoi': 366, 'camion': 206, 'dernière': 508, 'ce': 215, 'birds': 455, '?': 213, 'school': 478, 'allions': 555, 'aux': 311, 'india': 52, 'plan': 262, 'nouveau': 290, 'conduisait': 265, 'mois': 44, 'leur': 129, \"l'école\": 483, 'i': 194, 'mangue': 156, 'froid': 37, 'eiffel': 425, 'proches': 512, 'été': 82, 'légère': 469, 'veut': 362, 'temps': 496, 'singe': 397, 'portuguese': 332, 'octobre': 104, 'dog': 388, 'verts': 142, 'traduire': 291, 'vais': 510, 'june': 71, 'aimez': 231, 'espagnol': 336, 'pluie': 404, 'most': 41, 'limes.': 346, 'dislike': 180, 'chat': 393, 'calme': 134, 'apple': 170, '-elle': 507, 'aime': 109, 'fun': 351, 'sont': 232, 'conduit': 210, 'car': 205, 'lime.': 408, 'conduite': 543, 'oiseau': 419, 'pas': 179, 'snake': 392, 'grocery': 474, 'animals': 258, 'fruit.': 434, 'californie': 127, 'autumn': 81, \"l'animal\": 484, 'jamais': 22, 'ils': 190, \"l'automne\": 187, 'va': 324, 'brillante': 312, 'sec': 128, 'septembre': 87, 'at': 497, \"n'a\": 533, 'is': 3, 'moins': 27, 'strawberry.': 417, 'our': 99, 'that': 197, 'were': 313, 'pendant': 61, 'manguiers': 514, 'grape.': 414, 'pear': 174, 'orange': 176, 'merveilleux': 119, \"n'aimez\": 229, 'chinois': 338, 'lapins': 466, 'chaude': 225, 'à': 46, 'weather': 495, 'yellow': 238, 'snowy': 106, 'peach.': 377, 'apple.': 380, 'likes': 133, 'comme': 356, 'spanish': 331, \"isn't\": 505, 'pamplemousses': 285, 'does': 503, 'elle': 49, 'hot': 122, 'saw': 268, 'chien': 396, 'lemons': 147, 'am': 506, 'least': 26, 'strawberry': 167, 'favorite.': 249, 'oiseaux': 468, 'august': 113, 'août': 114, 'des': 201, 'pluvieux': 131, 'shark': 383, 'how': 444, 'dernier': 261, 'anglais': 339, 'banane': 163, 'nouvelle': 272, 'mai': 84, 'drives': 270, 'plans': 296, 'banana.': 376, 'la': 17, 'je': 214, 'déteste': 183, 'petits': 534, 'visite': 443, 'tranquille': 216, 'fraise': 165, 'aimé': 30, 'his': 66, 'était': 223, \"l'éléphant\": 460, 'maillot': 407, 'aimés': 367, 'animaux': 260, 'mangues': 144, 'prochain': 212, 'we': 198, 'blue': 241, 'november': 92, 'apprécié': 554, 'voudrait': 511, 'peach': 175, 'plus': 42, 'never': 21, 'wet': 118, 'vos': 370, 'allez': 488, 'liked': 48, 'pears.': 304, 'requins': 462, 'february': 97, 'bird': 384, 'mon': 68, 'mangoes': 146, 'votre': 69, 'tout': 545, 'orange.': 374, 'april': 90, 'mango': 173, 'du': 491, 'amusant': 354, \"n'aiment\": 228, \"it's\": 365, 'favoris': 559, 'avril': 91, 'belle': 195, 'mais': 13, 'raisins': 143, \"n'est\": 486, 'horse': 386, 'voulaient': 423, 'mouillé': 349, 'étaient': 323, 'serpent': 400, 'cet': 347, 'automne': 43, \"n'aimons\": 431, 'une': 220, 'september': 86, 'bears': 454, 'raisin': 158, 'pêche': 166, 'lemon': 171, 'trop': 405, 'easy': 352, 'lui': 442, 'humide': 125, 'frisquet': 254, 'pense': 287, 'nice': 85, 'doux': 124, 'citron': 161, 'july': 88, 'son': 38, 'chiens': 459, 'porcelaine': 517, 'vont': 409, 'france': 34, 'grosses': 538, 'bien': 438, 'vieux': 328, 'chevaux': 458, 'cat': 382, 'souvent': 560, 'il': 6, 'allée': 413, 'translating': 343, 'est-ce': 530, 'and': 15, 'bleue': 289, 'aimé.': 235, 'inde': 53, 'united': 54, 'are': 251, 'aimée': 428, 'her': 67, 'did': 372, 'favorite': 28, 'white': 242, 'petites': 502, 'bananas.': 307, 'feared': 257, 'français': 340, 'janvier': 76, 'lions': 418, 'quiet': 121, 'peu': 489, 'difficile': 353, \"l'automobile\": 430, 'grapes.': 330, 'gèle': 184, 'beau': 135, 'disliked': 269, 'california': 45, 'during': 9, 'citrons': 50}\n",
      "\n",
      "Sequence 1 in x\n",
      "  Input:  The quick brown fox jumps over the lazy dog .\n",
      "  Output: [10, 10, 388, 1]\n",
      "Sequence 2 in x\n",
      "  Input:  By Jove , my quick study of lexicography won a prize .\n",
      "  Output: [2, 65, 188, 1]\n",
      "Sequence 3 in x\n",
      "  Input:  This is a short sentence .\n",
      "  Output: [259, 3, 188, 1]\n"
     ]
    }
   ],
   "source": [
    "import project_tests as tests\n",
    "from keras.preprocessing.text import Tokenizer\n",
    "from itertools import chain\n",
    "from pprint import pprint\n",
    "\n",
    "def tokenize(x):\n",
    "    \"\"\"\n",
    "    Tokenize x\n",
    "    :param x: List of sentences/strings to be tokenized\n",
    "    :return: Tuple of (tokenized x data, tokenizer used to tokenize x)\n",
    "    \"\"\"\n",
    "    small_voc_tokenizer = Tokenizer(filters='')\n",
    "    small_voc_tokenizer.fit_on_texts(chain(iter(english_sentences), iter(french_sentences)))\n",
    "\n",
    "    return small_voc_tokenizer.texts_to_sequences(x), small_voc_tokenizer\n",
    "\n",
    "tests.test_tokenize(tokenize)\n",
    "\n",
    "# Tokenize Example output\n",
    "text_sentences = [\n",
    "    'The quick brown fox jumps over the lazy dog .',\n",
    "    'By Jove , my quick study of lexicography won a prize .',\n",
    "    'This is a short sentence .']\n",
    "text_tokenized, text_tokenizer = tokenize(text_sentences)\n",
    "print(text_tokenizer.word_index)\n",
    "print()\n",
    "for sample_i, (sent, token_sent) in enumerate(zip(text_sentences, text_tokenized)):\n",
    "    print('Sequence {} in x'.format(sample_i + 1))\n",
    "    print('  Input:  {}'.format(sent))\n",
    "    print('  Output: {}'.format(token_sent))"
   ]
  },
  {
   "cell_type": "markdown",
   "metadata": {},
   "source": [
    "### Padding (IMPLEMENTATION)\n",
    "When batching the sequence of word ids together, each sequence needs to be the same length.  Since sentences are dynamic in length, we can add padding to the end of the sequences to make them the same length.\n",
    "\n",
    "Make sure all the English sequences have the same length and all the French sequences have the same length by adding padding to the **end** of each sequence using Keras's [`pad_sequences`](https://keras.io/preprocessing/sequence/#pad_sequences) function."
   ]
  },
  {
   "cell_type": "code",
   "execution_count": 5,
   "metadata": {},
   "outputs": [
    {
     "name": "stdout",
     "output_type": "stream",
     "text": [
      "Sequence 1 in x\n",
      "  Input:  [ 10  10 388   1]\n",
      "  Output: [ 10  10 388   1]\n",
      "Sequence 2 in x\n",
      "  Input:  [  2  65 188   1]\n",
      "  Output: [  2  65 188   1]\n",
      "Sequence 3 in x\n",
      "  Input:  [259   3 188   1]\n",
      "  Output: [259   3 188   1]\n"
     ]
    }
   ],
   "source": [
    "import numpy as np\n",
    "from keras.preprocessing.sequence import pad_sequences\n",
    "\n",
    "\n",
    "def pad(x, length=None):\n",
    "    \"\"\"\n",
    "    Pad x\n",
    "    :param x: List of sequences.\n",
    "    :param length: Length to pad the sequence to.  If None, use length of longest sequence in x.\n",
    "    :return: Padded numpy array of sequences\n",
    "    \"\"\"\n",
    "    maxlen = length if length else max(len(seq) for seq in x)\n",
    "\n",
    "    return pad_sequences(x, maxlen=maxlen, padding='post', truncating='post', value=0)\n",
    "\n",
    "tests.test_pad(pad)\n",
    "\n",
    "# Pad Tokenized output\n",
    "test_pad = pad(text_tokenized)\n",
    "for sample_i, (token_sent, pad_sent) in enumerate(zip(text_tokenized, test_pad)):\n",
    "    print('Sequence {} in x'.format(sample_i + 1))\n",
    "    print('  Input:  {}'.format(np.array(token_sent)))\n",
    "    print('  Output: {}'.format(pad_sent))"
   ]
  },
  {
   "cell_type": "markdown",
   "metadata": {},
   "source": [
    "### Preprocess Pipeline\n",
    "Your focus for this project is to build neural network architecture, so we won't ask you to create a preprocess pipeline.  Instead, we've provided you with the implementation of the `preprocess` function."
   ]
  },
  {
   "cell_type": "code",
   "execution_count": 6,
   "metadata": {},
   "outputs": [
    {
     "name": "stdout",
     "output_type": "stream",
     "text": [
      "Data Preprocessed\n"
     ]
    }
   ],
   "source": [
    "def preprocess(x, y):\n",
    "    \"\"\"\n",
    "    Preprocess x and y\n",
    "    :param x: Feature List of sentences\n",
    "    :param y: Label List of sentences\n",
    "    :return: Tuple of (Preprocessed x, Preprocessed y, x tokenizer, y tokenizer)\n",
    "    \"\"\"\n",
    "    preprocess_x, x_tk = tokenize(x)\n",
    "    preprocess_y, y_tk = tokenize(y)\n",
    "\n",
    "    preprocess_x = pad(preprocess_x)\n",
    "    preprocess_y = pad(preprocess_y)\n",
    "\n",
    "    # Keras's sparse_categorical_crossentropy function requires the labels to be in 3 dimensions\n",
    "    preprocess_y = preprocess_y.reshape(*preprocess_y.shape, 1)\n",
    "\n",
    "    return preprocess_x, preprocess_y, x_tk, y_tk\n",
    "\n",
    "preproc_english_sentences, preproc_french_sentences, english_tokenizer, french_tokenizer =\\\n",
    "    preprocess(english_sentences, french_sentences)\n",
    "\n",
    "print('Data Preprocessed')"
   ]
  },
  {
   "cell_type": "markdown",
   "metadata": {},
   "source": [
    "## Models\n",
    "In this section, you will experiment with various neural network architectures.\n",
    "You will begin by training four relatively simple architectures.\n",
    "- Model 1 is a simple RNN\n",
    "- Model 2 is a RNN with Embedding\n",
    "- Model 3 is a Bidirectional RNN\n",
    "- Model 4 is an optional Encoder-Decoder RNN\n",
    "\n",
    "After experimenting with the four simple architectures, you will construct a deeper architecture that is designed to outperform all four models.\n",
    "### Ids Back to Text\n",
    "The neural network will be translating the input to words ids, which isn't the final form we want.  We want the French translation.  The function `logits_to_text` will bridge the gab between the logits from the neural network to the French translation.  You'll be using this function to better understand the output of the neural network."
   ]
  },
  {
   "cell_type": "code",
   "execution_count": 7,
   "metadata": {},
   "outputs": [
    {
     "name": "stdout",
     "output_type": "stream",
     "text": [
      "`logits_to_text` function loaded.\n"
     ]
    }
   ],
   "source": [
    "def logits_to_text(logits, tokenizer):\n",
    "    \"\"\"\n",
    "    Turn logits from a neural network into text using the tokenizer\n",
    "    :param logits: Logits from a neural network\n",
    "    :param tokenizer: Keras Tokenizer fit on the labels\n",
    "    :return: String that represents the text of the logits\n",
    "    \"\"\"\n",
    "    index_to_words = {id: word for word, id in tokenizer.word_index.items()}\n",
    "    index_to_words[0] = '<PAD>'\n",
    "\n",
    "    return ' '.join([index_to_words[prediction] for prediction in np.argmax(logits, 1)])\n",
    "\n",
    "print('`logits_to_text` function loaded.')"
   ]
  },
  {
   "cell_type": "markdown",
   "metadata": {},
   "source": [
    "### Model 1: RNN (IMPLEMENTATION)\n",
    "![RNN](images/rnn.png)\n",
    "A basic RNN model is a good baseline for sequence data.  In this model, you'll build a RNN that translates English to French."
   ]
  },
  {
   "cell_type": "code",
   "execution_count": 8,
   "metadata": {},
   "outputs": [
    {
     "name": "stdout",
     "output_type": "stream",
     "text": [
      "562\n",
      "562\n",
      "(137861, 23, 562)\n",
      "_________________________________________________________________\n",
      "Layer (type)                 Output Shape              Param #   \n",
      "=================================================================\n",
      "input_1 (InputLayer)         (None, 23, 562)           0         \n",
      "_________________________________________________________________\n",
      "gru_1 (GRU)                  (None, 23, 64)            120384    \n",
      "_________________________________________________________________\n",
      "dense_1 (Dense)              (None, 23, 563)           36595     \n",
      "=================================================================\n",
      "Total params: 156,979\n",
      "Trainable params: 156,979\n",
      "Non-trainable params: 0\n",
      "_________________________________________________________________\n",
      "Train on 110288 samples, validate on 27573 samples\n",
      "Epoch 1/15\n",
      "110288/110288 [==============================] - 27s - loss: 0.9959 - acc: 0.7497 - val_loss: 0.4681 - val_acc: 0.8552\n",
      "Epoch 2/15\n",
      "110288/110288 [==============================] - 22s - loss: 0.4148 - acc: 0.8705 - val_loss: 0.3764 - val_acc: 0.8825\n",
      "Epoch 3/15\n",
      "110288/110288 [==============================] - 22s - loss: 0.3526 - acc: 0.8892 - val_loss: 0.3343 - val_acc: 0.8951\n",
      "Epoch 4/15\n",
      "110288/110288 [==============================] - 22s - loss: 0.3197 - acc: 0.8989 - val_loss: 0.3104 - val_acc: 0.9029\n",
      "Epoch 5/15\n",
      "110288/110288 [==============================] - 22s - loss: 0.3001 - acc: 0.9046 - val_loss: 0.2976 - val_acc: 0.9061\n",
      "Epoch 6/15\n",
      "110288/110288 [==============================] - 21s - loss: 0.2860 - acc: 0.9085 - val_loss: 0.2879 - val_acc: 0.9088\n",
      "Epoch 7/15\n",
      "110288/110288 [==============================] - 20s - loss: 0.2776 - acc: 0.9108 - val_loss: 0.2806 - val_acc: 0.9110\n",
      "Epoch 8/15\n",
      "110288/110288 [==============================] - 22s - loss: 0.2697 - acc: 0.9132 - val_loss: 0.2743 - val_acc: 0.9127\n",
      "Epoch 9/15\n",
      "110288/110288 [==============================] - 21s - loss: 0.2625 - acc: 0.9150 - val_loss: 0.2697 - val_acc: 0.9137\n",
      "Epoch 10/15\n",
      "110288/110288 [==============================] - 20s - loss: 0.2574 - acc: 0.9163 - val_loss: 0.2678 - val_acc: 0.9137\n",
      "Epoch 11/15\n",
      "110288/110288 [==============================] - 22s - loss: 0.2529 - acc: 0.9178 - val_loss: 0.2638 - val_acc: 0.9154\n",
      "Epoch 12/15\n",
      "110288/110288 [==============================] - 21s - loss: 0.2492 - acc: 0.9186 - val_loss: 0.2626 - val_acc: 0.9159\n",
      "Epoch 13/15\n",
      "110288/110288 [==============================] - 20s - loss: 0.2467 - acc: 0.9192 - val_loss: 0.2597 - val_acc: 0.9167\n",
      "Epoch 14/15\n",
      "110288/110288 [==============================] - 22s - loss: 0.2426 - acc: 0.9203 - val_loss: 0.2578 - val_acc: 0.9170\n",
      "Epoch 15/15\n",
      "110288/110288 [==============================] - 21s - loss: 0.2404 - acc: 0.9209 - val_loss: 0.2544 - val_acc: 0.9179\n",
      "new jersey is sometimes quiet during autumn , and it is snowy in april . <PAD> <PAD> <PAD> <PAD> <PAD> <PAD> <PAD> <PAD>\n",
      "new jersey est parfois calme en l' automne , et il est neigeux en avril . <PAD> <PAD> <PAD> <PAD> <PAD> <PAD> <PAD>\n"
     ]
    }
   ],
   "source": [
    "from keras.layers import GRU, Input, Dense, TimeDistributed\n",
    "from keras.models import Model, Sequential\n",
    "from keras.layers import Activation, SimpleRNN\n",
    "from keras.optimizers import Adam\n",
    "from keras.losses import sparse_categorical_crossentropy\n",
    "\n",
    "\n",
    "def simple_model(input_shape, output_sequence_length, english_vocab_size, french_vocab_size, learning_rate=0.1):\n",
    "    \"\"\"\n",
    "    Build and train a basic RNN on x and y\n",
    "    :param input_shape: Tuple of input shape\n",
    "    :param output_sequence_length: Length of output sequence\n",
    "    :param english_vocab_size: Number of unique English words in the dataset\n",
    "    :param french_vocab_size: Number of unique French words in the dataset\n",
    "    :return: Keras model built, but not trained\n",
    "    \"\"\"\n",
    "    print(english_vocab_size)\n",
    "    print(french_vocab_size)\n",
    "    print(input_shape)\n",
    "    timesteps = Input(shape=input_shape[1:])\n",
    "    hidden = GRU(64, return_sequences=True)(timesteps)\n",
    "    predictions = Dense(french_vocab_size + 1, activation='softmax')(hidden)\n",
    "\n",
    "    rnn_model = Model(inputs=timesteps, outputs=predictions)\n",
    "    rnn_model.compile(loss=sparse_categorical_crossentropy,\n",
    "                  optimizer=Adam(learning_rate, decay=0.01),\n",
    "                  metrics=['accuracy'])\n",
    "    rnn_model.summary()\n",
    "\n",
    "    return rnn_model\n",
    "\n",
    "# tests.test_simple_model(simple_model)\n",
    "\n",
    "\n",
    "# Reshaping the input to work with a basic RNN\n",
    "tmp_x = pad(preproc_english_sentences, preproc_french_sentences.shape[1])\n",
    "tmp_x = tmp_x.reshape((-1, preproc_french_sentences.shape[-2], 1))\n",
    "from keras.utils import to_categorical\n",
    "tmp_x = np.apply_along_axis(lambda x: to_categorical(x, num_classes=len(english_tokenizer.word_index))[0], 2, tmp_x)\n",
    "\n",
    "# Train the neural network\n",
    "simple_rnn_model = simple_model(\n",
    "    tmp_x.shape,\n",
    "    preproc_french_sentences.shape[1],\n",
    "    len(english_tokenizer.word_index),\n",
    "    len(french_tokenizer.word_index))\n",
    "simple_rnn_model.fit(tmp_x, preproc_french_sentences, batch_size=1024, epochs=15, validation_split=0.2)\n",
    "\n",
    "# Print prediction(s)\n",
    "print(logits_to_text(tmp_x[:1][0], english_tokenizer))\n",
    "print(logits_to_text(simple_rnn_model.predict(tmp_x[:1])[0], french_tokenizer))"
   ]
  },
  {
   "cell_type": "markdown",
   "metadata": {},
   "source": [
    "### Model 2: Embedding (IMPLEMENTATION)\n",
    "![RNN](images/embedding.png)\n",
    "You've turned the words into ids, but there's a better representation of a word.  This is called word embeddings.  An embedding is a vector representation of the word that is close to similar words in n-dimensional space, where the n represents the size of the embedding vectors.\n",
    "\n",
    "In this model, you'll create a RNN model using embedding."
   ]
  },
  {
   "cell_type": "code",
   "execution_count": 10,
   "metadata": {},
   "outputs": [
    {
     "name": "stdout",
     "output_type": "stream",
     "text": [
      "_________________________________________________________________\n",
      "Layer (type)                 Output Shape              Param #   \n",
      "=================================================================\n",
      "input_3 (InputLayer)         (None, 23)                0         \n",
      "_________________________________________________________________\n",
      "embedding_2 (Embedding)      (None, 23, 8)             4496      \n",
      "_________________________________________________________________\n",
      "gru_3 (GRU)                  (None, 23, 64)            14016     \n",
      "_________________________________________________________________\n",
      "dense_3 (Dense)              (None, 23, 563)           36595     \n",
      "=================================================================\n",
      "Total params: 55,107\n",
      "Trainable params: 55,107\n",
      "Non-trainable params: 0\n",
      "_________________________________________________________________\n",
      "Train on 110288 samples, validate on 27573 samples\n",
      "Epoch 1/15\n",
      "110288/110288 [==============================] - 10s - loss: 1.2707 - acc: 0.6911 - val_loss: 0.6033 - val_acc: 0.8209\n",
      "Epoch 2/15\n",
      "110288/110288 [==============================] - 10s - loss: 0.5359 - acc: 0.8382 - val_loss: 0.4817 - val_acc: 0.8544\n",
      "Epoch 3/15\n",
      "110288/110288 [==============================] - 9s - loss: 0.4546 - acc: 0.8614 - val_loss: 0.4320 - val_acc: 0.8680\n",
      "Epoch 4/15\n",
      "110288/110288 [==============================] - 10s - loss: 0.4156 - acc: 0.8721 - val_loss: 0.4022 - val_acc: 0.8768\n",
      "Epoch 5/15\n",
      "110288/110288 [==============================] - 9s - loss: 0.3930 - acc: 0.8785 - val_loss: 0.3811 - val_acc: 0.8830\n",
      "Epoch 6/15\n",
      "110288/110288 [==============================] - 9s - loss: 0.3735 - acc: 0.8841 - val_loss: 0.3691 - val_acc: 0.8860\n",
      "Epoch 7/15\n",
      "110288/110288 [==============================] - 10s - loss: 0.3599 - acc: 0.8882 - val_loss: 0.3624 - val_acc: 0.8883\n",
      "Epoch 8/15\n",
      "110288/110288 [==============================] - 10s - loss: 0.3497 - acc: 0.8911 - val_loss: 0.3532 - val_acc: 0.8909\n",
      "Epoch 9/15\n",
      "110288/110288 [==============================] - 10s - loss: 0.3391 - acc: 0.8944 - val_loss: 0.3477 - val_acc: 0.8924\n",
      "Epoch 10/15\n",
      "110288/110288 [==============================] - 10s - loss: 0.3328 - acc: 0.8960 - val_loss: 0.3352 - val_acc: 0.8965\n",
      "Epoch 11/15\n",
      "110288/110288 [==============================] - 10s - loss: 0.3266 - acc: 0.8978 - val_loss: 0.3313 - val_acc: 0.8972\n",
      "Epoch 12/15\n",
      "110288/110288 [==============================] - 9s - loss: 0.3204 - acc: 0.8994 - val_loss: 0.3225 - val_acc: 0.8994\n",
      "Epoch 13/15\n",
      "110288/110288 [==============================] - 10s - loss: 0.3142 - acc: 0.9012 - val_loss: 0.3185 - val_acc: 0.9008\n",
      "Epoch 14/15\n",
      "110288/110288 [==============================] - 10s - loss: 0.3112 - acc: 0.9020 - val_loss: 0.3174 - val_acc: 0.9010\n",
      "Epoch 15/15\n",
      "110288/110288 [==============================] - 10s - loss: 0.3088 - acc: 0.9028 - val_loss: 0.3133 - val_acc: 0.9013\n",
      "new jersey est parfois calme en l' automne , et il est neigeux en avril . <PAD> <PAD> <PAD> <PAD> <PAD> <PAD> <PAD>\n"
     ]
    }
   ],
   "source": [
    "from keras.layers.embeddings import Embedding\n",
    "\n",
    "\n",
    "def embed_model(input_shape, output_sequence_length, english_vocab_size, french_vocab_size, learning_rate=0.1):\n",
    "    \"\"\"\n",
    "    Build and train a RNN model using word embedding on x and y\n",
    "    :param input_shape: Tuple of input shape\n",
    "    :param output_sequence_length: Length of output sequence\n",
    "    :param english_vocab_size: Number of unique English words in the dataset\n",
    "    :param french_vocab_size: Number of unique French words in the dataset\n",
    "    :return: Keras model built, but not trained\n",
    "    \"\"\"\n",
    "    timesteps = Input(shape=input_shape[1:])\n",
    "    embedding = Embedding(english_vocab_size, 8)(timesteps)\n",
    "    hidden = GRU(64, return_sequences=True)(embedding)\n",
    "    predictions = Dense(french_vocab_size + 1, activation='softmax')(hidden)\n",
    "\n",
    "    embed_rnn_model = Model(inputs=timesteps, outputs=predictions)\n",
    "    embed_rnn_model.compile(loss=sparse_categorical_crossentropy,\n",
    "                  optimizer=Adam(learning_rate, decay=0.01),\n",
    "                  metrics=['accuracy'])\n",
    "    embed_rnn_model.summary()\n",
    "\n",
    "    return embed_rnn_model\n",
    "\n",
    "# tests.test_embed_model(embed_model)\n",
    "\n",
    "tmp_x = pad(preproc_english_sentences, preproc_french_sentences.shape[1])\n",
    "\n",
    "# Train the neural network\n",
    "embedded_rnn_model = embed_model(\n",
    "    tmp_x.shape,\n",
    "    preproc_french_sentences.shape[1],\n",
    "    len(english_tokenizer.word_index),\n",
    "    len(french_tokenizer.word_index))\n",
    "embedded_rnn_model.fit(tmp_x, preproc_french_sentences, batch_size=1024, epochs=15, validation_split=0.2)\n",
    "\n",
    "# Print prediction(s)\n",
    "# print(logits_to_text(tmp_x[:1][0], english_tokenizer))\n",
    "print(logits_to_text(embedded_rnn_model.predict(tmp_x[:1])[0], french_tokenizer))"
   ]
  },
  {
   "cell_type": "markdown",
   "metadata": {},
   "source": [
    "### Model 3: Bidirectional RNNs (IMPLEMENTATION)\n",
    "![RNN](images/bidirectional.png)\n",
    "One restriction of a RNN is that it can't see the future input, only the past.  This is where bidirectional recurrent neural networks come in.  They are able to see the future data."
   ]
  },
  {
   "cell_type": "code",
   "execution_count": 16,
   "metadata": {},
   "outputs": [
    {
     "name": "stdout",
     "output_type": "stream",
     "text": [
      "562\n",
      "562\n",
      "(137861, 23, 562)\n",
      "_________________________________________________________________\n",
      "Layer (type)                 Output Shape              Param #   \n",
      "=================================================================\n",
      "input_5 (InputLayer)         (None, 23, 562)           0         \n",
      "_________________________________________________________________\n",
      "bidirectional_2 (Bidirection (None, 23, 64)            240768    \n",
      "_________________________________________________________________\n",
      "dense_5 (Dense)              (None, 23, 563)           36595     \n",
      "=================================================================\n",
      "Total params: 277,363\n",
      "Trainable params: 277,363\n",
      "Non-trainable params: 0\n",
      "_________________________________________________________________\n",
      "Train on 110288 samples, validate on 27573 samples\n",
      "Epoch 1/15\n",
      "110288/110288 [==============================] - 25s - loss: 1.3581 - acc: 0.6703 - val_loss: 0.5954 - val_acc: 0.8255\n",
      "Epoch 2/15\n",
      "110288/110288 [==============================] - 24s - loss: 0.4847 - acc: 0.8583 - val_loss: 0.4071 - val_acc: 0.8813s - loss: 0.\n",
      "Epoch 3/15\n",
      "110288/110288 [==============================] - 24s - loss: 0.3683 - acc: 0.8930 - val_loss: 0.3349 - val_acc: 0.9036- loss: 0.3742 - acc: 0.891 - ETA: 4s - loss: 0.3738 - a - ETA: 2s - loss: 0.3713 \n",
      "Epoch 4/15\n",
      "110288/110288 [==============================] - 24s - loss: 0.3163 - acc: 0.9089 - val_loss: 0.3023 - val_acc: 0.9137TA: 8s - loss: 0.3230 - a - ETA: 6s - lo - ETA: 1s - loss: 0.3172 - acc: 0. - ETA: 0s - loss: 0.3168 - acc: 0.\n",
      "Epoch 5/15\n",
      "110288/110288 [==============================] - 24s - loss: 0.2808 - acc: 0.9199 - val_loss: 0.2735 - val_acc: 0.9223.9 - ETA: 8s - loss: 0.2880 - acc: 0.91  - ETA: 0s - loss: 0.2817 - acc: 0.9\n",
      "Epoch 6/15\n",
      "110288/110288 [==============================] - 24s - loss: 0.2560 - acc: 0.9275 - val_loss: 0.2559 - val_acc: 0.9277s - loss: 0.25 - ETA: 2s - loss: 0.2560 - acc: 0. - ETA: 2s - loss: 0.2559 - \n",
      "Epoch 7/15\n",
      "110288/110288 [==============================] - 24s - loss: 0.2394 - acc: 0.9324 - val_loss: 0.2417 - val_acc: 0.9318: 19s -  - ETA: 8s - loss - ETA: 3s - loss: \n",
      "Epoch 8/15\n",
      "110288/110288 [==============================] - 24s - loss: 0.2236 - acc: 0.9373 - val_loss: 0.2315 - val_acc: 0.9349\n",
      "Epoch 9/15\n",
      "110288/110288 [==============================] - 24s - loss: 0.2138 - acc: 0.9401 - val_loss: 0.2201 - val_acc: 0.93871s - loss: 0.2141 - acc: \n",
      "Epoch 10/15\n",
      "110288/110288 [==============================] - 24s - loss: 0.2059 - acc: 0.9425 - val_loss: 0.2179 - val_acc: 0.93912061 - acc:  - ETA: 8 - ETA: 2s - loss: 0.2054 \n",
      "Epoch 11/15\n",
      "110288/110288 [==============================] - 24s - loss: 0.1976 - acc: 0.9448 - val_loss: 0.2098 - val_acc: 0.94191s - loss: 0.1978 - acc: 0.9 - ETA: 0s - loss: 0.1979 - acc: 0.9 - ETA: 0s - loss: 0.1976 - acc: 0.944\n",
      "Epoch 12/15\n",
      "110288/110288 [==============================] - 24s - loss: 0.1901 - acc: 0.9471 - val_loss: 0.2031 - val_acc: 0.9442s - lo - ETA: 5s - loss: 0.1909 - acc: 0.94 - ETA: 5s - loss: 0.1910 - acc - ETA: 3s - loss: 0.1911 - acc - ETA: 2s - loss: 0.1909 - acc: 0 - ETA: 1s - loss: 0.1904 - acc:\n",
      "Epoch 13/15\n",
      "110288/110288 [==============================] - 24s - loss: 0.1849 - acc: 0.9486 - val_loss: 0.2009 - val_acc: 0.9448TA: 5s - loss: 0.1849 - acc: 0.948 - ETA: 5s - loss: 0.1848 - acc: - ETA: 3s - loss: 0.1845 - acc: 0. - ETA: 2s - loss: 0.184\n",
      "Epoch 14/15\n",
      "110288/110288 [==============================] - 24s - loss: 0.1801 - acc: 0.9500 - val_loss: 0.1949 - val_acc: 0.94670.1 - ETA: 3s - loss: 0.1809 - acc: 0.949 - ETA: 3s - loss: 0.\n",
      "Epoch 15/15\n",
      "110288/110288 [==============================] - 24s - loss: 0.1745 - acc: 0.9516 - val_loss: 0.1918 - val_acc: 0.9479s - loss: 0.1720 - acc: 0.95 -  - ETA: 2s - loss: 0.1740 - a - ETA: 0s - loss: 0.1741 - acc: 0.95 - ETA: 0s - loss: 0.1744 - acc: 0.951\n",
      "new jersey is sometimes quiet during autumn , and it is snowy in april . <PAD> <PAD> <PAD> <PAD> <PAD> <PAD> <PAD> <PAD>\n",
      "new jersey est parfois calme pendant l' , , et il est neigeux en avril . <PAD> <PAD> <PAD> <PAD> <PAD> <PAD> <PAD>\n"
     ]
    }
   ],
   "source": [
    "from keras.layers import Bidirectional\n",
    "\n",
    "\n",
    "def bd_model(input_shape, output_sequence_length, english_vocab_size, french_vocab_size, learning_rate=0.1):\n",
    "    \"\"\"\n",
    "    Build and train a bidirectional RNN model on x and y\n",
    "    :param input_shape: Tuple of input shape\n",
    "    :param output_sequence_length: Length of output sequence\n",
    "    :param english_vocab_size: Number of unique English words in the dataset\n",
    "    :param french_vocab_size: Number of unique French words in the dataset\n",
    "    :return: Keras model built, but not trained\n",
    "    \"\"\"\n",
    "    print(english_vocab_size)\n",
    "    print(french_vocab_size)\n",
    "    print(input_shape)\n",
    "\n",
    "    timesteps = Input(shape=input_shape[1:])\n",
    "    gru = GRU(64, return_sequences=True)\n",
    "    hidden = Bidirectional(gru, merge_mode='ave', weights=None)(timesteps)\n",
    "    predictions = Dense(french_vocab_size + 1, activation='softmax')(hidden)\n",
    "\n",
    "    model = Model(inputs=timesteps, outputs=predictions)\n",
    "    model.compile(loss=sparse_categorical_crossentropy,\n",
    "                  optimizer=Adam(learning_rate, decay=0.01),\n",
    "                  metrics=['accuracy'])\n",
    "    model.summary()\n",
    "\n",
    "    return model\n",
    "\n",
    "# tests.test_bd_model(bd_model)\n",
    "\n",
    "# Reshaping the input to work with a basic RNN\n",
    "tmp_x = pad(preproc_english_sentences, preproc_french_sentences.shape[1])\n",
    "tmp_x = tmp_x.reshape((-1, preproc_french_sentences.shape[-2], 1))\n",
    "from keras.utils import to_categorical\n",
    "tmp_x = np.apply_along_axis(lambda x: to_categorical(x, num_classes=len(english_tokenizer.word_index))[0], 2, tmp_x)\n",
    "\n",
    "# Train the neural network\n",
    "bidirect_model = bd_model(\n",
    "    tmp_x.shape,\n",
    "    preproc_french_sentences.shape[1],\n",
    "    len(english_tokenizer.word_index),\n",
    "    len(french_tokenizer.word_index))\n",
    "bidirect_model.fit(tmp_x, preproc_french_sentences, batch_size=1024, epochs=15, validation_split=0.2)\n",
    "\n",
    "# Print prediction(s)\n",
    "print(logits_to_text(tmp_x[:1][0], english_tokenizer))\n",
    "print(logits_to_text(bidirect_model.predict(tmp_x[:1])[0], french_tokenizer))"
   ]
  },
  {
   "cell_type": "markdown",
   "metadata": {},
   "source": [
    "### Model 4: Encoder-Decoder (OPTIONAL)\n",
    "Time to look at encoder-decoder models.  This model is made up of an encoder and decoder. The encoder creates a matrix representation of the sentence.  The decoder takes this matrix as input and predicts the translation as output.\n",
    "\n",
    "Create an encoder-decoder model in the cell below."
   ]
  },
  {
   "cell_type": "code",
   "execution_count": null,
   "metadata": {},
   "outputs": [],
   "source": [
    "from keras.layers import RepeatVector\n",
    "\n",
    "\n",
    "def encdec_model(input_shape, output_sequence_length, english_vocab_size, french_vocab_size):\n",
    "    \"\"\"\n",
    "    Build and train an encoder-decoder model on x and y\n",
    "    :param input_shape: Tuple of input shape\n",
    "    :param output_sequence_length: Length of output sequence\n",
    "    :param english_vocab_size: Number of unique English words in the dataset\n",
    "    :param french_vocab_size: Number of unique French words in the dataset\n",
    "    :return: Keras model built, but not trained\n",
    "    \"\"\"\n",
    "    # OPTIONAL: Implement\n",
    "    return None\n",
    "tests.test_encdec_model(encdec_model)\n",
    "\n",
    "\n",
    "# OPTIONAL: Train and Print prediction(s)"
   ]
  },
  {
   "cell_type": "markdown",
   "metadata": {},
   "source": [
    "### Model 5: Custom (IMPLEMENTATION)\n",
    "Use everything you learned from the previous models to create a model that incorporates embedding and a bidirectional rnn into one model."
   ]
  },
  {
   "cell_type": "code",
   "execution_count": null,
   "metadata": {},
   "outputs": [
    {
     "name": "stdout",
     "output_type": "stream",
     "text": [
      "_________________________________________________________________\n",
      "Layer (type)                 Output Shape              Param #   \n",
      "=================================================================\n",
      "input_8 (InputLayer)         (None, 23)                0         \n",
      "_________________________________________________________________\n",
      "embedding_5 (Embedding)      (None, 23, 8)             4496      \n",
      "_________________________________________________________________\n",
      "bidirectional_5 (Bidirection (None, 23, 64)            28032     \n",
      "_________________________________________________________________\n",
      "dense_7 (Dense)              (None, 23, 563)           36595     \n",
      "=================================================================\n",
      "Total params: 69,123\n",
      "Trainable params: 69,123\n",
      "Non-trainable params: 0\n",
      "_________________________________________________________________\n",
      "Train on 110288 samples, validate on 27573 samples\n",
      "Epoch 1/15\n",
      "110288/110288 [==============================] - 14s - loss: 1.7984 - acc: 0.5817 - val_loss: 1.0496 - val_acc: 0.7177\n",
      "Epoch 2/15\n",
      "110288/110288 [==============================] - 13s - loss: 0.9172 - acc: 0.7457 - val_loss: 0.8034 - val_acc: 0.7725\n",
      "Epoch 3/15\n",
      "110288/110288 [==============================] - 13s - loss: 0.7466 - acc: 0.7862 - val_loss: 0.6923 - val_acc: 0.7999\n",
      "Epoch 4/15\n",
      "110288/110288 [==============================] - 13s - loss: 0.6653 - acc: 0.8088 - val_loss: 0.6347 - val_acc: 0.8187\n",
      "Epoch 5/15\n",
      "110288/110288 [==============================] - 13s - loss: 0.6144 - acc: 0.8249 - val_loss: 0.5873 - val_acc: 0.8331\n",
      "Epoch 6/15\n",
      "110288/110288 [==============================] - 13s - loss: 0.5788 - acc: 0.8351 - val_loss: 0.5631 - val_acc: 0.8400\n",
      "Epoch 7/15\n",
      "110288/110288 [==============================] - 13s - loss: 0.5590 - acc: 0.8412 - val_loss: 0.5439 - val_acc: 0.8447\n",
      "Epoch 8/15\n",
      "110288/110288 [==============================] - 13s - loss: 0.5374 - acc: 0.8470 - val_loss: 0.5277 - val_acc: 0.8496\n",
      "Epoch 9/15\n",
      " 17408/110288 [===>..........................] - ETA: 10s - loss: 0.5214 - acc: 0.8514"
     ]
    }
   ],
   "source": [
    "def model_final(input_shape, output_sequence_length, english_vocab_size, french_vocab_size, learning_rate=0.1):\n",
    "    \"\"\"\n",
    "    Build and train a model that incorporates embedding, encoder-decoder, and bidirectional RNN on x and y\n",
    "    :param input_shape: Tuple of input shape\n",
    "    :param output_sequence_length: Length of output sequence\n",
    "    :param english_vocab_size: Number of unique English words in the dataset\n",
    "    :param french_vocab_size: Number of unique French words in the dataset\n",
    "    :return: Keras model built, but not trained\n",
    "    \"\"\"\n",
    "\n",
    "    timesteps = Input(shape=input_shape[1:])\n",
    "    embedding = Embedding(english_vocab_size, 8)(timesteps)\n",
    "    gru = GRU(64, return_sequences=True)\n",
    "    hidden = Bidirectional(gru, merge_mode='ave', weights=None)(embedding)\n",
    "    predictions = Dense(french_vocab_size + 1, activation='softmax')(hidden)\n",
    "\n",
    "    model = Model(inputs=timesteps, outputs=predictions)\n",
    "    model.compile(loss=sparse_categorical_crossentropy,\n",
    "                  optimizer=Adam(learning_rate, decay=0.01),\n",
    "                  metrics=['accuracy'])\n",
    "    model.summary()\n",
    "\n",
    "    return model\n",
    "\n",
    "# tests.test_model_final(model_final)\n",
    "\n",
    "# Reshaping the input to work with a basic RNN\n",
    "tmp_x = pad(preproc_english_sentences, preproc_french_sentences.shape[1])\n",
    "\n",
    "# Train the neural network\n",
    "bidirect_emb_model = model_final(\n",
    "    tmp_x.shape,\n",
    "    preproc_french_sentences.shape[1],\n",
    "    len(english_tokenizer.word_index),\n",
    "    len(french_tokenizer.word_index))\n",
    "bidirect_emb_model.fit(tmp_x, preproc_french_sentences, batch_size=1024, epochs=15, validation_split=0.2)\n",
    "\n",
    "# Print prediction(s)\n",
    "print(logits_to_text(tmp_x[:1][0], english_tokenizer))\n",
    "print(logits_to_text(bidirect_emb_model.predict(tmp_x[:1])[0], french_tokenizer))\n",
    "\n",
    "\n",
    "print('Final Model Loaded')"
   ]
  },
  {
   "cell_type": "markdown",
   "metadata": {},
   "source": [
    "## Prediction (IMPLEMENTATION)"
   ]
  },
  {
   "cell_type": "code",
   "execution_count": null,
   "metadata": {},
   "outputs": [],
   "source": [
    "import numpy as np\n",
    "from keras.preprocessing.sequence import pad_sequences\n",
    "\n",
    "\n",
    "def final_predictions(x, y, x_tk, y_tk):\n",
    "    \"\"\"\n",
    "    Gets predictions using the final model\n",
    "    :param x: Preprocessed English data\n",
    "    :param y: Preprocessed French data\n",
    "    :param x_tk: English tokenizer\n",
    "    :param y_tk: French tokenizer\n",
    "    \"\"\"\n",
    "    # TODO: Train neural network using model_final\n",
    "    model = None\n",
    "\n",
    "    \n",
    "    ## DON'T EDIT ANYTHING BELOW THIS LINE\n",
    "    y_id_to_word = {value: key for key, value in y_tk.word_index.items()}\n",
    "    y_id_to_word[0] = '<PAD>'\n",
    "\n",
    "    sentence = 'he saw a old yellow truck'\n",
    "    sentence = [x_tk.word_index[word] for word in sentence.split()]\n",
    "    sentence = pad_sequences([sentence], maxlen=x.shape[-1], padding='post')\n",
    "    sentences = np.array([sentence[0], x[0]])\n",
    "    predictions = model.predict(sentences, len(sentences))\n",
    "\n",
    "    print('Sample 1:')\n",
    "    print(' '.join([y_id_to_word[np.argmax(x)] for x in predictions[0]]))\n",
    "    print('Il a vu un vieux camion jaune')\n",
    "    print('Sample 2:')\n",
    "    print(' '.join([y_id_to_word[np.argmax(x)] for x in predictions[1]]))\n",
    "    print(' '.join([y_id_to_word[np.argmax(x)] for x in y[0]]))\n",
    "\n",
    "\n",
    "final_predictions(preproc_english_sentences, preproc_french_sentences, english_tokenizer, french_tokenizer)"
   ]
  },
  {
   "cell_type": "markdown",
   "metadata": {},
   "source": [
    "## Submission\n",
    "When you are ready to submit your project, do the following steps:\n",
    "1. Ensure you pass all points on the [rubric](https://review.udacity.com/#!/rubrics/1004/view).\n",
    "2. Submit the following in a zip file.\n",
    "  - `helper.py`\n",
    "  - `machine_translation.ipynb`\n",
    "  - `machine_translation.html`\n",
    "    - You can export the notebook by navigating to **File -> Download as -> HTML (.html)**."
   ]
  },
  {
   "cell_type": "code",
   "execution_count": null,
   "metadata": {
    "collapsed": true
   },
   "outputs": [],
   "source": []
  },
  {
   "cell_type": "code",
   "execution_count": null,
   "metadata": {
    "collapsed": true
   },
   "outputs": [],
   "source": []
  },
  {
   "cell_type": "code",
   "execution_count": null,
   "metadata": {
    "collapsed": true
   },
   "outputs": [],
   "source": []
  }
 ],
 "metadata": {
  "anaconda-cloud": {},
  "kernelspec": {
   "display_name": "Python [conda env:aind-nlp-capstone]",
   "language": "python",
   "name": "conda-env-aind-nlp-capstone-py"
  },
  "language_info": {
   "codemirror_mode": {
    "name": "ipython",
    "version": 3
   },
   "file_extension": ".py",
   "mimetype": "text/x-python",
   "name": "python",
   "nbconvert_exporter": "python",
   "pygments_lexer": "ipython3",
   "version": "3.5.3"
  }
 },
 "nbformat": 4,
 "nbformat_minor": 1
}
