{
 "cells": [
  {
   "cell_type": "markdown",
   "metadata": {
    "collapsed": true
   },
   "source": [
    "# Artificial Intelligence Nanodegree\n",
    "## Machine Translation Project\n",
    "In this notebook, sections that end with **'(IMPLEMENTATION)'** in the header indicate that the following blocks of code will require additional functionality which you must provide. Please be sure to read the instructions carefully!\n",
    "\n",
    "## Introduction\n",
    "In this notebook, you will build a deep neural network that functions as part of an end-to-end machine translation pipeline. Your completed pipeline will accept English text as input and return the French translation.\n",
    "\n",
    "- **Preprocess** - You'll convert text to sequence of integers.\n",
    "- **Models** Create models which accepts a sequence of integers as input and returns a probability distribution over possible translations. After learning about the basic types of neural networks that are often used for machine translation, you will engage in your own investigations, to design your own model!\n",
    "- **Prediction** Run the model on English text.\n",
    "\n",
    "## Dataset\n",
    "We begin by investigating the dataset that will be used to train and evaluate your pipeline.  The most common datasets used for machine translation are from [WMT](http://www.statmt.org/).  However, that will take a long time to train a neural network on.  We'll be using a dataset we created for this project that contains a small vocabulary.  You'll be able to train your model in a reasonable time with this dataset.\n",
    "### Load Data\n",
    "The data is located in `data/small_vocab_en` and `data/small_vocab_fr`. The `small_vocab_en` file contains English sentences with their French translations in the `small_vocab_fr` file. Load the English and French data from these files from running the cell below."
   ]
  },
  {
   "cell_type": "code",
   "execution_count": 1,
   "metadata": {},
   "outputs": [
    {
     "name": "stdout",
     "output_type": "stream",
     "text": [
      "Dataset Loaded\n"
     ]
    }
   ],
   "source": [
    "import helper\n",
    "\n",
    "\n",
    "# Load English data\n",
    "english_sentences = helper.load_data('data/small_vocab_en')\n",
    "# Load French data\n",
    "french_sentences = helper.load_data('data/small_vocab_fr')\n",
    "\n",
    "print('Dataset Loaded')"
   ]
  },
  {
   "cell_type": "markdown",
   "metadata": {},
   "source": [
    "### Files\n",
    "Each line in `small_vocab_en` contains an English sentence with the respective translation in each line of `small_vocab_fr`.  View the first two lines from each file."
   ]
  },
  {
   "cell_type": "code",
   "execution_count": 2,
   "metadata": {},
   "outputs": [
    {
     "name": "stdout",
     "output_type": "stream",
     "text": [
      "small_vocab_en Line 1:  new jersey is sometimes quiet during autumn , and it is snowy in april .\n",
      "small_vocab_fr Line 1:  new jersey est parfois calme pendant l' automne , et il est neigeux en avril .\n",
      "small_vocab_en Line 2:  the united states is usually chilly during july , and it is usually freezing in november .\n",
      "small_vocab_fr Line 2:  les états-unis est généralement froid en juillet , et il gèle habituellement en novembre .\n"
     ]
    }
   ],
   "source": [
    "for sample_i in range(2):\n",
    "    print('small_vocab_en Line {}:  {}'.format(sample_i + 1, english_sentences[sample_i]))\n",
    "    print('small_vocab_fr Line {}:  {}'.format(sample_i + 1, french_sentences[sample_i]))"
   ]
  },
  {
   "cell_type": "markdown",
   "metadata": {},
   "source": [
    "From looking at the sentences, you can see they have been preprocessed already.  The puncuations have been delimited using spaces. All the text have been converted to lowercase.  This should save you some time, but the text requires more preprocessing.\n",
    "### Vocabulary\n",
    "The complexity of the problem is determined by the complexity of the vocabulary.  A more complex vocabulary is a more complex problem.  Let's look at the complexity of the dataset we'll be working with."
   ]
  },
  {
   "cell_type": "code",
   "execution_count": 3,
   "metadata": {},
   "outputs": [
    {
     "name": "stdout",
     "output_type": "stream",
     "text": [
      "1823250 English words.\n",
      "227 unique English words.\n",
      "10 Most common words in the English dataset:\n",
      "\"is\" \",\" \".\" \"in\" \"it\" \"during\" \"the\" \"but\" \"and\" \"sometimes\"\n",
      "\n",
      "1961295 French words.\n",
      "355 unique French words.\n",
      "10 Most common words in the French dataset:\n",
      "\"est\" \".\" \",\" \"en\" \"il\" \"les\" \"mais\" \"et\" \"la\" \"parfois\"\n"
     ]
    }
   ],
   "source": [
    "import collections\n",
    "\n",
    "\n",
    "english_words_counter = collections.Counter([word for sentence in english_sentences for word in sentence.split()])\n",
    "french_words_counter = collections.Counter([word for sentence in french_sentences for word in sentence.split()])\n",
    "\n",
    "print('{} English words.'.format(len([word for sentence in english_sentences for word in sentence.split()])))\n",
    "print('{} unique English words.'.format(len(english_words_counter)))\n",
    "print('10 Most common words in the English dataset:')\n",
    "print('\"' + '\" \"'.join(list(zip(*english_words_counter.most_common(10)))[0]) + '\"')\n",
    "print()\n",
    "print('{} French words.'.format(len([word for sentence in french_sentences for word in sentence.split()])))\n",
    "print('{} unique French words.'.format(len(french_words_counter)))\n",
    "print('10 Most common words in the French dataset:')\n",
    "print('\"' + '\" \"'.join(list(zip(*french_words_counter.most_common(10)))[0]) + '\"')"
   ]
  },
  {
   "cell_type": "markdown",
   "metadata": {},
   "source": [
    "For comparison, _Alice's Adventures in Wonderland_ contains 2,766 unique words of a total of 15,500 words.\n",
    "## Preprocess\n",
    "For this project, you won't use text data as input to your model. Instead, you'll convert the text into sequences of integers using the following preprocess methods:\n",
    "1. Tokenize the words into ids\n",
    "2. Add padding to make all the sequences the same length.\n",
    "\n",
    "Time to start preprocessing the data...\n",
    "### Tokenize (IMPLEMENTATION)\n",
    "For a neural network to predict on text data, it first has to be turned into data it can understand. Text data like \"dog\" is a sequence of ASCII character encodings.  Since a neural network is a series of multiplication and addition operations, the input data needs to be number(s).\n",
    "\n",
    "We can turn each character into a number or each word into a number.  These are called character and word ids, respectively.  Character ids are used for character level models that generate text predictions for each character.  A word level model uses word ids that generate text predictions for each word.  Word level models tend to learn better, since they are lower in complexity, so we'll use those.\n",
    "\n",
    "Turn each sentence into a sequence of words ids using Keras's [`Tokenizer`](https://keras.io/preprocessing/text/#tokenizer) function. Use this function to tokenize `english_sentences` and `french_sentences` in the cell below.\n",
    "\n",
    "Running the cell will run `tokenize` on sample data and show output for debugging."
   ]
  },
  {
   "cell_type": "code",
   "execution_count": 4,
   "metadata": {},
   "outputs": [
    {
     "name": "stderr",
     "output_type": "stream",
     "text": [
      "Using TensorFlow backend.\n"
     ]
    },
    {
     "name": "stdout",
     "output_type": "stream",
     "text": [
      "{'summer': 94, 'have': 527, 'during': 9, 'trouvé': 556, 'orange': 176, 'pousse': 490, 'enneigée': 181, 'we': 198, 'voulez': 531, 'voiture': 186, 'animal': 178, 'intention': 371, 'green': 244, 'dislikes': 132, 'pomme': 159, 'grapes': 148, 'plan': 262, 'éléphants': 457, \"n'êtes\": 547, 'beautiful': 103, \"d'\": 155, 'aux': 311, \"l'éléphant\": 460, 'july': 88, 'you': 202, '-ils': 501, \"n'aiment\": 228, 'strawberries.': 310, 'bananas.': 307, 'was': 208, 'quiet': 121, \"j'aime\": 248, 'octobre': 104, \"l'oiseau\": 461, 'this': 259, 'aimé': 30, 'monkey': 389, 'à': 46, 'august': 113, 'cheval': 395, 'relaxing': 120, \"l'automobile\": 430, 'pluvieux': 131, 'est-ce': 530, 'little': 233, 'mes': 344, 'think': 363, 'grosse': 403, 'are': 251, 'prévoient': 440, 'strawberry': 167, 'they': 189, 'mouillée': 540, 'mangoes': 146, 'vu': 274, 'temps': 496, 'est': 4, 'favori': 182, \"n'est\": 486, 'poires': 139, 'requin': 394, 'loved.': 293, 'snakes': 450, 'yellow': 238, 'chine': 58, 'vais': 510, 'bananes': 141, 'bleue': 289, 'it': 8, 'cette': 221, \"c'est\": 519, 'elephant': 387, 'drives': 270, 'citron': 161, 'manguiers': 514, 'janvier': 76, 'il': 6, 'mangues': 144, 'mais': 13, 'apple.': 380, 'sec': 128, 'elle': 49, 'déteste': 183, 'fruit': 16, '-ce': 432, 'frais': 513, 'spanish': 331, 'raisin': 158, 'fraise': 165, 'nouveau': 290, 'rouillée': 294, 'leur': 129, 'verte': 275, 'lions': 418, 'like': 177, 'lemon': 171, 'birds': 455, 'weather': 495, 'pourrait': 360, 'least': 26, 'voudrait': 511, 'redouté': 281, 'mango.': 375, \"it's\": 365, 'wet': 118, 'blue': 241, 'sont': 232, 'mangue': 156, 'peach.': 377, 'india': 52, 'calme': 134, 'rusty': 240, 'gel': 157, 'petits': 534, 'faire': 558, 'peaches': 152, \"l'automne\": 187, \"didn't\": 470, 'pourraient': 422, 'plans': 296, 'je': 214, 'easy': 352, 'leurs': 230, 'cépage': 471, 'hiver': 78, 'pear': 174, 'cet': 347, '-elle': 507, 'aiment-ils': 535, 'vos': 370, 'tour': 479, 'grapes.': 330, 'juillet': 89, 'most': 41, 'traduction': 348, 'préférées': 521, 'souris': 358, 'amusant': 354, 'votre': 69, 'fall': 70, 'pas': 179, 'where': 526, 'france': 34, 'pleut': 283, 'march': 79, 'noire': 278, 'dans': 529, 'aimés': 367, 'september': 86, 'nice': 85, 'rabbits': 452, 'bien': 438, 'le': 23, 'bear': 390, \"l'animal\": 484, 'horse': 386, '?': 213, 'maillot': 407, 'mois': 44, 'strawberries': 150, 'banana': 172, 'êtes-vous': 509, 'voulait': 361, 'disliked': 269, 'veulent': 424, 'may': 83, 'bird': 384, 'apples': 149, 'lime.': 408, 'habituellement': 136, 'enneigé': 541, 'brillante': 312, 'the': 10, 'occupé': 130, 'ont': 381, 'visite': 443, 'liked.': 292, 'brillant': 279, 'united': 54, 'prévoyons': 369, 'december': 95, 'serpent': 400, 'comment': 445, 'était': 223, 'glaciales': 342, 'veut': 362, 'snowy': 106, 'moteur': 562, 'november': 92, 'california': 45, 'dernier': 261, 'jaune': 246, 'our': 99, 'merveilleux': 119, 'a': 188, 'lemons': 147, 'moins': 27, 'allé': 402, 'aime': 109, 'vieille': 273, 'gèle': 184, 'snake': 392, 'truck': 204, 'envisagent': 537, 'trop': 405, 'shiny': 245, 'store': 475, 'neigeux': 209, 'chat': 393, 'tout': 545, 'vieux': 328, 'humide': 125, 'sèche': 252, 'chaud': 39, 'que': 266, 'spring': 73, 'pear.': 379, 'blanc': 306, 'allée': 413, 'rainy': 116, 'sur': 499, 'october': 105, 'cher': 218, 'limes': 145, \"aren't\": 492, 'dislike': 180, 'fait': 193, 'school': 478, '-il': 494, 'gelé': 433, 'etats-unis': 546, 'es-tu': 561, 'pamplemousse': 62, 'mouillé': 349, 'facile': 355, 'february': 97, 'jamais': 22, 'inde': 53, 'football': 426, 'rendre': 325, 'apprécié': 554, 'magnifique': 429, 'les': 11, 'monde': 406, 'fraises': 140, 'ours': 398, 'china': 57, 'april': 90, 'bleu': 297, 'lapin': 399, 'your': 64, 'pleasant': 102, 'lapins': 466, 'big': 234, 'camion': 206, 'allés': 412, 'does': 503, 'likes': 133, 'préférés': 315, 'aimez': 231, 'où': 528, 'chinois': 338, 'visiter': 250, 'automobile': 203, 'lime': 169, 'légère': 469, 'feared': 257, 'oranges': 51, 'détestons': 236, 'pense': 287, 'favorite': 28, 'mangoes.': 345, 'requins': 462, 'espagnol': 336, 'pendant': 61, 'freezing': 101, 'entre': 288, 'at': 497, \"l'ours\": 463, 'français': 340, 'liked': 48, 'their': 100, 'qui': 552, 'difficult': 350, 'petite': 276, 'jersey': 35, 'durant': 523, 'red': 239, 'avons': 515, 'grocery': 474, 'redoutée': 551, 'verts': 142, 'singe': 397, 'favoris': 559, 'eiffel': 425, 'grande': 299, 'am': 506, 'vont': 409, 'his': 66, 'busy': 112, 'black': 243, 'old': 237, 'chaux': 162, 'grape.': 414, 'détestez': 518, 'septembre': 87, 'cold': 108, 'va': 324, 'ils': 190, 'driving': 219, 'petites': 502, 'oiseaux': 468, 'chevaux': 458, 'winter': 77, 'gelés': 544, 'belle': 195, 'sometimes': 18, 'tower': 473, 'juin': 72, 'vit': 548, 'neige': 192, 'détestait': 435, 'aimée': 428, 'anglais': 339, 'mild': 117, 'bears': 454, 'new': 31, 'rouillé': 300, 'nous': 199, 'might': 317, 'son': 38, 'aimait': 263, 'strawberry.': 417, 'gros': 357, 'étaient': 323, 'would': 485, 'pamplemousses': 285, 'field': 476, 'pears': 153, 'has': 504, 'lui': 442, 'souvent': 560, \"n'aimons\": 431, 'décembre': 96, 'se': 298, 'nos': 277, 'pommes': 137, 'envisage': 322, 'mai': 84, 'ne': 196, 'dernière': 508, 'novembre': 93, 'limes.': 346, 'quand': 416, 'californie': 127, 'january': 75, \"n'a\": 533, 'want': 421, 'how': 444, 'fun': 351, 'vous': 200, 'rabbit': 391, 'paris': 33, 'prochain': 212, 'french': 335, 'been': 493, ',': 2, 'going': 267, 'lake': 477, 'en': 5, 'wanted': 318, 'parfois': 19, 'but': 12, 'plus': 42, 'favorite.': 249, 'préférée': 256, 'singes': 467, 'states': 55, 'dogs': 448, 'chilly': 115, 'février': 98, 'prévois': 368, \"l'école\": 483, 'pears.': 304, \"n'aime\": 191, 'aller': 224, 'bénigne': 539, 'été': 82, 'de': 40, 'conduite': 543, 'to': 154, 'loved': 47, 'ses': 302, 'animals': 258, 'allez': 488, 'wants': 359, 'why': 364, 'oiseau': 419, 'in': 7, 'lac': 482, \"qu'elle\": 500, 'agréable': 36, 't': 516, 'aimeraient': 532, 'froid': 37, 'autumn': 81, 'généralement': 25, 'états-unis': 56, 'douce': 522, 'saw': 268, 'warm': 107, 'noir': 319, \"l'épicerie\": 480, 'were': 313, 'un': 264, 'between': 286, 'lemons.': 341, 'nouvelle': 272, 'animaux': 260, \"l'\": 24, 'peu': 489, 'mice': 456, 'and': 15, 'la': 17, 'wonderful': 110, 'notre': 126, 'avez': 411, 'usually': 20, 'when': 415, 'aimé.': 235, 'beau': 135, 'oranges.': 308, 'visit': 222, 'comme': 356, 'grandes': 520, 'petit': 329, 'pêche': 166, 'peach': 175, 'une': 220, 'elephants': 446, 'ce': 215, 'he': 59, 'rouille': 498, 'portugais': 337, 'cat': 382, 'congélation': 524, 'des': 201, 'orange.': 374, 'pluies': 320, 'difficile': 353, 'volant': 410, 'doux': 124, 'apple': 170, 'portuguese': 332, \"l'orange\": 160, 'grapefruit': 63, \"n'aimez\": 229, 'chiens': 459, 'poire': 164, 'traduis': 553, 'grands': 536, 'translating': 343, 'monkeys': 453, 'grand': 437, '.': 1, 'lion': 314, 'banane': 163, 'automne': 43, 'printemps': 74, 'prévoit': 441, 'citrons': 50, 'my': 65, 'apples.': 309, 'never': 21, 'clémentes': 373, 'occupée': 253, 'car': 205, 'préféré.': 301, 'vers': 439, 'moindres': 542, 'did': 372, \"n'aimait\": 284, 'i': 194, \"isn't\": 505, 'au': 29, 'mango': 173, 'aiment': 226, '-': 327, 'mouse': 385, 'plaît': 525, 'pluie': 404, 'her': 67, 'peaches.': 303, 'rouge': 247, 'terrain': 481, 'chinese': 333, 'thinks': 321, 'préféré': 32, 'redoutés': 401, 'last': 255, 'pourquoi': 366, 'serpents': 464, 'she': 60, 'détend': 550, 'du': 491, 'cats': 451, 'that': 197, 'went': 316, 'go': 217, 'août': 114, 'sharks': 449, 'june': 71, 'éléphant': 420, 'allions': 555, 'white': 242, 'raisins': 143, 'tranquille': 216, 'conduit': 210, 'conduisait': 265, 'proches': 512, 'drove': 271, 'traduire': 291, 'shark': 383, 'ressort': 549, 'mars': 80, 'dog': 388, 'frisquet': 254, 'fruits': 185, 'avril': 91, 'is': 3, 'grapefruit.': 282, 'do': 436, 'cours': 207, 'vert': 326, 'banana.': 376, 'chaude': 225, 'relaxant': 123, 'aimons': 227, 'grape': 168, \"qu'il\": 305, 'dry': 111, 'mon': 68, 'lemon.': 378, 'chats': 465, 'pensez': 472, 'next': 211, 'fruit.': 434, 'pêches': 138, 'horses': 447, 'porcelaine': 517, 'détendre': 427, 'blanche': 280, 'chien': 396, 'translate': 295, 'english': 334, 'hot': 122, 'voulaient': 423, 'as-tu': 557, 'bananas': 151, 'et': 14, 'grosses': 538, 'allons': 487}\n",
      "\n",
      "Sequence 1 in x\n",
      "  Input:  The quick brown fox jumps over the lazy dog .\n",
      "  Output: [10, 10, 388, 1]\n",
      "Sequence 2 in x\n",
      "  Input:  By Jove , my quick study of lexicography won a prize .\n",
      "  Output: [2, 65, 188, 1]\n",
      "Sequence 3 in x\n",
      "  Input:  This is a short sentence .\n",
      "  Output: [259, 3, 188, 1]\n"
     ]
    }
   ],
   "source": [
    "import project_tests as tests\n",
    "from keras.preprocessing.text import Tokenizer\n",
    "from itertools import chain\n",
    "from pprint import pprint\n",
    "\n",
    "def tokenize(x):\n",
    "    \"\"\"\n",
    "    Tokenize x\n",
    "    :param x: List of sentences/strings to be tokenized\n",
    "    :return: Tuple of (tokenized x data, tokenizer used to tokenize x)\n",
    "    \"\"\"\n",
    "    small_voc_tokenizer = Tokenizer(filters='')\n",
    "    small_voc_tokenizer.fit_on_texts(chain(iter(english_sentences), iter(french_sentences)))\n",
    "\n",
    "    return small_voc_tokenizer.texts_to_sequences(x), small_voc_tokenizer\n",
    "\n",
    "tests.test_tokenize(tokenize)\n",
    "\n",
    "# Tokenize Example output\n",
    "text_sentences = [\n",
    "    'The quick brown fox jumps over the lazy dog .',\n",
    "    'By Jove , my quick study of lexicography won a prize .',\n",
    "    'This is a short sentence .']\n",
    "text_tokenized, text_tokenizer = tokenize(text_sentences)\n",
    "print(text_tokenizer.word_index)\n",
    "print()\n",
    "for sample_i, (sent, token_sent) in enumerate(zip(text_sentences, text_tokenized)):\n",
    "    print('Sequence {} in x'.format(sample_i + 1))\n",
    "    print('  Input:  {}'.format(sent))\n",
    "    print('  Output: {}'.format(token_sent))"
   ]
  },
  {
   "cell_type": "markdown",
   "metadata": {},
   "source": [
    "### Padding (IMPLEMENTATION)\n",
    "When batching the sequence of word ids together, each sequence needs to be the same length.  Since sentences are dynamic in length, we can add padding to the end of the sequences to make them the same length.\n",
    "\n",
    "Make sure all the English sequences have the same length and all the French sequences have the same length by adding padding to the **end** of each sequence using Keras's [`pad_sequences`](https://keras.io/preprocessing/sequence/#pad_sequences) function."
   ]
  },
  {
   "cell_type": "code",
   "execution_count": 5,
   "metadata": {},
   "outputs": [
    {
     "name": "stdout",
     "output_type": "stream",
     "text": [
      "Sequence 1 in x\n",
      "  Input:  [ 10  10 388   1]\n",
      "  Output: [ 10  10 388   1]\n",
      "Sequence 2 in x\n",
      "  Input:  [  2  65 188   1]\n",
      "  Output: [  2  65 188   1]\n",
      "Sequence 3 in x\n",
      "  Input:  [259   3 188   1]\n",
      "  Output: [259   3 188   1]\n"
     ]
    }
   ],
   "source": [
    "import numpy as np\n",
    "from keras.preprocessing.sequence import pad_sequences\n",
    "\n",
    "\n",
    "def pad(x, length=None):\n",
    "    \"\"\"\n",
    "    Pad x\n",
    "    :param x: List of sequences.\n",
    "    :param length: Length to pad the sequence to.  If None, use length of longest sequence in x.\n",
    "    :return: Padded numpy array of sequences\n",
    "    \"\"\"\n",
    "    maxlen = length if length else max(len(seq) for seq in x)\n",
    "\n",
    "    return pad_sequences(x, maxlen=maxlen, padding='post', truncating='post', value=0)\n",
    "\n",
    "tests.test_pad(pad)\n",
    "\n",
    "# Pad Tokenized output\n",
    "test_pad = pad(text_tokenized)\n",
    "for sample_i, (token_sent, pad_sent) in enumerate(zip(text_tokenized, test_pad)):\n",
    "    print('Sequence {} in x'.format(sample_i + 1))\n",
    "    print('  Input:  {}'.format(np.array(token_sent)))\n",
    "    print('  Output: {}'.format(pad_sent))"
   ]
  },
  {
   "cell_type": "markdown",
   "metadata": {},
   "source": [
    "### Preprocess Pipeline\n",
    "Your focus for this project is to build neural network architecture, so we won't ask you to create a preprocess pipeline.  Instead, we've provided you with the implementation of the `preprocess` function."
   ]
  },
  {
   "cell_type": "code",
   "execution_count": 6,
   "metadata": {},
   "outputs": [
    {
     "name": "stdout",
     "output_type": "stream",
     "text": [
      "Data Preprocessed\n"
     ]
    }
   ],
   "source": [
    "def preprocess(x, y):\n",
    "    \"\"\"\n",
    "    Preprocess x and y\n",
    "    :param x: Feature List of sentences\n",
    "    :param y: Label List of sentences\n",
    "    :return: Tuple of (Preprocessed x, Preprocessed y, x tokenizer, y tokenizer)\n",
    "    \"\"\"\n",
    "    preprocess_x, x_tk = tokenize(x)\n",
    "    preprocess_y, y_tk = tokenize(y)\n",
    "\n",
    "    preprocess_x = pad(preprocess_x)\n",
    "    preprocess_y = pad(preprocess_y)\n",
    "\n",
    "    # Keras's sparse_categorical_crossentropy function requires the labels to be in 3 dimensions\n",
    "    preprocess_y = preprocess_y.reshape(*preprocess_y.shape, 1)\n",
    "\n",
    "    return preprocess_x, preprocess_y, x_tk, y_tk\n",
    "\n",
    "preproc_english_sentences, preproc_french_sentences, english_tokenizer, french_tokenizer =\\\n",
    "    preprocess(english_sentences, french_sentences)\n",
    "\n",
    "print('Data Preprocessed')"
   ]
  },
  {
   "cell_type": "markdown",
   "metadata": {},
   "source": [
    "## Models\n",
    "In this section, you will experiment with various neural network architectures.\n",
    "You will begin by training four relatively simple architectures.\n",
    "- Model 1 is a simple RNN\n",
    "- Model 2 is a RNN with Embedding\n",
    "- Model 3 is a Bidirectional RNN\n",
    "- Model 4 is an optional Encoder-Decoder RNN\n",
    "\n",
    "After experimenting with the four simple architectures, you will construct a deeper architecture that is designed to outperform all four models.\n",
    "### Ids Back to Text\n",
    "The neural network will be translating the input to words ids, which isn't the final form we want.  We want the French translation.  The function `logits_to_text` will bridge the gab between the logits from the neural network to the French translation.  You'll be using this function to better understand the output of the neural network."
   ]
  },
  {
   "cell_type": "code",
   "execution_count": 7,
   "metadata": {},
   "outputs": [
    {
     "name": "stdout",
     "output_type": "stream",
     "text": [
      "`logits_to_text` function loaded.\n"
     ]
    }
   ],
   "source": [
    "def logits_to_text(logits, tokenizer):\n",
    "    \"\"\"\n",
    "    Turn logits from a neural network into text using the tokenizer\n",
    "    :param logits: Logits from a neural network\n",
    "    :param tokenizer: Keras Tokenizer fit on the labels\n",
    "    :return: String that represents the text of the logits\n",
    "    \"\"\"\n",
    "    index_to_words = {id: word for word, id in tokenizer.word_index.items()}\n",
    "    index_to_words[0] = '<PAD>'\n",
    "\n",
    "    return ' '.join([index_to_words[prediction] for prediction in np.argmax(logits, 1)])\n",
    "\n",
    "print('`logits_to_text` function loaded.')"
   ]
  },
  {
   "cell_type": "markdown",
   "metadata": {},
   "source": [
    "### Model 1: RNN (IMPLEMENTATION)\n",
    "![RNN](images/rnn.png)\n",
    "A basic RNN model is a good baseline for sequence data.  In this model, you'll build a RNN that translates English to French."
   ]
  },
  {
   "cell_type": "code",
   "execution_count": null,
   "metadata": {},
   "outputs": [
    {
     "name": "stdout",
     "output_type": "stream",
     "text": [
      "562\n",
      "562\n",
      "(137861, 23, 562)\n",
      "_________________________________________________________________\n",
      "Layer (type)                 Output Shape              Param #   \n",
      "=================================================================\n",
      "input_1 (InputLayer)         (None, 23, 562)           0         \n",
      "_________________________________________________________________\n",
      "gru_1 (GRU)                  (None, 23, 64)            120384    \n",
      "_________________________________________________________________\n",
      "dense_1 (Dense)              (None, 23, 563)           36595     \n",
      "=================================================================\n",
      "Total params: 156,979\n",
      "Trainable params: 156,979\n",
      "Non-trainable params: 0\n",
      "_________________________________________________________________\n",
      "Train on 110288 samples, validate on 27573 samples\n",
      "Epoch 1/1\n",
      " 75776/110288 [===================>..........] - ETA: 103s - loss: 1.7980 - acc: 0.5942"
     ]
    }
   ],
   "source": [
    "from keras.layers import GRU, Input, Dense, TimeDistributed\n",
    "from keras.models import Model, Sequential\n",
    "from keras.layers import Activation, SimpleRNN\n",
    "from keras.optimizers import Adam\n",
    "from keras.losses import sparse_categorical_crossentropy\n",
    "\n",
    "\n",
    "def simple_model(input_shape, output_sequence_length, english_vocab_size, french_vocab_size, learning_rate=0.1):\n",
    "    \"\"\"\n",
    "    Build and train a basic RNN on x and y\n",
    "    :param input_shape: Tuple of input shape\n",
    "    :param output_sequence_length: Length of output sequence\n",
    "    :param english_vocab_size: Number of unique English words in the dataset\n",
    "    :param french_vocab_size: Number of unique French words in the dataset\n",
    "    :return: Keras model built, but not trained\n",
    "    \"\"\"\n",
    "    timesteps = Input(shape=input_shape[1:])\n",
    "    hidden = GRU(64, return_sequences=True)(timesteps)\n",
    "    predictions = Dense(french_vocab_size + 1, activation='softmax')(hidden)\n",
    "\n",
    "    rnn_model = Model(inputs=timesteps, outputs=predictions)\n",
    "    rnn_model.compile(loss=sparse_categorical_crossentropy,\n",
    "                  optimizer=Adam(learning_rate, decay=0.01),\n",
    "                  metrics=['accuracy'])\n",
    "    rnn_model.summary()\n",
    "\n",
    "    return rnn_model\n",
    "\n",
    "# tests.test_simple_model(simple_model)\n",
    "\n",
    "\n",
    "# Reshaping the input to work with a basic RNN\n",
    "pad_x = pad(preproc_english_sentences, preproc_french_sentences.shape[1])\n",
    "\n",
    "# Using one-hot encoding to get simple RNN to work\n",
    "from keras.utils import to_categorical\n",
    "onehot_x = np.apply_along_axis(lambda x: to_categorical(x, num_classes=len(english_tokenizer.word_index)), 1, pad_x)\n",
    "\n",
    "idx_x = pad_x.reshape((-1, preproc_french_sentences.shape[-2], 1))\n",
    "\n",
    "# Train the neural network\n",
    "simple_rnn_model = simple_model(\n",
    "    onehot_x.shape,\n",
    "    preproc_french_sentences.shape[1],\n",
    "    len(english_tokenizer.word_index),\n",
    "    len(french_tokenizer.word_index))\n",
    "simple_rnn_model.fit(onehot_x, preproc_french_sentences, batch_size=1024, epochs=1, validation_split=0.2)\n",
    "\n",
    "# Print prediction(s)\n",
    "print(logits_to_text(onehot_x[:1][0], english_tokenizer))\n",
    "print(logits_to_text(simple_rnn_model.predict(onehot_x[:1])[0], french_tokenizer))"
   ]
  },
  {
   "cell_type": "markdown",
   "metadata": {},
   "source": [
    "### Model 2: Embedding (IMPLEMENTATION)\n",
    "![RNN](images/embedding.png)\n",
    "You've turned the words into ids, but there's a better representation of a word.  This is called word embeddings.  An embedding is a vector representation of the word that is close to similar words in n-dimensional space, where the n represents the size of the embedding vectors.\n",
    "\n",
    "In this model, you'll create a RNN model using embedding."
   ]
  },
  {
   "cell_type": "code",
   "execution_count": 9,
   "metadata": {},
   "outputs": [
    {
     "name": "stdout",
     "output_type": "stream",
     "text": [
      "_________________________________________________________________\n",
      "Layer (type)                 Output Shape              Param #   \n",
      "=================================================================\n",
      "input_2 (InputLayer)         (None, 23)                0         \n",
      "_________________________________________________________________\n",
      "embedding_1 (Embedding)      (None, 23, 8)             4496      \n",
      "_________________________________________________________________\n",
      "gru_2 (GRU)                  (None, 23, 64)            14016     \n",
      "_________________________________________________________________\n",
      "dense_2 (Dense)              (None, 23, 563)           36595     \n",
      "=================================================================\n",
      "Total params: 55,107\n",
      "Trainable params: 55,107\n",
      "Non-trainable params: 0\n",
      "_________________________________________________________________\n",
      "Train on 110288 samples, validate on 27573 samples\n",
      "Epoch 1/1\n",
      "110288/110288 [==============================] - 202s - loss: 1.7148 - acc: 0.6130 - val_loss: 0.8926 - val_acc: 0.7538\n",
      "new jersey est parfois calme en l'automne , , il est est est en . . <PAD> <PAD> <PAD> <PAD> <PAD> <PAD> <PAD>\n"
     ]
    }
   ],
   "source": [
    "from keras.layers.embeddings import Embedding\n",
    "\n",
    "\n",
    "def embed_model(input_shape, output_sequence_length, english_vocab_size, french_vocab_size, learning_rate=0.1):\n",
    "    \"\"\"\n",
    "    Build and train a RNN model using word embedding on x and y\n",
    "    :param input_shape: Tuple of input shape\n",
    "    :param output_sequence_length: Length of output sequence\n",
    "    :param english_vocab_size: Number of unique English words in the dataset\n",
    "    :param french_vocab_size: Number of unique French words in the dataset\n",
    "    :return: Keras model built, but not trained\n",
    "    \"\"\"\n",
    "    timesteps = Input(shape=input_shape[1:])\n",
    "    embedding = Embedding(english_vocab_size, 8)(timesteps)\n",
    "    hidden = GRU(64, return_sequences=True)(embedding)\n",
    "    predictions = Dense(french_vocab_size + 1, activation='softmax')(hidden)\n",
    "\n",
    "    embed_rnn_model = Model(inputs=timesteps, outputs=predictions)\n",
    "    embed_rnn_model.compile(loss=sparse_categorical_crossentropy,\n",
    "                  optimizer=Adam(learning_rate, decay=0.01),\n",
    "                  metrics=['accuracy'])\n",
    "    embed_rnn_model.summary()\n",
    "\n",
    "    return embed_rnn_model\n",
    "\n",
    "# tests.test_embed_model(embed_model)\n",
    "\n",
    "# Train the neural network\n",
    "embedded_rnn_model = embed_model(\n",
    "    pad_x.shape,\n",
    "    preproc_french_sentences.shape[1],\n",
    "    len(english_tokenizer.word_index),\n",
    "    len(french_tokenizer.word_index))\n",
    "embedded_rnn_model.fit(pad_x, preproc_french_sentences, batch_size=1024, epochs=1, validation_split=0.2)\n",
    "\n",
    "# Print prediction(s)\n",
    "print(logits_to_text(onehot_x[:1][0], english_tokenizer))\n",
    "print(logits_to_text(embedded_rnn_model.predict(pad[:1])[0], french_tokenizer))"
   ]
  },
  {
   "cell_type": "markdown",
   "metadata": {},
   "source": [
    "### Model 3: Bidirectional RNNs (IMPLEMENTATION)\n",
    "![RNN](images/bidirectional.png)\n",
    "One restriction of a RNN is that it can't see the future input, only the past.  This is where bidirectional recurrent neural networks come in.  They are able to see the future data."
   ]
  },
  {
   "cell_type": "code",
   "execution_count": 10,
   "metadata": {},
   "outputs": [
    {
     "name": "stdout",
     "output_type": "stream",
     "text": [
      "562\n",
      "562\n",
      "(137861, 23, 562)\n",
      "_________________________________________________________________\n",
      "Layer (type)                 Output Shape              Param #   \n",
      "=================================================================\n",
      "input_3 (InputLayer)         (None, 23, 562)           0         \n",
      "_________________________________________________________________\n",
      "bidirectional_1 (Bidirection (None, 23, 64)            240768    \n",
      "_________________________________________________________________\n",
      "dense_3 (Dense)              (None, 23, 563)           36595     \n",
      "=================================================================\n",
      "Total params: 277,363\n",
      "Trainable params: 277,363\n",
      "Non-trainable params: 0\n",
      "_________________________________________________________________\n",
      "Train on 110288 samples, validate on 27573 samples\n",
      "Epoch 1/1\n",
      "110288/110288 [==============================] - 334s - loss: 1.1930 - acc: 0.7130 - val_loss: 0.4944 - val_acc: 0.8588\n",
      "new jersey is sometimes quiet during autumn , and it is snowy in april . <PAD> <PAD> <PAD> <PAD> <PAD> <PAD> <PAD> <PAD>\n",
      "new jersey est parfois calme pendant l' , et il est neigeux en avril avril . <PAD> <PAD> <PAD> <PAD> <PAD> <PAD> <PAD>\n"
     ]
    }
   ],
   "source": [
    "from keras.layers import Bidirectional\n",
    "\n",
    "\n",
    "def bd_model(input_shape, output_sequence_length, english_vocab_size, french_vocab_size, learning_rate=0.1):\n",
    "    \"\"\"\n",
    "    Build and train a bidirectional RNN model on x and y\n",
    "    :param input_shape: Tuple of input shape\n",
    "    :param output_sequence_length: Length of output sequence\n",
    "    :param english_vocab_size: Number of unique English words in the dataset\n",
    "    :param french_vocab_size: Number of unique French words in the dataset\n",
    "    :return: Keras model built, but not trained\n",
    "    \"\"\"\n",
    "    print(english_vocab_size)\n",
    "    print(french_vocab_size)\n",
    "    print(input_shape)\n",
    "\n",
    "    timesteps = Input(shape=input_shape[1:])\n",
    "    gru = GRU(64, return_sequences=True)\n",
    "    hidden = Bidirectional(gru, merge_mode='ave', weights=None)(timesteps)\n",
    "    predictions = Dense(french_vocab_size + 1, activation='softmax')(hidden)\n",
    "\n",
    "    model = Model(inputs=timesteps, outputs=predictions)\n",
    "    model.compile(loss=sparse_categorical_crossentropy,\n",
    "                  optimizer=Adam(learning_rate, decay=0.01),\n",
    "                  metrics=['accuracy'])\n",
    "    model.summary()\n",
    "\n",
    "    return model\n",
    "\n",
    "# tests.test_bd_model(bd_model)\n",
    "\n",
    "# Train the neural network\n",
    "bidirect_model = bd_model(\n",
    "    onehot_x.shape,\n",
    "    preproc_french_sentences.shape[1],\n",
    "    len(english_tokenizer.word_index),\n",
    "    len(french_tokenizer.word_index))\n",
    "bidirect_model.fit(onehot_x, preproc_french_sentences, batch_size=1024, epochs=1, validation_split=0.2)\n",
    "\n",
    "# Print prediction(s)\n",
    "print(logits_to_text(onehot_x[:1][0], english_tokenizer))\n",
    "print(logits_to_text(bidirect_model.predict(onehot_x[:1])[0], french_tokenizer))"
   ]
  },
  {
   "cell_type": "markdown",
   "metadata": {},
   "source": [
    "### Model 4: Encoder-Decoder (OPTIONAL)\n",
    "Time to look at encoder-decoder models.  This model is made up of an encoder and decoder. The encoder creates a matrix representation of the sentence.  The decoder takes this matrix as input and predicts the translation as output.\n",
    "\n",
    "Create an encoder-decoder model in the cell below."
   ]
  },
  {
   "cell_type": "code",
   "execution_count": 12,
   "metadata": {
    "collapsed": true
   },
   "outputs": [],
   "source": [
    "from keras.layers import RepeatVector\n",
    "\n",
    "\n",
    "def encdec_model(input_shape, output_sequence_length, english_vocab_size, french_vocab_size):\n",
    "    \"\"\"\n",
    "    Build and train an encoder-decoder model on x and y\n",
    "    :param input_shape: Tuple of input shape\n",
    "    :param output_sequence_length: Length of output sequence\n",
    "    :param english_vocab_size: Number of unique English words in the dataset\n",
    "    :param french_vocab_size: Number of unique French words in the dataset\n",
    "    :return: Keras model built, but not trained\n",
    "    \"\"\"\n",
    "    # OPTIONAL: Implement\n",
    "    return None\n",
    "# tests.test_encdec_model(encdec_model)\n",
    "\n",
    "\n",
    "# OPTIONAL: Train and Print prediction(s)"
   ]
  },
  {
   "cell_type": "markdown",
   "metadata": {},
   "source": [
    "### Model 5: Custom (IMPLEMENTATION)\n",
    "Use everything you learned from the previous models to create a model that incorporates embedding and a bidirectional rnn into one model."
   ]
  },
  {
   "cell_type": "code",
   "execution_count": 14,
   "metadata": {},
   "outputs": [
    {
     "name": "stdout",
     "output_type": "stream",
     "text": [
      "_________________________________________________________________\n",
      "Layer (type)                 Output Shape              Param #   \n",
      "=================================================================\n",
      "input_5 (InputLayer)         (None, 23)                0         \n",
      "_________________________________________________________________\n",
      "embedding_3 (Embedding)      (None, 23, 8)             4496      \n",
      "_________________________________________________________________\n",
      "bidirectional_3 (Bidirection (None, 23, 64)            28032     \n",
      "_________________________________________________________________\n",
      "dense_5 (Dense)              (None, 23, 563)           36595     \n",
      "=================================================================\n",
      "Total params: 69,123\n",
      "Trainable params: 69,123\n",
      "Non-trainable params: 0\n",
      "_________________________________________________________________\n",
      "Train on 110288 samples, validate on 27573 samples\n",
      "Epoch 1/1\n",
      "110288/110288 [==============================] - 308s - loss: 2.3967 - acc: 0.4774 - val_loss: 1.6510 - val_acc: 0.5828\n",
      "new jersey est jamais jamais en , , , il il est en en . <PAD> <PAD> <PAD> <PAD> <PAD> <PAD> <PAD> <PAD>\n",
      "Final Model Loaded\n"
     ]
    }
   ],
   "source": [
    "def model_final(input_shape, output_sequence_length, english_vocab_size, french_vocab_size, learning_rate=0.1):\n",
    "    \"\"\"\n",
    "    Build and train a model that incorporates embedding, encoder-decoder, and bidirectional RNN on x and y\n",
    "    :param input_shape: Tuple of input shape\n",
    "    :param output_sequence_length: Length of output sequence\n",
    "    :param english_vocab_size: Number of unique English words in the dataset\n",
    "    :param french_vocab_size: Number of unique French words in the dataset\n",
    "    :return: Keras model built, but not trained\n",
    "    \"\"\"\n",
    "\n",
    "    timesteps = Input(shape=input_shape[1:])\n",
    "    embedding = Embedding(english_vocab_size, 8)(timesteps)\n",
    "    gru = GRU(64, return_sequences=True)\n",
    "    hidden = Bidirectional(gru, merge_mode='ave', weights=None)(embedding)\n",
    "    predictions = Dense(french_vocab_size + 1, activation='softmax')(hidden)\n",
    "\n",
    "    model = Model(inputs=timesteps, outputs=predictions)\n",
    "    model.compile(loss=sparse_categorical_crossentropy,\n",
    "                  optimizer=Adam(learning_rate, decay=0.01),\n",
    "                  metrics=['accuracy'])\n",
    "    model.summary()\n",
    "\n",
    "    return model\n",
    "\n",
    "# tests.test_model_final(model_final)\n",
    "\n",
    "# Reshaping the input to work with a basic RNN\n",
    "tmp_x = pad(preproc_english_sentences, preproc_french_sentences.shape[1])\n",
    "\n",
    "# Train the neural network\n",
    "bidirect_emb_model = model_final(\n",
    "    pad_x.shape,\n",
    "    preproc_french_sentences.shape[1],\n",
    "    len(english_tokenizer.word_index),\n",
    "    len(french_tokenizer.word_index))\n",
    "bidirect_emb_model.fit(pad_x, preproc_french_sentences, batch_size=1024, epochs=1, validation_split=0.2)\n",
    "\n",
    "# Print prediction(s)\n",
    "print(logits_to_text(onehot_x[:1][0], english_tokenizer))\n",
    "print(logits_to_text(bidirect_emb_model.predict(pad_x[:1])[0], french_tokenizer))\n",
    "\n",
    "print('Final Model Loaded')"
   ]
  },
  {
   "cell_type": "markdown",
   "metadata": {},
   "source": [
    "## Prediction (IMPLEMENTATION)"
   ]
  },
  {
   "cell_type": "code",
   "execution_count": 15,
   "metadata": {},
   "outputs": [
    {
     "name": "stdout",
     "output_type": "stream",
     "text": [
      "_________________________________________________________________\n",
      "Layer (type)                 Output Shape              Param #   \n",
      "=================================================================\n",
      "input_6 (InputLayer)         (None, 23)                0         \n",
      "_________________________________________________________________\n",
      "embedding_4 (Embedding)      (None, 23, 8)             4496      \n",
      "_________________________________________________________________\n",
      "bidirectional_4 (Bidirection (None, 23, 64)            28032     \n",
      "_________________________________________________________________\n",
      "dense_6 (Dense)              (None, 23, 563)           36595     \n",
      "=================================================================\n",
      "Total params: 69,123\n",
      "Trainable params: 69,123\n",
      "Non-trainable params: 0\n",
      "_________________________________________________________________\n",
      "Epoch 1/1\n",
      "137861/137861 [==============================] - 389s - loss: 1.1445 - acc: 0.7256   \n",
      "Sample 1:\n",
      "il a vu un vieux camion . . <PAD> <PAD> <PAD> <PAD> <PAD> <PAD> <PAD> <PAD> <PAD> <PAD> <PAD> <PAD> <PAD> <PAD> <PAD>\n",
      "Il a vu un vieux camion jaune\n",
      "Sample 2:\n",
      "new jersey est parfois calme au cours , , il il est en en en . <PAD> <PAD> <PAD> <PAD> <PAD> <PAD> <PAD>\n",
      "<PAD> <PAD> <PAD> <PAD> <PAD> <PAD> <PAD> <PAD> <PAD> <PAD> <PAD> <PAD> <PAD> <PAD> <PAD> <PAD> <PAD> <PAD> <PAD> <PAD> <PAD> <PAD> <PAD>\n"
     ]
    }
   ],
   "source": [
    "import numpy as np\n",
    "from keras.preprocessing.sequence import pad_sequences\n",
    "\n",
    "def final_predictions(x, y, x_tk, y_tk):\n",
    "    \"\"\"\n",
    "    Gets predictions using the final model\n",
    "    :param x: Preprocessed English data\n",
    "    :param y: Preprocessed French data\n",
    "    :param x_tk: English tokenizer\n",
    "    :param y_tk: French tokenizer\n",
    "    \"\"\"\n",
    "    x = pad(x, y.shape[1])\n",
    "    \n",
    "    model = model_final(\n",
    "        x.shape,\n",
    "        y.shape[1],\n",
    "        len(x_tk.word_index),\n",
    "        len(y_tk.word_index))\n",
    "\n",
    "    model.fit(x, y, batch_size=1024, epochs=1)\n",
    "    \n",
    "    ## DON'T EDIT ANYTHING BELOW THIS LINE\n",
    "    y_id_to_word = {value: key for key, value in y_tk.word_index.items()}\n",
    "    y_id_to_word[0] = '<PAD>'\n",
    "\n",
    "    sentence = 'he saw a old yellow truck'\n",
    "    sentence = [x_tk.word_index[word] for word in sentence.split()]\n",
    "    sentence = pad_sequences([sentence], maxlen=x.shape[-1], padding='post')\n",
    "    sentences = np.array([sentence[0], x[0]])\n",
    "    predictions = model.predict(sentences, len(sentences))\n",
    "\n",
    "    print('Sample 1:')\n",
    "    print(' '.join([y_id_to_word[np.argmax(x)] for x in predictions[0]]))\n",
    "    print('Il a vu un vieux camion jaune')\n",
    "    print('Sample 2:')\n",
    "    print(' '.join([y_id_to_word[np.argmax(x)] for x in predictions[1]]))\n",
    "    print(' '.join([y_id_to_word[np.argmax(x)] for x in y[0]]))\n",
    "\n",
    "\n",
    "final_predictions(preproc_english_sentences, preproc_french_sentences, english_tokenizer, french_tokenizer)"
   ]
  },
  {
   "cell_type": "markdown",
   "metadata": {},
   "source": [
    "## Submission\n",
    "When you are ready to submit your project, do the following steps:\n",
    "1. Ensure you pass all points on the [rubric](https://review.udacity.com/#!/rubrics/1004/view).\n",
    "2. Submit the following in a zip file.\n",
    "  - `helper.py`\n",
    "  - `machine_translation.ipynb`\n",
    "  - `machine_translation.html`\n",
    "    - You can export the notebook by navigating to **File -> Download as -> HTML (.html)**."
   ]
  },
  {
   "cell_type": "code",
   "execution_count": null,
   "metadata": {
    "collapsed": true
   },
   "outputs": [],
   "source": []
  },
  {
   "cell_type": "code",
   "execution_count": null,
   "metadata": {
    "collapsed": true
   },
   "outputs": [],
   "source": []
  },
  {
   "cell_type": "code",
   "execution_count": null,
   "metadata": {
    "collapsed": true
   },
   "outputs": [],
   "source": []
  }
 ],
 "metadata": {
  "anaconda-cloud": {},
  "kernelspec": {
   "display_name": "Python [conda env:aind-nlp-capstone]",
   "language": "python",
   "name": "conda-env-aind-nlp-capstone-py"
  },
  "language_info": {
   "codemirror_mode": {
    "name": "ipython",
    "version": 3
   },
   "file_extension": ".py",
   "mimetype": "text/x-python",
   "name": "python",
   "nbconvert_exporter": "python",
   "pygments_lexer": "ipython3",
   "version": "3.5.3"
  }
 },
 "nbformat": 4,
 "nbformat_minor": 1
}
