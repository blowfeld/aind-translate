{
 "cells": [
  {
   "cell_type": "markdown",
   "metadata": {
    "collapsed": true,
    "deletable": true,
    "editable": true
   },
   "source": [
    "# Artificial Intelligence Nanodegree\n",
    "## Machine Translation Project\n",
    "In this notebook, sections that end with **'(IMPLEMENTATION)'** in the header indicate that the following blocks of code will require additional functionality which you must provide. Please be sure to read the instructions carefully!\n",
    "\n",
    "## Introduction\n",
    "In this notebook, you will build a deep neural network that functions as part of an end-to-end machine translation pipeline. Your completed pipeline will accept English text as input and return the French translation.\n",
    "\n",
    "- **Preprocess** - You'll convert text to sequence of integers.\n",
    "- **Models** Create models which accepts a sequence of integers as input and returns a probability distribution over possible translations. After learning about the basic types of neural networks that are often used for machine translation, you will engage in your own investigations, to design your own model!\n",
    "- **Prediction** Run the model on English text.\n",
    "\n",
    "## Dataset\n",
    "We begin by investigating the dataset that will be used to train and evaluate your pipeline.  The most common datasets used for machine translation are from [WMT](http://www.statmt.org/).  However, that will take a long time to train a neural network on.  We'll be using a dataset we created for this project that contains a small vocabulary.  You'll be able to train your model in a reasonable time with this dataset.\n",
    "### Load Data\n",
    "The data is located in `data/small_vocab_en` and `data/small_vocab_fr`. The `small_vocab_en` file contains English sentences with their French translations in the `small_vocab_fr` file. Load the English and French data from these files from running the cell below."
   ]
  },
  {
   "cell_type": "code",
   "execution_count": 1,
   "metadata": {
    "collapsed": false,
    "deletable": true,
    "editable": true
   },
   "outputs": [
    {
     "name": "stdout",
     "output_type": "stream",
     "text": [
      "Dataset Loaded\n"
     ]
    }
   ],
   "source": [
    "import helper\n",
    "\n",
    "\n",
    "# Load English data\n",
    "english_sentences = helper.load_data('data/small_vocab_en')\n",
    "# Load French data\n",
    "french_sentences = helper.load_data('data/small_vocab_fr')\n",
    "\n",
    "print('Dataset Loaded')"
   ]
  },
  {
   "cell_type": "markdown",
   "metadata": {
    "deletable": true,
    "editable": true
   },
   "source": [
    "### Files\n",
    "Each line in `small_vocab_en` contains an English sentence with the respective translation in each line of `small_vocab_fr`.  View the first two lines from each file."
   ]
  },
  {
   "cell_type": "code",
   "execution_count": 2,
   "metadata": {
    "collapsed": false,
    "deletable": true,
    "editable": true
   },
   "outputs": [
    {
     "name": "stdout",
     "output_type": "stream",
     "text": [
      "small_vocab_en Line 1:  new jersey is sometimes quiet during autumn , and it is snowy in april .\n",
      "small_vocab_fr Line 1:  new jersey est parfois calme pendant l' automne , et il est neigeux en avril .\n",
      "small_vocab_en Line 2:  the united states is usually chilly during july , and it is usually freezing in november .\n",
      "small_vocab_fr Line 2:  les états-unis est généralement froid en juillet , et il gèle habituellement en novembre .\n"
     ]
    }
   ],
   "source": [
    "for sample_i in range(2):\n",
    "    print('small_vocab_en Line {}:  {}'.format(sample_i + 1, english_sentences[sample_i]))\n",
    "    print('small_vocab_fr Line {}:  {}'.format(sample_i + 1, french_sentences[sample_i]))"
   ]
  },
  {
   "cell_type": "markdown",
   "metadata": {
    "deletable": true,
    "editable": true
   },
   "source": [
    "From looking at the sentences, you can see they have been preprocessed already.  The puncuations have been delimited using spaces. All the text have been converted to lowercase.  This should save you some time, but the text requires more preprocessing.\n",
    "### Vocabulary\n",
    "The complexity of the problem is determined by the complexity of the vocabulary.  A more complex vocabulary is a more complex problem.  Let's look at the complexity of the dataset we'll be working with."
   ]
  },
  {
   "cell_type": "code",
   "execution_count": 3,
   "metadata": {
    "collapsed": false,
    "deletable": true,
    "editable": true
   },
   "outputs": [
    {
     "name": "stdout",
     "output_type": "stream",
     "text": [
      "1823250 English words.\n",
      "227 unique English words.\n",
      "10 Most common words in the English dataset:\n",
      "\"is\" \",\" \".\" \"in\" \"it\" \"during\" \"the\" \"but\" \"and\" \"sometimes\"\n",
      "\n",
      "1961295 French words.\n",
      "355 unique French words.\n",
      "10 Most common words in the French dataset:\n",
      "\"est\" \".\" \",\" \"en\" \"il\" \"les\" \"mais\" \"et\" \"la\" \"parfois\"\n"
     ]
    }
   ],
   "source": [
    "import collections\n",
    "\n",
    "\n",
    "english_words_counter = collections.Counter([word for sentence in english_sentences for word in sentence.split()])\n",
    "french_words_counter = collections.Counter([word for sentence in french_sentences for word in sentence.split()])\n",
    "\n",
    "print('{} English words.'.format(len([word for sentence in english_sentences for word in sentence.split()])))\n",
    "print('{} unique English words.'.format(len(english_words_counter)))\n",
    "print('10 Most common words in the English dataset:')\n",
    "print('\"' + '\" \"'.join(list(zip(*english_words_counter.most_common(10)))[0]) + '\"')\n",
    "print()\n",
    "print('{} French words.'.format(len([word for sentence in french_sentences for word in sentence.split()])))\n",
    "print('{} unique French words.'.format(len(french_words_counter)))\n",
    "print('10 Most common words in the French dataset:')\n",
    "print('\"' + '\" \"'.join(list(zip(*french_words_counter.most_common(10)))[0]) + '\"')"
   ]
  },
  {
   "cell_type": "markdown",
   "metadata": {
    "deletable": true,
    "editable": true
   },
   "source": [
    "For comparison, _Alice's Adventures in Wonderland_ contains 2,766 unique words of a total of 15,500 words.\n",
    "## Preprocess\n",
    "For this project, you won't use text data as input to your model. Instead, you'll convert the text into sequences of integers using the following preprocess methods:\n",
    "1. Tokenize the words into ids\n",
    "2. Add padding to make all the sequences the same length.\n",
    "\n",
    "Time to start preprocessing the data...\n",
    "### Tokenize (IMPLEMENTATION)\n",
    "For a neural network to predict on text data, it first has to be turned into data it can understand. Text data like \"dog\" is a sequence of ASCII character encodings.  Since a neural network is a series of multiplication and addition operations, the input data needs to be number(s).\n",
    "\n",
    "We can turn each character into a number or each word into a number.  These are called character and word ids, respectively.  Character ids are used for character level models that generate text predictions for each character.  A word level model uses word ids that generate text predictions for each word.  Word level models tend to learn better, since they are lower in complexity, so we'll use those.\n",
    "\n",
    "Turn each sentence into a sequence of words ids using Keras's [`Tokenizer`](https://keras.io/preprocessing/text/#tokenizer) function. Use this function to tokenize `english_sentences` and `french_sentences` in the cell below.\n",
    "\n",
    "Running the cell will run `tokenize` on sample data and show output for debugging."
   ]
  },
  {
   "cell_type": "code",
   "execution_count": 4,
   "metadata": {
    "collapsed": false,
    "deletable": true,
    "editable": true
   },
   "outputs": [
    {
     "name": "stderr",
     "output_type": "stream",
     "text": [
      "Using TensorFlow backend.\n"
     ]
    },
    {
     "name": "stdout",
     "output_type": "stream",
     "text": [
      "{'juin': 72, 'strawberry': 167, 'généralement': 25, 'la': 17, 'drove': 271, 'occupé': 130, 'terrain': 481, 'pêche': 166, 'rouille': 498, 'frisquet': 254, 'vit': 548, 'aimait': 263, 'traduire': 291, 'march': 79, 'veut': 362, 'strawberries.': 310, 'grandes': 520, 'veulent': 424, 'orange.': 374, 'inde': 53, 'envisagent': 537, \"n'aimait\": 284, 'allée': 413, 'but': 12, 'most': 41, 'avez': 411, 'fruits': 185, 'manguiers': 514, 'favorite.': 249, 'tour': 479, 'brillant': 279, 'she': 60, 'petites': 502, 'am': 506, 'limes': 145, 'you': 202, 'grapefruit.': 282, 'aller': 224, 'rouillé': 300, 'lions': 418, 'facile': 355, 'pousse': 490, 'agréable': 36, 'mangue': 156, 'fun': 351, 'lemons.': 341, 'field': 476, 'been': 493, 'quand': 416, 'éléphants': 457, 'wants': 359, 'bird': 384, 'quiet': 121, 'cette': 221, 'voudrait': 511, \"l'ours\": 463, 'allons': 487, 'this': 259, 'juillet': 89, 'temps': 496, 'next': 211, 'espagnol': 336, 'apprécié': 554, 'cheval': 395, 'during': 9, 'détendre': 427, 'bleu': 297, 'dernière': 508, 'citrons': 50, 'he': 59, 'durant': 523, 'dernier': 261, 'prochain': 212, 'yellow': 238, 'dry': 111, 'portuguese': 332, 'sont': 232, 'oiseau': 419, 'green': 244, 'snakes': 450, 'pourraient': 422, 'douce': 522, 'california': 45, 'était': 223, 'usually': 20, 'april': 90, 'intention': 371, \"l'éléphant\": 460, 'aime': 109, 'préférés': 315, 'automne': 43, 'lapins': 466, 'french': 335, \"n'aime\": 191, 'détestons': 236, 'dans': 529, 'her': 67, 'aimé.': 235, 'porcelaine': 517, 'lemon.': 378, 'driving': 219, 'déteste': 183, 'spanish': 331, \"didn't\": 470, 'grapes.': 330, 'redouté': 281, 'proches': 512, 'requin': 394, 'grocery': 474, 'difficult': 350, 'states': 55, 'summer': 94, 'bénigne': 539, 'comme': 356, 'dislikes': 132, 'favoris': 559, 'humide': 125, 'français': 340, 'prévoit': 441, 'ont': 381, 'congélation': 524, 'strawberry.': 417, 'between': 286, 'janvier': 76, 'pluie': 404, 'plans': 296, 'préférée': 256, 'as-tu': 557, 'trouvé': 556, 'oiseaux': 468, 'peaches': 152, \"c'est\": 519, 'may': 83, 'has': 504, 'our': 99, 'conduit': 210, ',': 2, 'shiny': 245, \"aren't\": 492, 'voulaient': 423, 'citron': 161, 'portugais': 337, 'aiment': 226, 'his': 66, 'mouse': 385, 'fraises': 140, 'grape.': 414, 'détend': 550, 'their': 100, 'pensez': 472, 'vont': 409, 'car': 205, 'sec': 128, 'es-tu': 561, 'cet': 347, 'qui': 552, 'might': 317, 'pamplemousse': 62, 'france': 34, 'nice': 85, \"n'aiment\": 228, 'sometimes': 18, 'leur': 129, 'mai': 84, 'india': 52, 'tranquille': 216, \"l'épicerie\": 480, 'ses': 302, 'ne': 196, 'ils': 190, 'pears': 153, 'that': 197, 'lapin': 399, 'chaux': 162, 'glaciales': 342, 'feared': 257, 'lui': 442, 'lac': 482, 'english': 334, 'aimons': 227, 'brillante': 312, 'petite': 276, 'prévois': 368, 'allions': 555, 'entre': 288, 'légère': 469, 'au': 29, 'le': 23, 'redoutés': 401, 'horses': 447, 'se': 298, 'clémentes': 373, 'mice': 456, 'beautiful': 103, 'détestez': 518, 'apple': 170, 'comment': 445, 'china': 57, 'je': 214, 'spring': 73, 'a': 188, 'conduite': 543, 'grosse': 403, 'pomme': 159, 'serpents': 464, \"l'automobile\": 430, 'poire': 164, 'printemps': 74, \"l'automne\": 187, \"l'animal\": 484, 'saw': 268, 'petits': 534, 'son': 38, 'pense': 287, 'elephants': 446, 'frais': 513, 'oranges': 51, 'fruit.': 434, 'cher': 218, 'loved.': 293, '.': 1, 'rouillée': 294, 'drives': 270, 'il': 6, 'we': 198, 'gelé': 433, 'grande': 299, 'un': 264, 'lake': 477, 'aimé': 30, 'septembre': 87, 'nous': 199, 'plaît': 525, 'banana': 172, 'plus': 42, 'grapefruit': 63, 'requins': 462, 'aux': 311, 'did': 372, \"l'école\": 483, 'animal': 178, 'white': 242, 'verts': 142, 'des': 201, 'noire': 278, 'moins': 27, 'étaient': 323, 'calme': 134, 'prévoient': 440, 'états-unis': 56, 'aimée': 428, 'habituellement': 136, \"n'a\": 533, 'pourquoi': 366, 'nos': 277, 'allez': 488, 'apples': 149, 'i': 194, '-ce': 432, 'is': 3, 'are': 251, 'animals': 258, 'new': 31, 'voulez': 531, 'aimeraient': 532, 'favori': 182, 'snowy': 106, 'de': 40, 'at': 497, 'singes': 467, '-': 327, 'votre': 69, 'thinks': 321, 'verte': 275, '-ils': 501, 'monkey': 389, 'favorite': 28, 'think': 363, 'voiture': 186, 'tout': 545, 'never': 21, 'chilly': 115, 'animaux': 260, 'mais': 13, 'bien': 438, 'january': 75, 'bananas': 151, '?': 213, 'novembre': 93, 'they': 189, 'paris': 33, 'août': 114, 'chinois': 338, 'avons': 515, 'would': 485, 'mouillé': 349, 'rabbit': 391, 'difficile': 353, 'hiver': 78, 'wet': 118, 't': 516, 'rouge': 247, 'football': 426, 'automobile': 203, 'lemon': 171, 'raisins': 143, 'chien': 396, 'translating': 343, 'elle': 49, 'warm': 107, \"l'orange\": 160, 'banane': 163, \"l'oiseau\": 461, \"l'\": 24, 'sèche': 252, 'enneigée': 181, 'were': 313, 'it': 8, 'allé': 402, 'envisage': 322, 'tower': 473, 'freezing': 101, 'rabbits': 452, 'mouillée': 540, 'disliked': 269, 'belle': 195, 'ressort': 549, 'loved': 47, 'raisin': 158, 'du': 491, 'go': 217, 'pear.': 379, 'chevaux': 458, 'lemons': 147, 'traduction': 348, 'gel': 157, 'autumn': 81, 'do': 436, 'gèle': 184, 'rendre': 325, 'vieux': 328, 'plan': 262, 'les': 11, 'nouveau': 290, 'my': 65, \"isn't\": 505, 'oranges.': 308, 'orange': 176, 'visit': 222, 'dog': 388, 'mangoes.': 345, 'likes': 133, 'the': 10, 'winter': 77, 'little': 233, 'mois': 44, 'have': 527, 'october': 105, 'was': 208, 'jamais': 22, 'pleut': 283, \"n'est\": 486, 'cours': 207, 'november': 92, 'fruit': 16, \"qu'il\": 305, 'vieille': 273, 'mango.': 375, 'relaxing': 120, 'décembre': 96, 'where': 526, 'chaude': 225, 'mars': 80, 'froid': 37, 'apple.': 380, 'like': 177, 'does': 503, 'chats': 465, 'gros': 357, 'serpent': 400, 'how': 444, 'birds': 455, 'avril': 91, 'lime.': 408, 'traduis': 553, 'september': 86, 'neigeux': 209, 'vers': 439, 'grosses': 538, 'cold': 108, 'pendant': 61, 'rainy': 116, 'amusant': 354, 'pleasant': 102, 'beau': 135, 'last': 255, 'blanc': 306, 'hot': 122, 'mon': 68, 'going': 267, 'pas': 179, 'souris': 358, 'dogs': 448, 'peach': 175, 'notre': 126, 'une': 220, 'want': 421, 'nouvelle': 272, 'parfois': 19, 'pear': 174, 'et': 14, 'pears.': 304, 'pourrait': 360, 'why': 364, 'pluies': 320, 'merveilleux': 119, 'translate': 295, 'rusty': 240, 'détestait': 435, 'horse': 386, 'chaud': 39, 'truck': 204, 'shark': 383, 'singe': 397, 'united': 54, 'monkeys': 453, 'dislike': 180, 'aimés': 367, 'least': 26, 'elephant': 387, 'pamplemousses': 285, 'your': 64, 'fall': 70, 'êtes-vous': 509, 'maillot': 407, 'anglais': 339, \"n'êtes\": 547, 'vous': 200, 'faire': 558, 'volant': 410, 'où': 528, 'cépage': 471, 'wonderful': 110, 'à': 46, 'conduisait': 265, 'store': 475, 'est': 4, 'when': 415, 'strawberries': 150, 'mangoes': 146, 'préféré.': 301, 'aimez': 231, 'visiter': 250, 'noir': 319, 'février': 98, 'été': 82, 'pluvieux': 131, 'fraise': 165, 'ours': 398, 'gelés': 544, 'leurs': 230, 'visite': 443, 'mes': 344, 'chiens': 459, 'occupée': 253, 'sharks': 449, 'jersey': 35, 'est-ce': 530, 'and': 15, 'fait': 193, 'doux': 124, 'grape': 168, 'mild': 117, 'prévoyons': 369, 'december': 95, 'august': 113, 'trop': 405, \"n'aimons\": 431, 'cats': 451, 'va': 324, 'eiffel': 425, 'apples.': 309, 'octobre': 104, 'etats-unis': 546, 'mangues': 144, 'lion': 314, 'pêches': 138, 'july': 88, 'enneigé': 541, 'grapes': 148, 'grands': 536, 'peaches.': 303, 'moindres': 542, 'busy': 112, 'aiment-ils': 535, 'february': 97, 'liked.': 292, \"n'aimez\": 229, 'mango': 173, 'jaune': 246, 'préférées': 521, 'allés': 412, 'pommes': 137, 'redoutée': 551, 'neige': 192, 'bananes': 141, 'souvent': 560, 'peu': 489, \"it's\": 365, 'red': 239, 'went': 316, 'relaxant': 123, 'old': 237, 'cat': 382, 'petit': 329, 'bleue': 289, 'june': 71, '-il': 494, 'ce': 215, 'to': 154, 'en': 5, 'sur': 499, 'chine': 58, 'vos': 370, 'liked': 48, 'bear': 390, 'in': 7, 'peach.': 377, 'vais': 510, 'monde': 406, 'black': 243, 'magnifique': 429, 'bears': 454, 'californie': 127, \"d'\": 155, 'lime': 169, 'poires': 139, 'chinese': 333, 'que': 266, 'school': 478, 'wanted': 318, 'vu': 274, 'blue': 241, \"j'aime\": 248, 'moteur': 562, 'blanche': 280, 'snake': 392, 'chat': 393, 'camion': 206, 'grand': 437, 'vert': 326, 'préféré': 32, 'weather': 495, 'limes.': 346, 'big': 234, 'banana.': 376, '-elle': 507, 'voulait': 361, 'éléphant': 420, \"qu'elle\": 500, 'bananas.': 307, 'easy': 352}\n",
      "\n",
      "Sequence 1 in x\n",
      "  Input:  The quick brown fox jumps over the lazy dog .\n",
      "  Output: [10, 10, 388, 1]\n",
      "Sequence 2 in x\n",
      "  Input:  By Jove , my quick study of lexicography won a prize .\n",
      "  Output: [2, 65, 188, 1]\n",
      "Sequence 3 in x\n",
      "  Input:  This is a short sentence .\n",
      "  Output: [259, 3, 188, 1]\n"
     ]
    }
   ],
   "source": [
    "import project_tests as tests\n",
    "from keras.preprocessing.text import Tokenizer\n",
    "from itertools import chain\n",
    "from pprint import pprint\n",
    "\n",
    "def tokenize(x):\n",
    "    \"\"\"\n",
    "    Tokenize x\n",
    "    :param x: List of sentences/strings to be tokenized\n",
    "    :return: Tuple of (tokenized x data, tokenizer used to tokenize x)\n",
    "    \"\"\"\n",
    "    small_voc_tokenizer = Tokenizer(filters='')\n",
    "    small_voc_tokenizer.fit_on_texts(chain(iter(english_sentences), iter(french_sentences)))\n",
    "\n",
    "    return small_voc_tokenizer.texts_to_sequences(x), small_voc_tokenizer\n",
    "\n",
    "tests.test_tokenize(tokenize)\n",
    "\n",
    "# Tokenize Example output\n",
    "text_sentences = [\n",
    "    'The quick brown fox jumps over the lazy dog .',\n",
    "    'By Jove , my quick study of lexicography won a prize .',\n",
    "    'This is a short sentence .']\n",
    "text_tokenized, text_tokenizer = tokenize(text_sentences)\n",
    "print(text_tokenizer.word_index)\n",
    "print()\n",
    "for sample_i, (sent, token_sent) in enumerate(zip(text_sentences, text_tokenized)):\n",
    "    print('Sequence {} in x'.format(sample_i + 1))\n",
    "    print('  Input:  {}'.format(sent))\n",
    "    print('  Output: {}'.format(token_sent))"
   ]
  },
  {
   "cell_type": "markdown",
   "metadata": {
    "deletable": true,
    "editable": true
   },
   "source": [
    "### Padding (IMPLEMENTATION)\n",
    "When batching the sequence of word ids together, each sequence needs to be the same length.  Since sentences are dynamic in length, we can add padding to the end of the sequences to make them the same length.\n",
    "\n",
    "Make sure all the English sequences have the same length and all the French sequences have the same length by adding padding to the **end** of each sequence using Keras's [`pad_sequences`](https://keras.io/preprocessing/sequence/#pad_sequences) function."
   ]
  },
  {
   "cell_type": "code",
   "execution_count": 5,
   "metadata": {
    "collapsed": false,
    "deletable": true,
    "editable": true
   },
   "outputs": [
    {
     "name": "stdout",
     "output_type": "stream",
     "text": [
      "Sequence 1 in x\n",
      "  Input:  [ 10  10 388   1]\n",
      "  Output: [ 10  10 388   1]\n",
      "Sequence 2 in x\n",
      "  Input:  [  2  65 188   1]\n",
      "  Output: [  2  65 188   1]\n",
      "Sequence 3 in x\n",
      "  Input:  [259   3 188   1]\n",
      "  Output: [259   3 188   1]\n"
     ]
    }
   ],
   "source": [
    "import numpy as np\n",
    "from keras.preprocessing.sequence import pad_sequences\n",
    "\n",
    "\n",
    "def pad(x, length=None):\n",
    "    \"\"\"\n",
    "    Pad x\n",
    "    :param x: List of sequences.\n",
    "    :param length: Length to pad the sequence to.  If None, use length of longest sequence in x.\n",
    "    :return: Padded numpy array of sequences\n",
    "    \"\"\"\n",
    "    maxlen = length if length else max(len(seq) for seq in x)\n",
    "\n",
    "    return pad_sequences(x, maxlen=maxlen, padding='post', truncating='post', value=0)\n",
    "\n",
    "tests.test_pad(pad)\n",
    "\n",
    "# Pad Tokenized output\n",
    "test_pad = pad(text_tokenized)\n",
    "for sample_i, (token_sent, pad_sent) in enumerate(zip(text_tokenized, test_pad)):\n",
    "    print('Sequence {} in x'.format(sample_i + 1))\n",
    "    print('  Input:  {}'.format(np.array(token_sent)))\n",
    "    print('  Output: {}'.format(pad_sent))"
   ]
  },
  {
   "cell_type": "markdown",
   "metadata": {
    "deletable": true,
    "editable": true
   },
   "source": [
    "### Preprocess Pipeline\n",
    "Your focus for this project is to build neural network architecture, so we won't ask you to create a preprocess pipeline.  Instead, we've provided you with the implementation of the `preprocess` function."
   ]
  },
  {
   "cell_type": "code",
   "execution_count": 6,
   "metadata": {
    "collapsed": false,
    "deletable": true,
    "editable": true
   },
   "outputs": [
    {
     "name": "stdout",
     "output_type": "stream",
     "text": [
      "Data Preprocessed\n"
     ]
    }
   ],
   "source": [
    "def preprocess(x, y):\n",
    "    \"\"\"\n",
    "    Preprocess x and y\n",
    "    :param x: Feature List of sentences\n",
    "    :param y: Label List of sentences\n",
    "    :return: Tuple of (Preprocessed x, Preprocessed y, x tokenizer, y tokenizer)\n",
    "    \"\"\"\n",
    "    preprocess_x, x_tk = tokenize(x)\n",
    "    preprocess_y, y_tk = tokenize(y)\n",
    "\n",
    "    preprocess_x = pad(preprocess_x)\n",
    "    preprocess_y = pad(preprocess_y)\n",
    "\n",
    "    # Keras's sparse_categorical_crossentropy function requires the labels to be in 3 dimensions\n",
    "    preprocess_y = preprocess_y.reshape(*preprocess_y.shape, 1)\n",
    "\n",
    "    return preprocess_x, preprocess_y, x_tk, y_tk\n",
    "\n",
    "preproc_english_sentences, preproc_french_sentences, english_tokenizer, french_tokenizer =\\\n",
    "    preprocess(english_sentences, french_sentences)\n",
    "\n",
    "print('Data Preprocessed')"
   ]
  },
  {
   "cell_type": "markdown",
   "metadata": {
    "deletable": true,
    "editable": true
   },
   "source": [
    "## Models\n",
    "In this section, you will experiment with various neural network architectures.\n",
    "You will begin by training four relatively simple architectures.\n",
    "- Model 1 is a simple RNN\n",
    "- Model 2 is a RNN with Embedding\n",
    "- Model 3 is a Bidirectional RNN\n",
    "- Model 4 is an optional Encoder-Decoder RNN\n",
    "\n",
    "After experimenting with the four simple architectures, you will construct a deeper architecture that is designed to outperform all four models.\n",
    "### Ids Back to Text\n",
    "The neural network will be translating the input to words ids, which isn't the final form we want.  We want the French translation.  The function `logits_to_text` will bridge the gab between the logits from the neural network to the French translation.  You'll be using this function to better understand the output of the neural network."
   ]
  },
  {
   "cell_type": "code",
   "execution_count": 7,
   "metadata": {
    "collapsed": false,
    "deletable": true,
    "editable": true
   },
   "outputs": [
    {
     "name": "stdout",
     "output_type": "stream",
     "text": [
      "`logits_to_text` function loaded.\n"
     ]
    }
   ],
   "source": [
    "def logits_to_text(logits, tokenizer):\n",
    "    \"\"\"\n",
    "    Turn logits from a neural network into text using the tokenizer\n",
    "    :param logits: Logits from a neural network\n",
    "    :param tokenizer: Keras Tokenizer fit on the labels\n",
    "    :return: String that represents the text of the logits\n",
    "    \"\"\"\n",
    "    index_to_words = {id: word for word, id in tokenizer.word_index.items()}\n",
    "    index_to_words[0] = '<PAD>'\n",
    "\n",
    "    return ' '.join([index_to_words[prediction] for prediction in np.argmax(logits, 1)])\n",
    "\n",
    "print('`logits_to_text` function loaded.')"
   ]
  },
  {
   "cell_type": "markdown",
   "metadata": {
    "deletable": true,
    "editable": true
   },
   "source": [
    "### Model 1: RNN (IMPLEMENTATION)\n",
    "![RNN](images/rnn.png)\n",
    "A basic RNN model is a good baseline for sequence data.  In this model, you'll build a RNN that translates English to French."
   ]
  },
  {
   "cell_type": "code",
   "execution_count": 9,
   "metadata": {
    "collapsed": false,
    "deletable": true,
    "editable": true
   },
   "outputs": [
    {
     "name": "stdout",
     "output_type": "stream",
     "text": [
      "array([[[ 0.,  0.,  0., ...,  0.,  0.,  0.],\n",
      "        [ 0.,  0.,  0., ...,  0.,  0.,  0.],\n",
      "        [ 0.,  0.,  0., ...,  0.,  0.,  0.],\n",
      "        ..., \n",
      "        [ 1.,  0.,  0., ...,  0.,  0.,  0.],\n",
      "        [ 1.,  0.,  0., ...,  0.,  0.,  0.],\n",
      "        [ 1.,  0.,  0., ...,  0.,  0.,  0.]],\n",
      "\n",
      "       [[ 0.,  0.,  0., ...,  0.,  0.,  0.],\n",
      "        [ 0.,  0.,  0., ...,  0.,  0.,  0.],\n",
      "        [ 0.,  0.,  0., ...,  0.,  0.,  0.],\n",
      "        ..., \n",
      "        [ 1.,  0.,  0., ...,  0.,  0.,  0.],\n",
      "        [ 1.,  0.,  0., ...,  0.,  0.,  0.],\n",
      "        [ 1.,  0.,  0., ...,  0.,  0.,  0.]]])\n",
      "(137861, 23, 1)\n",
      "562\n",
      "562\n",
      "(137861, 23, 562)\n",
      "_________________________________________________________________\n",
      "Layer (type)                 Output Shape              Param #   \n",
      "=================================================================\n",
      "gru_2 (GRU)                  (None, 23, 64)            120384    \n",
      "_________________________________________________________________\n",
      "dense_2 (Dense)              (None, 23, 563)           36595     \n",
      "=================================================================\n",
      "Total params: 156,979\n",
      "Trainable params: 156,979\n",
      "Non-trainable params: 0\n",
      "_________________________________________________________________\n",
      "Train on 110288 samples, validate on 27573 samples\n",
      "Epoch 1/4\n",
      "110288/110288 [==============================] - 335s - loss: 1.4373 - acc: 0.6553 - val_loss: 0.7468 - val_acc: 0.7769\n",
      "Epoch 2/4\n",
      "110288/110288 [==============================] - 330s - loss: 0.6450 - acc: 0.8054 - val_loss: 0.5677 - val_acc: 0.8251\n",
      "Epoch 3/4\n",
      "110288/110288 [==============================] - 346s - loss: 0.5262 - acc: 0.8385 - val_loss: 0.4945 - val_acc: 0.8474\n",
      "Epoch 4/4\n",
      "110288/110288 [==============================] - 363s - loss: 0.4734 - acc: 0.8528 - val_loss: 0.4594 - val_acc: 0.8572\n",
      "new jersey is sometimes quiet during autumn , and it is snowy in april . <PAD> <PAD> <PAD> <PAD> <PAD> <PAD> <PAD> <PAD>\n",
      "new jersey est parfois calme en cours , et il est est est en en . <PAD> <PAD> <PAD> <PAD> <PAD> <PAD> <PAD>\n"
     ]
    }
   ],
   "source": [
    "from keras.layers import GRU, Input, Dense, TimeDistributed\n",
    "from keras.models import Model, Sequential\n",
    "from keras.layers import Activation, SimpleRNN\n",
    "from keras.optimizers import Adam\n",
    "from keras.losses import sparse_categorical_crossentropy\n",
    "\n",
    "\n",
    "def simple_model(input_shape, output_sequence_length, english_vocab_size, french_vocab_size, learning_rate=0.1):\n",
    "    \"\"\"\n",
    "    Build and train a basic RNN on x and y\n",
    "    :param input_shape: Tuple of input shape\n",
    "    :param output_sequence_length: Length of output sequence\n",
    "    :param english_vocab_size: Number of unique English words in the dataset\n",
    "    :param french_vocab_size: Number of unique French words in the dataset\n",
    "    :return: Keras model built, but not trained\n",
    "    \"\"\"\n",
    "    print(english_vocab_size)\n",
    "    print(french_vocab_size)\n",
    "    print(input_shape)\n",
    "#     timestep = Input(shape=(input_shape[2],))\n",
    "#     timesteps = Input(shape=input_shape[1:])\n",
    "#     hidden = GRU(64, return_sequences=True)(timesteps)\n",
    "#     predictions = Dense(french_vocab_size + 1, activation='softmax')(hidden)\n",
    "\n",
    "#     rnn_model = Model(inputs=timesteps, outputs=predictions)\n",
    "#     rnn_model.compile(loss=sparse_categorical_crossentropy,\n",
    "#                   optimizer=Adam(learning_rate),\n",
    "#                   metrics=['accuracy'])\n",
    "#     rnn_model.summary()\n",
    "    \n",
    "    rnn_model = Sequential()\n",
    "    rnn_model.add(GRU(64, return_sequences=True, input_shape=input_shape[1:]))\n",
    "    rnn_model.add(Dense(french_vocab_size + 1, activation='softmax'))\n",
    "\n",
    "    rnn_model.compile(loss=sparse_categorical_crossentropy,\n",
    "                  optimizer=Adam(learning_rate, decay=0.01),\n",
    "                  metrics=['accuracy'])\n",
    "    rnn_model.summary()\n",
    "\n",
    "    return rnn_model\n",
    "\n",
    "# tests.test_simple_model(simple_model)\n",
    "\n",
    "\n",
    "# Reshaping the input to work with a basic RNN\n",
    "tmp_x = pad(preproc_english_sentences, preproc_french_sentences.shape[1])\n",
    "tmp_x = tmp_x.reshape((-1, preproc_french_sentences.shape[-2], 1))\n",
    "from keras.utils import to_categorical\n",
    "tmp_x = np.apply_along_axis(lambda x: to_categorical(x, num_classes=len(english_tokenizer.word_index))[0], 2, tmp_x)\n",
    "pprint(tmp_x[:2])\n",
    "pprint(preproc_french_sentences.shape)\n",
    "\n",
    "# Train the neural network\n",
    "simple_rnn_model = simple_model(\n",
    "    tmp_x.shape,\n",
    "    preproc_french_sentences.shape[1],\n",
    "    len(english_tokenizer.word_index),\n",
    "    len(french_tokenizer.word_index))\n",
    "simple_rnn_model.fit(tmp_x, preproc_french_sentences, batch_size=1024, epochs=4, validation_split=0.2)\n",
    "\n",
    "# Print prediction(s)\n",
    "print(logits_to_text(tmp_x[:1][0], english_tokenizer))\n",
    "print(logits_to_text(simple_rnn_model.predict(tmp_x[:1])[0], french_tokenizer))"
   ]
  },
  {
   "cell_type": "markdown",
   "metadata": {
    "deletable": true,
    "editable": true
   },
   "source": [
    "### Model 2: Embedding (IMPLEMENTATION)\n",
    "![RNN](images/embedding.png)\n",
    "You've turned the words into ids, but there's a better representation of a word.  This is called word embeddings.  An embedding is a vector representation of the word that is close to similar words in n-dimensional space, where the n represents the size of the embedding vectors.\n",
    "\n",
    "In this model, you'll create a RNN model using embedding."
   ]
  },
  {
   "cell_type": "code",
   "execution_count": null,
   "metadata": {
    "collapsed": true,
    "deletable": true,
    "editable": true
   },
   "outputs": [],
   "source": [
    "from keras.layers.embeddings import Embedding\n",
    "\n",
    "\n",
    "def embed_model(input_shape, output_sequence_length, english_vocab_size, french_vocab_size):\n",
    "    \"\"\"\n",
    "    Build and train a RNN model using word embedding on x and y\n",
    "    :param input_shape: Tuple of input shape\n",
    "    :param output_sequence_length: Length of output sequence\n",
    "    :param english_vocab_size: Number of unique English words in the dataset\n",
    "    :param french_vocab_size: Number of unique French words in the dataset\n",
    "    :return: Keras model built, but not trained\n",
    "    \"\"\"\n",
    "    # TODO: Implement\n",
    "    return None\n",
    "tests.test_embed_model(embed_model)\n",
    "\n",
    "\n",
    "# TODO: Reshape the input\n",
    "\n",
    "# TODO: Train the neural network\n",
    "\n",
    "# TODO: Print prediction(s)"
   ]
  },
  {
   "cell_type": "markdown",
   "metadata": {
    "deletable": true,
    "editable": true
   },
   "source": [
    "### Model 3: Bidirectional RNNs (IMPLEMENTATION)\n",
    "![RNN](images/bidirectional.png)\n",
    "One restriction of a RNN is that it can't see the future input, only the past.  This is where bidirectional recurrent neural networks come in.  They are able to see the future data."
   ]
  },
  {
   "cell_type": "code",
   "execution_count": null,
   "metadata": {
    "collapsed": true,
    "deletable": true,
    "editable": true
   },
   "outputs": [],
   "source": [
    "from keras.layers import Bidirectional\n",
    "\n",
    "\n",
    "def bd_model(input_shape, output_sequence_length, english_vocab_size, french_vocab_size):\n",
    "    \"\"\"\n",
    "    Build and train a bidirectional RNN model on x and y\n",
    "    :param input_shape: Tuple of input shape\n",
    "    :param output_sequence_length: Length of output sequence\n",
    "    :param english_vocab_size: Number of unique English words in the dataset\n",
    "    :param french_vocab_size: Number of unique French words in the dataset\n",
    "    :return: Keras model built, but not trained\n",
    "    \"\"\"\n",
    "    # TODO: Implement\n",
    "    return None\n",
    "tests.test_bd_model(bd_model)\n",
    "\n",
    "\n",
    "# TODO: Train and Print prediction(s)"
   ]
  },
  {
   "cell_type": "markdown",
   "metadata": {
    "deletable": true,
    "editable": true
   },
   "source": [
    "### Model 4: Encoder-Decoder (OPTIONAL)\n",
    "Time to look at encoder-decoder models.  This model is made up of an encoder and decoder. The encoder creates a matrix representation of the sentence.  The decoder takes this matrix as input and predicts the translation as output.\n",
    "\n",
    "Create an encoder-decoder model in the cell below."
   ]
  },
  {
   "cell_type": "code",
   "execution_count": null,
   "metadata": {
    "collapsed": true,
    "deletable": true,
    "editable": true
   },
   "outputs": [],
   "source": [
    "from keras.layers import RepeatVector\n",
    "\n",
    "\n",
    "def encdec_model(input_shape, output_sequence_length, english_vocab_size, french_vocab_size):\n",
    "    \"\"\"\n",
    "    Build and train an encoder-decoder model on x and y\n",
    "    :param input_shape: Tuple of input shape\n",
    "    :param output_sequence_length: Length of output sequence\n",
    "    :param english_vocab_size: Number of unique English words in the dataset\n",
    "    :param french_vocab_size: Number of unique French words in the dataset\n",
    "    :return: Keras model built, but not trained\n",
    "    \"\"\"\n",
    "    # OPTIONAL: Implement\n",
    "    return None\n",
    "tests.test_encdec_model(encdec_model)\n",
    "\n",
    "\n",
    "# OPTIONAL: Train and Print prediction(s)"
   ]
  },
  {
   "cell_type": "markdown",
   "metadata": {
    "deletable": true,
    "editable": true
   },
   "source": [
    "### Model 5: Custom (IMPLEMENTATION)\n",
    "Use everything you learned from the previous models to create a model that incorporates embedding and a bidirectional rnn into one model."
   ]
  },
  {
   "cell_type": "code",
   "execution_count": null,
   "metadata": {
    "collapsed": false,
    "deletable": true,
    "editable": true
   },
   "outputs": [],
   "source": [
    "def model_final(input_shape, output_sequence_length, english_vocab_size, french_vocab_size):\n",
    "    \"\"\"\n",
    "    Build and train a model that incorporates embedding, encoder-decoder, and bidirectional RNN on x and y\n",
    "    :param input_shape: Tuple of input shape\n",
    "    :param output_sequence_length: Length of output sequence\n",
    "    :param english_vocab_size: Number of unique English words in the dataset\n",
    "    :param french_vocab_size: Number of unique French words in the dataset\n",
    "    :return: Keras model built, but not trained\n",
    "    \"\"\"\n",
    "    # TODO: Implement\n",
    "    return None\n",
    "tests.test_model_final(model_final)\n",
    "\n",
    "\n",
    "print('Final Model Loaded')"
   ]
  },
  {
   "cell_type": "markdown",
   "metadata": {
    "deletable": true,
    "editable": true
   },
   "source": [
    "## Prediction (IMPLEMENTATION)"
   ]
  },
  {
   "cell_type": "code",
   "execution_count": null,
   "metadata": {
    "collapsed": true,
    "deletable": true,
    "editable": true
   },
   "outputs": [],
   "source": [
    "import numpy as np\n",
    "from keras.preprocessing.sequence import pad_sequences\n",
    "\n",
    "\n",
    "def final_predictions(x, y, x_tk, y_tk):\n",
    "    \"\"\"\n",
    "    Gets predictions using the final model\n",
    "    :param x: Preprocessed English data\n",
    "    :param y: Preprocessed French data\n",
    "    :param x_tk: English tokenizer\n",
    "    :param y_tk: French tokenizer\n",
    "    \"\"\"\n",
    "    # TODO: Train neural network using model_final\n",
    "    model = None\n",
    "\n",
    "    \n",
    "    ## DON'T EDIT ANYTHING BELOW THIS LINE\n",
    "    y_id_to_word = {value: key for key, value in y_tk.word_index.items()}\n",
    "    y_id_to_word[0] = '<PAD>'\n",
    "\n",
    "    sentence = 'he saw a old yellow truck'\n",
    "    sentence = [x_tk.word_index[word] for word in sentence.split()]\n",
    "    sentence = pad_sequences([sentence], maxlen=x.shape[-1], padding='post')\n",
    "    sentences = np.array([sentence[0], x[0]])\n",
    "    predictions = model.predict(sentences, len(sentences))\n",
    "\n",
    "    print('Sample 1:')\n",
    "    print(' '.join([y_id_to_word[np.argmax(x)] for x in predictions[0]]))\n",
    "    print('Il a vu un vieux camion jaune')\n",
    "    print('Sample 2:')\n",
    "    print(' '.join([y_id_to_word[np.argmax(x)] for x in predictions[1]]))\n",
    "    print(' '.join([y_id_to_word[np.argmax(x)] for x in y[0]]))\n",
    "\n",
    "\n",
    "final_predictions(preproc_english_sentences, preproc_french_sentences, english_tokenizer, french_tokenizer)"
   ]
  },
  {
   "cell_type": "markdown",
   "metadata": {
    "deletable": true,
    "editable": true
   },
   "source": [
    "## Submission\n",
    "When you are ready to submit your project, do the following steps:\n",
    "1. Ensure you pass all points on the [rubric](https://review.udacity.com/#!/rubrics/1004/view).\n",
    "2. Submit the following in a zip file.\n",
    "  - `helper.py`\n",
    "  - `machine_translation.ipynb`\n",
    "  - `machine_translation.html`\n",
    "    - You can export the notebook by navigating to **File -> Download as -> HTML (.html)**."
   ]
  }
 ],
 "metadata": {
  "anaconda-cloud": {},
  "kernelspec": {
   "display_name": "Python [conda env:aind-nlp-capstone]",
   "language": "python",
   "name": "conda-env-aind-nlp-capstone-py"
  },
  "language_info": {
   "codemirror_mode": {
    "name": "ipython",
    "version": 3
   },
   "file_extension": ".py",
   "mimetype": "text/x-python",
   "name": "python",
   "nbconvert_exporter": "python",
   "pygments_lexer": "ipython3",
   "version": "3.5.3"
  }
 },
 "nbformat": 4,
 "nbformat_minor": 0
}
