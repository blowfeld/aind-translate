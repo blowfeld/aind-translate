{
 "cells": [
  {
   "cell_type": "markdown",
   "metadata": {
    "collapsed": true
   },
   "source": [
    "# Artificial Intelligence Nanodegree\n",
    "## Machine Translation Project\n",
    "In this notebook, sections that end with **'(IMPLEMENTATION)'** in the header indicate that the following blocks of code will require additional functionality which you must provide. Please be sure to read the instructions carefully!\n",
    "\n",
    "## Introduction\n",
    "In this notebook, you will build a deep neural network that functions as part of an end-to-end machine translation pipeline. Your completed pipeline will accept English text as input and return the French translation.\n",
    "\n",
    "- **Preprocess** - You'll convert text to sequence of integers.\n",
    "- **Models** Create models which accepts a sequence of integers as input and returns a probability distribution over possible translations. After learning about the basic types of neural networks that are often used for machine translation, you will engage in your own investigations, to design your own model!\n",
    "- **Prediction** Run the model on English text.\n",
    "\n",
    "## Dataset\n",
    "We begin by investigating the dataset that will be used to train and evaluate your pipeline.  The most common datasets used for machine translation are from [WMT](http://www.statmt.org/).  However, that will take a long time to train a neural network on.  We'll be using a dataset we created for this project that contains a small vocabulary.  You'll be able to train your model in a reasonable time with this dataset.\n",
    "### Load Data\n",
    "The data is located in `data/small_vocab_en` and `data/small_vocab_fr`. The `small_vocab_en` file contains English sentences with their French translations in the `small_vocab_fr` file. Load the English and French data from these files from running the cell below."
   ]
  },
  {
   "cell_type": "code",
   "execution_count": 1,
   "metadata": {},
   "outputs": [
    {
     "name": "stdout",
     "output_type": "stream",
     "text": [
      "Dataset Loaded\n"
     ]
    }
   ],
   "source": [
    "import helper\n",
    "\n",
    "\n",
    "# Load English data\n",
    "english_sentences = helper.load_data('data/small_vocab_en')\n",
    "# Load French data\n",
    "french_sentences = helper.load_data('data/small_vocab_fr')\n",
    "\n",
    "print('Dataset Loaded')"
   ]
  },
  {
   "cell_type": "markdown",
   "metadata": {},
   "source": [
    "### Files\n",
    "Each line in `small_vocab_en` contains an English sentence with the respective translation in each line of `small_vocab_fr`.  View the first two lines from each file."
   ]
  },
  {
   "cell_type": "code",
   "execution_count": 2,
   "metadata": {},
   "outputs": [
    {
     "name": "stdout",
     "output_type": "stream",
     "text": [
      "small_vocab_en Line 1:  new jersey is sometimes quiet during autumn , and it is snowy in april .\n",
      "small_vocab_fr Line 1:  new jersey est parfois calme pendant l' automne , et il est neigeux en avril .\n",
      "small_vocab_en Line 2:  the united states is usually chilly during july , and it is usually freezing in november .\n",
      "small_vocab_fr Line 2:  les états-unis est généralement froid en juillet , et il gèle habituellement en novembre .\n"
     ]
    }
   ],
   "source": [
    "for sample_i in range(2):\n",
    "    print('small_vocab_en Line {}:  {}'.format(sample_i + 1, english_sentences[sample_i]))\n",
    "    print('small_vocab_fr Line {}:  {}'.format(sample_i + 1, french_sentences[sample_i]))"
   ]
  },
  {
   "cell_type": "markdown",
   "metadata": {},
   "source": [
    "From looking at the sentences, you can see they have been preprocessed already.  The puncuations have been delimited using spaces. All the text have been converted to lowercase.  This should save you some time, but the text requires more preprocessing.\n",
    "### Vocabulary\n",
    "The complexity of the problem is determined by the complexity of the vocabulary.  A more complex vocabulary is a more complex problem.  Let's look at the complexity of the dataset we'll be working with."
   ]
  },
  {
   "cell_type": "code",
   "execution_count": 3,
   "metadata": {},
   "outputs": [
    {
     "name": "stdout",
     "output_type": "stream",
     "text": [
      "1823250 English words.\n",
      "227 unique English words.\n",
      "10 Most common words in the English dataset:\n",
      "\"is\" \",\" \".\" \"in\" \"it\" \"during\" \"the\" \"but\" \"and\" \"sometimes\"\n",
      "\n",
      "1961295 French words.\n",
      "355 unique French words.\n",
      "10 Most common words in the French dataset:\n",
      "\"est\" \".\" \",\" \"en\" \"il\" \"les\" \"mais\" \"et\" \"la\" \"parfois\"\n"
     ]
    }
   ],
   "source": [
    "import collections\n",
    "\n",
    "\n",
    "english_words_counter = collections.Counter([word for sentence in english_sentences for word in sentence.split()])\n",
    "french_words_counter = collections.Counter([word for sentence in french_sentences for word in sentence.split()])\n",
    "\n",
    "print('{} English words.'.format(len([word for sentence in english_sentences for word in sentence.split()])))\n",
    "print('{} unique English words.'.format(len(english_words_counter)))\n",
    "print('10 Most common words in the English dataset:')\n",
    "print('\"' + '\" \"'.join(list(zip(*english_words_counter.most_common(10)))[0]) + '\"')\n",
    "print()\n",
    "print('{} French words.'.format(len([word for sentence in french_sentences for word in sentence.split()])))\n",
    "print('{} unique French words.'.format(len(french_words_counter)))\n",
    "print('10 Most common words in the French dataset:')\n",
    "print('\"' + '\" \"'.join(list(zip(*french_words_counter.most_common(10)))[0]) + '\"')"
   ]
  },
  {
   "cell_type": "markdown",
   "metadata": {},
   "source": [
    "For comparison, _Alice's Adventures in Wonderland_ contains 2,766 unique words of a total of 15,500 words.\n",
    "## Preprocess\n",
    "For this project, you won't use text data as input to your model. Instead, you'll convert the text into sequences of integers using the following preprocess methods:\n",
    "1. Tokenize the words into ids\n",
    "2. Add padding to make all the sequences the same length.\n",
    "\n",
    "Time to start preprocessing the data...\n",
    "### Tokenize (IMPLEMENTATION)\n",
    "For a neural network to predict on text data, it first has to be turned into data it can understand. Text data like \"dog\" is a sequence of ASCII character encodings.  Since a neural network is a series of multiplication and addition operations, the input data needs to be number(s).\n",
    "\n",
    "We can turn each character into a number or each word into a number.  These are called character and word ids, respectively.  Character ids are used for character level models that generate text predictions for each character.  A word level model uses word ids that generate text predictions for each word.  Word level models tend to learn better, since they are lower in complexity, so we'll use those.\n",
    "\n",
    "Turn each sentence into a sequence of words ids using Keras's [`Tokenizer`](https://keras.io/preprocessing/text/#tokenizer) function. Use this function to tokenize `english_sentences` and `french_sentences` in the cell below.\n",
    "\n",
    "Running the cell will run `tokenize` on sample data and show output for debugging."
   ]
  },
  {
   "cell_type": "code",
   "execution_count": 4,
   "metadata": {},
   "outputs": [
    {
     "name": "stderr",
     "output_type": "stream",
     "text": [
      "Using TensorFlow backend.\n"
     ]
    },
    {
     "name": "stdout",
     "output_type": "stream",
     "text": [
      "{'gèle': 184, 'quand': 416, 'might': 317, 'il': 6, 'voudrait': 511, 'avons': 515, 'little': 233, 'we': 198, 'and': 15, 'prévois': 368, 'are': 251, 'new': 31, 'trouvé': 556, 'intention': 371, 'poires': 139, 'the': 10, 'visiter': 250, 'aiment': 226, 'mais': 13, 'cold': 108, 'douce': 522, 'september': 86, 'juin': 72, 'driving': 219, 'août': 114, 'grandes': 520, 'chiens': 459, '-elle': 507, 'allé': 402, 'china': 57, '-ils': 501, 'favori': 182, 'avril': 91, 'tower': 473, '.': 1, 'étaient': 323, 'quiet': 121, 'novembre': 93, 'aimée': 428, 'peach.': 377, 'comme': 356, 'inde': 53, 'horse': 386, 'serpent': 400, 'june': 71, 'petites': 502, 'lions': 418, 'liked.': 292, 'hiver': 78, 'elle': 49, 'pourrait': 360, 'avez': 411, \"n'est\": 486, \"l'école\": 483, 'est': 4, ',': 2, 'noire': 278, 'rouille': 498, 'weather': 495, 'préférée': 256, 'clémentes': 373, 'allions': 555, 'nouvelle': 272, 'blanche': 280, 'dislike': 180, 'most': 41, 'du': 491, 'humide': 125, 'visit': 222, 'septembre': 87, 'décembre': 96, 'vont': 409, 'would': 485, 'translating': 343, 'notre': 126, 'beau': 135, 'chats': 465, 'grapefruit': 63, 'je': 214, 'saw': 268, 'souris': 358, 'parfois': 19, 'mouse': 385, 'were': 313, 'eiffel': 425, 'enneigée': 181, 'limes': 145, 'rainy': 116, 'rabbit': 391, 'brillante': 312, 'cats': 451, 'ils': 190, 'blue': 241, 'moteur': 562, 'vit': 548, 'noir': 319, 'grapefruit.': 282, 'california': 45, 'fait': 193, 'field': 476, 'wonderful': 110, 'éléphant': 420, 'souvent': 560, 'is': 3, 'détestez': 518, 'shiny': 245, 'cet': 347, 'son': 38, 'nice': 85, 'during': 9, 'citrons': 50, 'nos': 277, 'est-ce': 530, 'pamplemousse': 62, 'bears': 454, 'singe': 397, 'temps': 496, 'qui': 552, \"l'oiseau\": 461, \"l'éléphant\": 460, 'lemons.': 341, 'went': 316, 'loved.': 293, 'favoris': 559, 'lion': 314, 'autumn': 81, 'gelé': 433, 'dog': 388, 'did': 372, 'tour': 479, 'birds': 455, 'prochain': 212, 'états-unis': 56, 'va': 324, 'es-tu': 561, 'belle': 195, \"qu'elle\": 500, 'durant': 523, 'never': 21, 'monkeys': 453, 'pêches': 138, 'votre': 69, 'verte': 275, 'favorite.': 249, 'chat': 393, 'à': 46, 'between': 286, 'pêche': 166, 'cépage': 471, 'his': 66, 'manguiers': 514, 'de': 40, 'ont': 381, 'fraise': 165, 'requin': 394, 'pears.': 304, 'fall': 70, 'rabbits': 452, 'lemon.': 378, \"j'aime\": 248, 'gros': 357, 'portuguese': 332, 'apples.': 309, 'chaude': 225, 'traduction': 348, 'wet': 118, 'vieille': 273, 'vous': 200, \"aren't\": 492, 'apple': 170, 'leur': 129, \"l'automne\": 187, 'se': 298, 'february': 97, 'jamais': 22, 'fruit': 16, 'elephant': 387, 'vert': 326, 'redoutée': 551, 'frais': 513, 'shark': 383, 'pourquoi': 366, 'green': 244, 'proches': 512, 'occupée': 253, 'détend': 550, 'conduit': 210, 'french': 335, 'ce': 215, 'mouillée': 540, 'fruit.': 434, 'allés': 412, 'doux': 124, 'dislikes': 132, 'cheval': 395, 'facile': 355, 'bear': 390, 'limes.': 346, 'congélation': 524, 'you': 202, 'where': 526, 'pluie': 404, 'mai': 84, 'oiseaux': 468, 'aux': 311, 'prévoient': 440, '-ce': 432, 'a': 188, 'october': 105, 'they': 189, 'redouté': 281, 'février': 98, 'voulait': 361, 'que': 266, 'vos': 370, 'serpents': 464, 'froid': 37, 'pommes': 137, 'êtes-vous': 509, '-': 327, 'portugais': 337, 'easy': 352, 'le': 23, 'printemps': 74, 'plan': 262, 'your': 64, 'relaxing': 120, 'visite': 443, 'at': 497, 'traduis': 553, 'january': 75, 'fun': 351, 'march': 79, 'cette': 221, 'feared': 257, 'vers': 439, 'pousse': 490, 'pamplemousses': 285, 'mild': 117, 'détendre': 427, 'pensez': 472, 'fraises': 140, 'states': 55, 'les': 11, 'une': 220, 'faire': 558, 'strawberry': 167, 'bananas.': 307, 'maillot': 407, 'voulaient': 423, 'préférés': 315, 'préféré': 32, 'moins': 27, 'but': 12, 'juillet': 89, 'orange.': 374, 'grocery': 474, 'snakes': 450, 'occupé': 130, 'sec': 128, 'peaches': 152, 'i': 194, 'requins': 462, 'neigeux': 209, 'drove': 271, \"n'aimait\": 284, 'cher': 218, 'december': 95, 'chien': 396, 'pear': 174, 'ne': 196, 'habituellement': 136, 'animaux': 260, 'when': 415, 'cours': 207, 'white': 242, 'frisquet': 254, 'spring': 73, 'rouillé': 300, 'their': 100, 'strawberry.': 417, 'liked': 48, 'nous': 199, 'pense': 287, 'rendre': 325, 'it': 8, 'était': 223, 'july': 88, 'truck': 204, 'cat': 382, 'envisage': 322, 'aller': 224, 'neige': 192, 'banane': 163, 'difficile': 353, 'raisin': 158, 'aimeraient': 532, 'chevaux': 458, 'lemons': 147, 'prévoyons': 369, 'next': 211, 'singes': 467, 'winter': 77, 'grape': 168, 'voiture': 186, 'entre': 288, 'automobile': 203, \"n'a\": 533, 'was': 208, 'bénigne': 539, 'mice': 456, 'chaux': 162, 'ressort': 549, 'gel': 157, 'pomme': 159, 'to': 154, 'bien': 438, 'car': 205, 'dry': 111, 'our': 99, 'pas': 179, 'dernier': 261, 'des': 201, 'usually': 20, 'aimé': 30, 'lac': 482, 'gelés': 544, 'lemon': 171, 'school': 478, 'au': 29, 'aimons': 227, 'he': 59, 'lime.': 408, 'mangue': 156, '-il': 494, 'raisins': 143, 'généralement': 25, 'dogs': 448, 'un': 264, 'my': 65, 'lui': 442, 'loved': 47, 'allons': 487, \"l'animal\": 484, \"n'aiment\": 228, 'snowy': 106, 'traduire': 291, 'likes': 133, 'français': 340, \"n'aimons\": 431, 'jaune': 246, \"n'êtes\": 547, 'brillant': 279, 'la': 17, 'en': 5, 'petite': 276, 'glaciales': 342, \"l'automobile\": 430, 'ours': 398, 'this': 259, 'black': 243, 'old': 237, 'vais': 510, \"l'épicerie\": 480, 'chinese': 333, 'why': 364, \"l'orange\": 160, 'janvier': 76, 'poire': 164, \"n'aime\": 191, 'november': 92, 'am': 506, 'do': 436, 'oranges.': 308, 'does': 503, 'dernière': 508, 'have': 527, 'aimé.': 235, 'pourraient': 422, 'rouillée': 294, 'pear.': 379, 'détestons': 236, 'yellow': 238, 'verts': 142, 'that': 197, 'dans': 529, 'redoutés': 401, 'grosses': 538, 'like': 177, 'translate': 295, 'in': 7, 'déteste': 183, \"isn't\": 505, 'trop': 405, 'go': 217, 'animal': 178, 'agréable': 36, 'warm': 107, '?': 213, \"n'aimez\": 229, 'has': 504, 'voulez': 531, 'peu': 489, 'store': 475, 'pluvieux': 131, 'ses': 302, 'busy': 112, 'her': 67, 'favorite': 28, 'big': 234, 'chaud': 39, 'amusant': 354, 'spanish': 331, \"l'\": 24, 'grape.': 414, 'hot': 122, 'banana': 172, 'drives': 270, 'red': 239, 'mois': 44, 'horses': 447, 'freezing': 101, 'lake': 477, 'least': 26, 'mangues': 144, 'plus': 42, 'automne': 43, 'going': 267, 'banana.': 376, \"it's\": 365, 'lime': 169, 'apples': 149, 'difficult': 350, 'orange': 176, 'april': 90, 'sèche': 252, 'calme': 134, 'sharks': 449, 'aimés': 367, 'united': 54, 'merveilleux': 119, 'allez': 488, 't': 516, 'may': 83, \"d'\": 155, 'been': 493, 'pendant': 61, \"qu'il\": 305, 'conduite': 543, 'pluies': 320, 'moindres': 542, 'plaît': 525, 'conduisait': 265, 'lapin': 399, 'mouillé': 349, 'éléphants': 457, 'plans': 296, 'préférées': 521, 'comment': 445, 'strawberries': 150, 'camion': 206, 'mon': 68, 'wants': 359, 'france': 34, 'peaches.': 303, 'english': 334, 'fruits': 185, 'et': 14, 'august': 113, 'grosse': 403, 'enneigé': 541, 'veut': 362, 'aiment-ils': 535, 'monde': 406, 'vu': 274, 'elephants': 446, 'porcelaine': 517, 'want': 421, 'rouge': 247, 'grands': 536, 'où': 528, 'mango.': 375, 'pleut': 283, 'monkey': 389, 'vieux': 328, 'paris': 33, 'aimez': 231, 'grand': 437, 'magnifique': 429, 'pleasant': 102, 'leurs': 230, 'mangoes': 146, 'grapes': 148, 'etats-unis': 546, 'animals': 258, 'petits': 534, 'bananes': 141, 'aime': 109, 'chilly': 115, 'mars': 80, 'bleue': 289, 'as-tu': 557, 'peach': 175, 'octobre': 104, 'pears': 153, 'sometimes': 18, 'relaxant': 123, 'espagnol': 336, 'anglais': 339, 'think': 363, 'tout': 545, 'prévoit': 441, \"c'est\": 519, 'strawberries.': 310, 'volant': 410, 'india': 52, \"l'ours\": 463, 'mangoes.': 345, 'snake': 392, 'beautiful': 103, 'oranges': 51, 'détestait': 435, 'football': 426, 'apple.': 380, 'terrain': 481, 'mango': 173, 'grapes.': 330, 'veulent': 424, 'petit': 329, 'jersey': 35, 'citron': 161, 'mes': 344, 'sur': 499, 'été': 82, 'grande': 299, 'allée': 413, 'lapins': 466, 'aimait': 263, 'bird': 384, 'how': 444, 'bleu': 297, 'last': 255, 'oiseau': 419, 'apprécié': 554, 'disliked': 269, 'envisagent': 537, 'rusty': 240, 'she': 60, 'préféré.': 301, 'wanted': 318, 'nouveau': 290, 'légère': 469, 'sont': 232, 'tranquille': 216, 'thinks': 321, \"didn't\": 470, 'summer': 94, 'californie': 127, 'bananas': 151, 'chinois': 338, 'blanc': 306, 'chine': 58}\n",
      "\n",
      "Sequence 1 in x\n",
      "  Input:  The quick brown fox jumps over the lazy dog .\n",
      "  Output: [10, 10, 388, 1]\n",
      "Sequence 2 in x\n",
      "  Input:  By Jove , my quick study of lexicography won a prize .\n",
      "  Output: [2, 65, 188, 1]\n",
      "Sequence 3 in x\n",
      "  Input:  This is a short sentence .\n",
      "  Output: [259, 3, 188, 1]\n"
     ]
    }
   ],
   "source": [
    "import project_tests as tests\n",
    "from keras.preprocessing.text import Tokenizer\n",
    "from itertools import chain\n",
    "from pprint import pprint\n",
    "\n",
    "def tokenize(x):\n",
    "    \"\"\"\n",
    "    Tokenize x\n",
    "    :param x: List of sentences/strings to be tokenized\n",
    "    :return: Tuple of (tokenized x data, tokenizer used to tokenize x)\n",
    "    \"\"\"\n",
    "    small_voc_tokenizer = Tokenizer(filters='')\n",
    "    small_voc_tokenizer.fit_on_texts(chain(iter(english_sentences), iter(french_sentences)))\n",
    "\n",
    "    return small_voc_tokenizer.texts_to_sequences(x), small_voc_tokenizer\n",
    "\n",
    "tests.test_tokenize(tokenize)\n",
    "\n",
    "# Tokenize Example output\n",
    "text_sentences = [\n",
    "    'The quick brown fox jumps over the lazy dog .',\n",
    "    'By Jove , my quick study of lexicography won a prize .',\n",
    "    'This is a short sentence .']\n",
    "text_tokenized, text_tokenizer = tokenize(text_sentences)\n",
    "print(text_tokenizer.word_index)\n",
    "print()\n",
    "for sample_i, (sent, token_sent) in enumerate(zip(text_sentences, text_tokenized)):\n",
    "    print('Sequence {} in x'.format(sample_i + 1))\n",
    "    print('  Input:  {}'.format(sent))\n",
    "    print('  Output: {}'.format(token_sent))"
   ]
  },
  {
   "cell_type": "markdown",
   "metadata": {},
   "source": [
    "### Padding (IMPLEMENTATION)\n",
    "When batching the sequence of word ids together, each sequence needs to be the same length.  Since sentences are dynamic in length, we can add padding to the end of the sequences to make them the same length.\n",
    "\n",
    "Make sure all the English sequences have the same length and all the French sequences have the same length by adding padding to the **end** of each sequence using Keras's [`pad_sequences`](https://keras.io/preprocessing/sequence/#pad_sequences) function."
   ]
  },
  {
   "cell_type": "code",
   "execution_count": 5,
   "metadata": {},
   "outputs": [
    {
     "name": "stdout",
     "output_type": "stream",
     "text": [
      "Sequence 1 in x\n",
      "  Input:  [ 10  10 388   1]\n",
      "  Output: [ 10  10 388   1]\n",
      "Sequence 2 in x\n",
      "  Input:  [  2  65 188   1]\n",
      "  Output: [  2  65 188   1]\n",
      "Sequence 3 in x\n",
      "  Input:  [259   3 188   1]\n",
      "  Output: [259   3 188   1]\n"
     ]
    }
   ],
   "source": [
    "import numpy as np\n",
    "from keras.preprocessing.sequence import pad_sequences\n",
    "\n",
    "\n",
    "def pad(x, length=None):\n",
    "    \"\"\"\n",
    "    Pad x\n",
    "    :param x: List of sequences.\n",
    "    :param length: Length to pad the sequence to.  If None, use length of longest sequence in x.\n",
    "    :return: Padded numpy array of sequences\n",
    "    \"\"\"\n",
    "    maxlen = length if length else max(len(seq) for seq in x)\n",
    "\n",
    "    return pad_sequences(x, maxlen=maxlen, padding='post', truncating='post', value=0)\n",
    "\n",
    "tests.test_pad(pad)\n",
    "\n",
    "# Pad Tokenized output\n",
    "test_pad = pad(text_tokenized)\n",
    "for sample_i, (token_sent, pad_sent) in enumerate(zip(text_tokenized, test_pad)):\n",
    "    print('Sequence {} in x'.format(sample_i + 1))\n",
    "    print('  Input:  {}'.format(np.array(token_sent)))\n",
    "    print('  Output: {}'.format(pad_sent))"
   ]
  },
  {
   "cell_type": "markdown",
   "metadata": {},
   "source": [
    "### Preprocess Pipeline\n",
    "Your focus for this project is to build neural network architecture, so we won't ask you to create a preprocess pipeline.  Instead, we've provided you with the implementation of the `preprocess` function."
   ]
  },
  {
   "cell_type": "code",
   "execution_count": 6,
   "metadata": {},
   "outputs": [
    {
     "name": "stdout",
     "output_type": "stream",
     "text": [
      "Data Preprocessed\n"
     ]
    }
   ],
   "source": [
    "def preprocess(x, y):\n",
    "    \"\"\"\n",
    "    Preprocess x and y\n",
    "    :param x: Feature List of sentences\n",
    "    :param y: Label List of sentences\n",
    "    :return: Tuple of (Preprocessed x, Preprocessed y, x tokenizer, y tokenizer)\n",
    "    \"\"\"\n",
    "    preprocess_x, x_tk = tokenize(x)\n",
    "    preprocess_y, y_tk = tokenize(y)\n",
    "\n",
    "    preprocess_x = pad(preprocess_x)\n",
    "    preprocess_y = pad(preprocess_y)\n",
    "\n",
    "    # Keras's sparse_categorical_crossentropy function requires the labels to be in 3 dimensions\n",
    "    preprocess_y = preprocess_y.reshape(*preprocess_y.shape, 1)\n",
    "\n",
    "    return preprocess_x, preprocess_y, x_tk, y_tk\n",
    "\n",
    "preproc_english_sentences, preproc_french_sentences, english_tokenizer, french_tokenizer =\\\n",
    "    preprocess(english_sentences, french_sentences)\n",
    "\n",
    "print('Data Preprocessed')"
   ]
  },
  {
   "cell_type": "markdown",
   "metadata": {},
   "source": [
    "## Models\n",
    "In this section, you will experiment with various neural network architectures.\n",
    "You will begin by training four relatively simple architectures.\n",
    "- Model 1 is a simple RNN\n",
    "- Model 2 is a RNN with Embedding\n",
    "- Model 3 is a Bidirectional RNN\n",
    "- Model 4 is an optional Encoder-Decoder RNN\n",
    "\n",
    "After experimenting with the four simple architectures, you will construct a deeper architecture that is designed to outperform all four models.\n",
    "### Ids Back to Text\n",
    "The neural network will be translating the input to words ids, which isn't the final form we want.  We want the French translation.  The function `logits_to_text` will bridge the gab between the logits from the neural network to the French translation.  You'll be using this function to better understand the output of the neural network."
   ]
  },
  {
   "cell_type": "code",
   "execution_count": 7,
   "metadata": {},
   "outputs": [
    {
     "name": "stdout",
     "output_type": "stream",
     "text": [
      "`logits_to_text` function loaded.\n"
     ]
    }
   ],
   "source": [
    "def logits_to_text(logits, tokenizer):\n",
    "    \"\"\"\n",
    "    Turn logits from a neural network into text using the tokenizer\n",
    "    :param logits: Logits from a neural network\n",
    "    :param tokenizer: Keras Tokenizer fit on the labels\n",
    "    :return: String that represents the text of the logits\n",
    "    \"\"\"\n",
    "    index_to_words = {id: word for word, id in tokenizer.word_index.items()}\n",
    "    index_to_words[0] = '<PAD>'\n",
    "\n",
    "    return ' '.join([index_to_words[prediction] for prediction in np.argmax(logits, 1)])\n",
    "\n",
    "print('`logits_to_text` function loaded.')"
   ]
  },
  {
   "cell_type": "markdown",
   "metadata": {},
   "source": [
    "### Model 1: RNN (IMPLEMENTATION)\n",
    "![RNN](images/rnn.png)\n",
    "A basic RNN model is a good baseline for sequence data.  In this model, you'll build a RNN that translates English to French."
   ]
  },
  {
   "cell_type": "code",
   "execution_count": 8,
   "metadata": {},
   "outputs": [
    {
     "name": "stdout",
     "output_type": "stream",
     "text": [
      "Train on 110288 samples, validate on 27573 samples\n",
      "Input:\n",
      "new jersey is sometimes quiet during autumn , and it is snowy in april . <PAD> <PAD> <PAD> <PAD> <PAD> <PAD> <PAD> <PAD>\n",
      "Output:\n",
      "allé serpent pense j'aime warm novembre cheval aiment-ils easy requins orange. -il february truck aimée truck driving mouse mouse mouse mouse mouse mouse\n"
     ]
    }
   ],
   "source": [
    "from keras.layers import GRU, Input, Dense, TimeDistributed\n",
    "from keras.models import Model, Sequential\n",
    "from keras.layers import Activation, SimpleRNN\n",
    "from keras.optimizers import Adam\n",
    "from keras.losses import sparse_categorical_crossentropy\n",
    "\n",
    "\n",
    "def simple_model(input_shape, output_sequence_length, english_vocab_size, french_vocab_size, learning_rate=0.1):\n",
    "    \"\"\"\n",
    "    Build and train a basic RNN on x and y\n",
    "    :param input_shape: Tuple of input shape\n",
    "    :param output_sequence_length: Length of output sequence\n",
    "    :param english_vocab_size: Number of unique English words in the dataset\n",
    "    :param french_vocab_size: Number of unique French words in the dataset\n",
    "    :return: Keras model built, but not trained\n",
    "    \"\"\"\n",
    "    timesteps = Input(shape=input_shape[1:])\n",
    "    hidden = GRU(64, return_sequences=True)(timesteps)\n",
    "    # TimeDistriubted is technically not necessary here, as it is done automatically if the sequence input length\n",
    "    # is fixed. With a SequentialModel and the GRU as first input layer, however, it can be used to create a model\n",
    "    # that accepts variable length sequences as input.\n",
    "    predictions = TimeDistributed(Dense(french_vocab_size, activation='softmax'))(hidden)\n",
    "\n",
    "    rnn_model = Model(inputs=timesteps, outputs=predictions)\n",
    "    rnn_model.compile(loss=sparse_categorical_crossentropy,\n",
    "                  optimizer=Adam(learning_rate, decay=0.01),\n",
    "                  metrics=['accuracy'])\n",
    "\n",
    "#     rnn_model.summary()\n",
    "\n",
    "    return rnn_model\n",
    "\n",
    "tests.test_simple_model(simple_model)\n",
    "\n",
    "# Reshaping the input to work with a basic RNN\n",
    "pad_x = pad(preproc_english_sentences, preproc_french_sentences.shape[1])\n",
    "\n",
    "# Using one-hot encoding to get simple RNN to work\n",
    "from keras.utils import to_categorical\n",
    "onehot_x = np.apply_along_axis(lambda x: to_categorical(x, num_classes=len(english_tokenizer.word_index)), 1, pad_x)\n",
    "\n",
    "idx_x = pad_x.reshape((-1, preproc_french_sentences.shape[-2], 1))\n",
    "\n",
    "# Train the neural network\n",
    "simple_rnn_model = simple_model(\n",
    "    onehot_x.shape,\n",
    "    preproc_french_sentences.shape[1],\n",
    "    len(english_tokenizer.word_index),\n",
    "    len(french_tokenizer.word_index))\n",
    "# simple_rnn_model.fit(onehot_x, preproc_french_sentences, batch_size=1024, epochs=15, validation_split=0.2)\n",
    "simple_rnn_model.fit(onehot_x, preproc_french_sentences, batch_size=1024, epochs=0, validation_split=0.2)\n",
    "\n",
    "# Print prediction(s)\n",
    "print(\"Input:\")\n",
    "print(logits_to_text(onehot_x[:1][0], english_tokenizer))\n",
    "print(\"Output:\")\n",
    "print(logits_to_text(simple_rnn_model.predict(onehot_x[:1])[0], french_tokenizer))"
   ]
  },
  {
   "cell_type": "markdown",
   "metadata": {},
   "source": [
    "### Model 2: Embedding (IMPLEMENTATION)\n",
    "![RNN](images/embedding.png)\n",
    "You've turned the words into ids, but there's a better representation of a word.  This is called word embeddings.  An embedding is a vector representation of the word that is close to similar words in n-dimensional space, where the n represents the size of the embedding vectors.\n",
    "\n",
    "In this model, you'll create a RNN model using embedding."
   ]
  },
  {
   "cell_type": "code",
   "execution_count": 9,
   "metadata": {},
   "outputs": [
    {
     "name": "stdout",
     "output_type": "stream",
     "text": [
      "Train on 110288 samples, validate on 27573 samples\n",
      "Input:\n",
      "new jersey is sometimes quiet during autumn , and it is snowy in april . <PAD> <PAD> <PAD> <PAD> <PAD> <PAD> <PAD> <PAD>\n",
      "Output:\n",
      "poires elephants traduire gros juin noir intention intention plans oiseaux pomme fruit. elephants elephants vieille dans dans dans dans dans dans dans dans\n"
     ]
    }
   ],
   "source": [
    "from keras.layers.embeddings import Embedding\n",
    "\n",
    "eb_size = 8\n",
    "eb_lr = 0.05\n",
    "eb_lr_dec = 1/250\n",
    "eb_batch_size = 1024\n",
    "eb_epochs = 0\n",
    "# eb_epochs = 30\n",
    "\n",
    "# eb_size = 128\n",
    "# eb_lr = 0.1\n",
    "# eb_lr_dec = 1/50\n",
    "# eb_batch_size = 1024\n",
    "# eb_epochs = 30\n",
    "\n",
    "def embed_model(input_shape, output_sequence_length, english_vocab_size, french_vocab_size):\n",
    "    \"\"\"\n",
    "    Build and train a RNN model using word embedding on x and y\n",
    "    :param input_shape: Tuple of input shape\n",
    "    :param output_sequence_length: Length of output sequence\n",
    "    :param english_vocab_size: Number of unique English words in the dataset\n",
    "    :param french_vocab_size: Number of unique French words in the dataset\n",
    "    :return: Keras model built, but not trained\n",
    "    \"\"\"\n",
    "    timesteps = Input(shape=input_shape[1:])\n",
    "    embedding = Embedding(english_vocab_size, eb_size)(timesteps)\n",
    "    hidden = GRU(64, return_sequences=True)(embedding)\n",
    "    predictions = Dense(french_vocab_size, activation='softmax')(hidden)\n",
    "\n",
    "    embed_rnn_model = Model(inputs=timesteps, outputs=predictions)\n",
    "    embed_rnn_model.compile(loss=sparse_categorical_crossentropy,\n",
    "                  optimizer=Adam(eb_lr, decay=eb_lr_dec),\n",
    "                  metrics=['accuracy'])\n",
    "    \n",
    "    # embed_rnn_model.summary()\n",
    "    \n",
    "\n",
    "    return embed_rnn_model\n",
    "\n",
    "tests.test_embed_model(embed_model)\n",
    "\n",
    "# Train the neural network\n",
    "embedded_rnn_model = embed_model(\n",
    "    pad_x.shape,\n",
    "    preproc_french_sentences.shape[1],\n",
    "    len(english_tokenizer.word_index),\n",
    "    len(french_tokenizer.word_index))\n",
    "embedded_rnn_model.fit(pad_x, preproc_french_sentences, batch_size=eb_batch_size, epochs=eb_epochs, validation_split=0.2)\n",
    "\n",
    "\n",
    "# Print prediction(s)\n",
    "print(\"Input:\")\n",
    "print(logits_to_text(onehot_x[:1][0], english_tokenizer))\n",
    "print(\"Output:\")\n",
    "print(logits_to_text(embedded_rnn_model.predict(pad_x[:1])[0], french_tokenizer))"
   ]
  },
  {
   "cell_type": "markdown",
   "metadata": {},
   "source": [
    "### Model 3: Bidirectional RNNs (IMPLEMENTATION)\n",
    "![RNN](images/bidirectional.png)\n",
    "One restriction of a RNN is that it can't see the future input, only the past.  This is where bidirectional recurrent neural networks come in.  They are able to see the future data."
   ]
  },
  {
   "cell_type": "code",
   "execution_count": 10,
   "metadata": {},
   "outputs": [
    {
     "name": "stdout",
     "output_type": "stream",
     "text": [
      "Train on 110288 samples, validate on 27573 samples\n",
      "new jersey is sometimes quiet during autumn , and it is snowy in april . <PAD> <PAD> <PAD> <PAD> <PAD> <PAD> <PAD> <PAD>\n",
      "limes. mars le rainy new au car etats-unis traduis grandes le drove drove calme était l' l' l' l' l' l' l' pluvieux\n"
     ]
    }
   ],
   "source": [
    "from keras.layers import Bidirectional\n",
    "\n",
    "bi_lr = 0.01\n",
    "bi_lr_dec = 1/10\n",
    "bi_batch_size = 1024\n",
    "# bi_epochs = 25\n",
    "bi_epochs = 0\n",
    "\n",
    "\n",
    "# bi_lr = 0.025\n",
    "# bi_lr_dec = 1/15\n",
    "# bi_batch_size = 1024\n",
    "# bi_epochs = 30\n",
    "\n",
    "def bd_model(input_shape, output_sequence_length, english_vocab_size, french_vocab_size, learning_rate=0.1):\n",
    "    \"\"\"\n",
    "    Build and train a bidirectional RNN model on x and y\n",
    "    :param input_shape: Tuple of input shape\n",
    "    :param output_sequence_length: Length of output sequence\n",
    "    :param english_vocab_size: Number of unique English words in the dataset\n",
    "    :param french_vocab_size: Number of unique French words in the dataset\n",
    "    :return: Keras model built, but not trained\n",
    "    \"\"\"\n",
    "    timesteps = Input(shape=input_shape[1:])\n",
    "    gru = GRU(64, return_sequences=True)\n",
    "    hidden = Bidirectional(gru, merge_mode='ave', weights=None)(timesteps)\n",
    "    predictions = Dense(french_vocab_size, activation='softmax')(hidden)\n",
    "\n",
    "    model = Model(inputs=timesteps, outputs=predictions)\n",
    "    model.compile(loss=sparse_categorical_crossentropy,\n",
    "                  optimizer=Adam(bi_lr, bi_lr_dec),\n",
    "                  metrics=['accuracy'])\n",
    "\n",
    "    # model.summary()\n",
    "\n",
    "    return model\n",
    "\n",
    "tests.test_bd_model(bd_model)\n",
    "\n",
    "# Train the neural network\n",
    "bidirect_model = bd_model(\n",
    "    onehot_x.shape,\n",
    "    preproc_french_sentences.shape[1],\n",
    "    len(english_tokenizer.word_index),\n",
    "    len(french_tokenizer.word_index))\n",
    "bidirect_model.fit(onehot_x, preproc_french_sentences, batch_size=bi_batch_size, epochs=bi_epochs, validation_split=0.2)\n",
    "\n",
    "# Print prediction(s)\n",
    "print(logits_to_text(onehot_x[:1][0], english_tokenizer))\n",
    "print(logits_to_text(bidirect_model.predict(onehot_x[:1])[0], french_tokenizer))"
   ]
  },
  {
   "cell_type": "markdown",
   "metadata": {},
   "source": [
    "### Model 4: Encoder-Decoder (OPTIONAL)\n",
    "Time to look at encoder-decoder models.  This model is made up of an encoder and decoder. The encoder creates a matrix representation of the sentence.  The decoder takes this matrix as input and predicts the translation as output.\n",
    "\n",
    "Create an encoder-decoder model in the cell below."
   ]
  },
  {
   "cell_type": "code",
   "execution_count": 11,
   "metadata": {
    "collapsed": true
   },
   "outputs": [],
   "source": [
    "from keras.layers import RepeatVector\n",
    "\n",
    "\n",
    "def encdec_model(input_shape, output_sequence_length, english_vocab_size, french_vocab_size):\n",
    "    \"\"\"\n",
    "    Build and train an encoder-decoder model on x and y\n",
    "    :param input_shape: Tuple of input shape\n",
    "    :param output_sequence_length: Length of output sequence\n",
    "    :param english_vocab_size: Number of unique English words in the dataset\n",
    "    :param french_vocab_size: Number of unique French words in the dataset\n",
    "    :return: Keras model built, but not trained\n",
    "    \"\"\"\n",
    "    # OPTIONAL: Implement\n",
    "    return None\n",
    "# tests.test_encdec_model(encdec_model)\n",
    "\n",
    "\n",
    "# OPTIONAL: Train and Print prediction(s)"
   ]
  },
  {
   "cell_type": "markdown",
   "metadata": {},
   "source": [
    "### Model 5: Custom (IMPLEMENTATION)\n",
    "Use everything you learned from the previous models to create a model that incorporates embedding and a bidirectional rnn into one model."
   ]
  },
  {
   "cell_type": "code",
   "execution_count": null,
   "metadata": {},
   "outputs": [
    {
     "name": "stdout",
     "output_type": "stream",
     "text": [
      "_________________________________________________________________\n",
      "Layer (type)                 Output Shape              Param #   \n",
      "=================================================================\n",
      "input_40 (InputLayer)        (None, 15)                0         \n",
      "_________________________________________________________________\n",
      "embedding_36 (Embedding)     (None, 15, 128)           25472     \n",
      "_________________________________________________________________\n",
      "bidirectional_36 (Bidirectio (None, 128)               197376    \n",
      "_________________________________________________________________\n",
      "repeat_vector_34 (RepeatVect (None, 21, 128)           0         \n",
      "_________________________________________________________________\n",
      "gru_74 (GRU)                 (None, 21, 128)           98688     \n",
      "_________________________________________________________________\n",
      "dense_40 (Dense)             (None, 21, 344)           44376     \n",
      "=================================================================\n",
      "Total params: 365,912\n",
      "Trainable params: 365,912\n",
      "Non-trainable params: 0\n",
      "_________________________________________________________________\n",
      "_________________________________________________________________\n",
      "Layer (type)                 Output Shape              Param #   \n",
      "=================================================================\n",
      "input_41 (InputLayer)        (None, 23)                0         \n",
      "_________________________________________________________________\n",
      "embedding_37 (Embedding)     (None, 23, 128)           71936     \n",
      "_________________________________________________________________\n",
      "bidirectional_37 (Bidirectio (None, 128)               197376    \n",
      "_________________________________________________________________\n",
      "repeat_vector_35 (RepeatVect (None, 23, 128)           0         \n",
      "_________________________________________________________________\n",
      "gru_76 (GRU)                 (None, 23, 128)           98688     \n",
      "_________________________________________________________________\n",
      "dense_41 (Dense)             (None, 23, 562)           72498     \n",
      "=================================================================\n",
      "Total params: 440,498\n",
      "Trainable params: 440,498\n",
      "Non-trainable params: 0\n",
      "_________________________________________________________________\n",
      "Train on 110288 samples, validate on 27573 samples\n",
      "Epoch 1/50\n",
      "110288/110288 [==============================] - 22s - loss: 3.0503 - acc: 0.3899 - val_loss: nan - val_acc: 0.4343\n",
      "Epoch 2/50\n",
      "110288/110288 [==============================] - 19s - loss: 2.3685 - acc: 0.4446 - val_loss: nan - val_acc: 0.4674\n",
      "Epoch 3/50\n",
      "110288/110288 [==============================] - 19s - loss: 1.9869 - acc: 0.5098 - val_loss: nan - val_acc: 0.5220\n",
      "Epoch 4/50\n",
      "110288/110288 [==============================] - 19s - loss: 1.6917 - acc: 0.5621 - val_loss: nan - val_acc: 0.5852\n",
      "Epoch 5/50\n",
      "110288/110288 [==============================] - 19s - loss: 1.4234 - acc: 0.6098 - val_loss: nan - val_acc: 0.6276\n",
      "Epoch 6/50\n",
      "110288/110288 [==============================] - 19s - loss: 1.2196 - acc: 0.6540 - val_loss: nan - val_acc: 0.6643\n",
      "Epoch 7/50\n",
      "110288/110288 [==============================] - 19s - loss: 1.0435 - acc: 0.6959 - val_loss: nan - val_acc: 0.7439\n",
      "Epoch 8/50\n",
      "110288/110288 [==============================] - 19s - loss: 0.9239 - acc: 0.7276 - val_loss: nan - val_acc: 0.7451\n",
      "Epoch 9/50\n",
      "110288/110288 [==============================] - 19s - loss: 0.7873 - acc: 0.7668 - val_loss: nan - val_acc: 0.7915\n",
      "Epoch 10/50\n",
      "110288/110288 [==============================] - 19s - loss: 0.7088 - acc: 0.7897 - val_loss: nan - val_acc: 0.8124\n",
      "Epoch 11/50\n",
      "110288/110288 [==============================] - 19s - loss: 0.6280 - acc: 0.8128 - val_loss: nan - val_acc: 0.8358\n",
      "Epoch 12/50\n",
      "110288/110288 [==============================] - 19s - loss: 0.5479 - acc: 0.8365 - val_loss: nan - val_acc: 0.8450\n",
      "Epoch 13/50\n",
      "110288/110288 [==============================] - 19s - loss: 0.5055 - acc: 0.8507 - val_loss: nan - val_acc: 0.8548\n",
      "Epoch 14/50\n",
      "110288/110288 [==============================] - 19s - loss: 0.4462 - acc: 0.8685 - val_loss: nan - val_acc: 0.8709\n",
      "Epoch 15/50\n",
      "110288/110288 [==============================] - 19s - loss: 0.3910 - acc: 0.8865 - val_loss: nan - val_acc: 0.8885\n",
      "Epoch 16/50\n",
      "110288/110288 [==============================] - 19s - loss: 0.3497 - acc: 0.9002 - val_loss: nan - val_acc: 0.8857\n",
      "Epoch 17/50\n",
      "110288/110288 [==============================] - 19s - loss: 0.3162 - acc: 0.9145 - val_loss: nan - val_acc: 0.9262\n",
      "Epoch 18/50\n",
      "110288/110288 [==============================] - 19s - loss: 0.2735 - acc: 0.9268 - val_loss: nan - val_acc: 0.9100\n",
      "Epoch 19/50\n",
      "110288/110288 [==============================] - 19s - loss: 0.2419 - acc: 0.9358 - val_loss: nan - val_acc: 0.9399\n",
      "Epoch 20/50\n",
      "110288/110288 [==============================] - 19s - loss: 0.2178 - acc: 0.9435 - val_loss: nan - val_acc: 0.9514\n",
      "Epoch 21/50\n",
      "110288/110288 [==============================] - 19s - loss: 0.1959 - acc: 0.9497 - val_loss: nan - val_acc: 0.9509\n",
      "Epoch 22/50\n",
      "110288/110288 [==============================] - 19s - loss: 0.1828 - acc: 0.9530 - val_loss: nan - val_acc: 0.9526\n",
      "Epoch 23/50\n",
      "110288/110288 [==============================] - 19s - loss: 0.1734 - acc: 0.9549 - val_loss: nan - val_acc: 0.9573\n",
      "Epoch 24/50\n",
      "110288/110288 [==============================] - 19s - loss: 0.1439 - acc: 0.9625 - val_loss: nan - val_acc: 0.9583\n",
      "Epoch 25/50\n",
      "110288/110288 [==============================] - 19s - loss: 0.1457 - acc: 0.9621 - val_loss: nan - val_acc: 0.9529\n",
      "Epoch 26/50\n",
      "110288/110288 [==============================] - 19s - loss: 0.1380 - acc: 0.9638 - val_loss: nan - val_acc: 0.9624\n",
      "Epoch 27/50\n",
      "110288/110288 [==============================] - 19s - loss: 0.1251 - acc: 0.9666 - val_loss: nan - val_acc: 0.9584\n",
      "Epoch 28/50\n",
      "110288/110288 [==============================] - 19s - loss: 0.1244 - acc: 0.9674 - val_loss: nan - val_acc: 0.9627\n",
      "Epoch 29/50\n",
      "110288/110288 [==============================] - 19s - loss: 0.1098 - acc: 0.9705 - val_loss: nan - val_acc: 0.9677\n",
      "Epoch 30/50\n",
      "110288/110288 [==============================] - 19s - loss: 0.1139 - acc: 0.9705 - val_loss: nan - val_acc: 0.9610\n",
      "Epoch 31/50\n",
      "110288/110288 [==============================] - 19s - loss: 0.1044 - acc: 0.9726 - val_loss: nan - val_acc: 0.9707\n",
      "Epoch 32/50\n",
      "110288/110288 [==============================] - 19s - loss: 0.0968 - acc: 0.9743 - val_loss: nan - val_acc: 0.9672\n",
      "Epoch 33/50\n",
      "110288/110288 [==============================] - 19s - loss: 0.0933 - acc: 0.9754 - val_loss: nan - val_acc: 0.9702\n",
      "Epoch 34/50\n",
      "110288/110288 [==============================] - 19s - loss: 0.0923 - acc: 0.9755 - val_loss: nan - val_acc: 0.9708\n",
      "Epoch 35/50\n",
      "110288/110288 [==============================] - 19s - loss: 0.0868 - acc: 0.9771 - val_loss: nan - val_acc: 0.9717\n",
      "Epoch 36/50\n",
      "110288/110288 [==============================] - 19s - loss: 0.0797 - acc: 0.9792 - val_loss: nan - val_acc: 0.9730\n",
      "Epoch 37/50\n",
      "110288/110288 [==============================] - 19s - loss: 0.0777 - acc: 0.9792 - val_loss: nan - val_acc: 0.9610\n",
      "Epoch 38/50\n",
      "110288/110288 [==============================] - 19s - loss: 0.0827 - acc: 0.9786 - val_loss: nan - val_acc: 0.9700\n",
      "Epoch 39/50\n",
      "110288/110288 [==============================] - 19s - loss: 0.0753 - acc: 0.9802 - val_loss: nan - val_acc: 0.9755\n",
      "Epoch 40/50\n",
      "110288/110288 [==============================] - 19s - loss: 0.0774 - acc: 0.9801 - val_loss: nan - val_acc: 0.9574\n",
      "Epoch 41/50\n",
      "106496/110288 [===========================>..] - ETA: 0s - loss: 0.0694 - acc: 0.9816"
     ]
    }
   ],
   "source": [
    "from keras.optimizers import RMSprop\n",
    "\n",
    "# ADAM\n",
    "# final_eb_size = 128\n",
    "# final_lr = 0.005\n",
    "# final_lr_dec = 1/100\n",
    "# final_batch_size = 2048\n",
    "# final_epochs = 50\n",
    "\n",
    "\n",
    "# RMSPROP\n",
    "final_eb_size = 128\n",
    "final_lr = 0.005\n",
    "final_lr_dec = 1/100\n",
    "final_batch_size = 2048\n",
    "final_epochs = 50\n",
    "\n",
    "def model_final(input_shape, output_sequence_length, english_vocab_size, french_vocab_size, learning_rate=0.1):\n",
    "    \"\"\"\n",
    "    Build and train a model that incorporates embedding, encoder-decoder, and bidirectional RNN on x and y\n",
    "    :param input_shape: Tuple of input shape\n",
    "    :param output_sequence_length: Length of output sequence\n",
    "    :param english_vocab_size: Number of unique English words in the dataset\n",
    "    :param french_vocab_size: Number of unique French words in the dataset\n",
    "    :return: Keras model built, but not trained\n",
    "    \"\"\"\n",
    "\n",
    "    timesteps = Input(shape=input_shape[1:])\n",
    "    embedding = Embedding(english_vocab_size, final_eb_size)(timesteps)\n",
    "    # Implementing the third suggestion in the modeling lecture:\n",
    "    #  * Bidirectional encoder\n",
    "    #  * Feed the decoder with the output of the encoder in every timestep\n",
    "    # Increased the number of hidden layers as the information of the model is now 'encoded' in a single vector.\n",
    "    hidden_1 = Bidirectional(GRU(128), merge_mode='ave', weights=None)(embedding)\n",
    "    repeat = RepeatVector(output_sequence_length)(hidden_1)\n",
    "    hidden_2 = GRU(128, return_sequences=True)(repeat)\n",
    "    predictions = Dense(french_vocab_size, activation='softmax')(hidden_2)\n",
    "\n",
    "    model = Model(inputs=timesteps, outputs=predictions)\n",
    "    model.compile(loss=sparse_categorical_crossentropy,\n",
    "#                   optimizer=Adam(final_lr, decay=final_lr_dec),\n",
    "                  optimizer=RMSprop(lr=final_lr),\n",
    "                  metrics=['accuracy'])\n",
    "    model.summary()\n",
    "\n",
    "    return model\n",
    "\n",
    "tests.test_model_final(model_final)\n",
    "\n",
    "# Reshaping the input to work with a basic RNN\n",
    "tmp_x = pad(preproc_english_sentences, preproc_french_sentences.shape[1])\n",
    "\n",
    "# Train the neural network\n",
    "bidirect_emb_model = model_final(\n",
    "    pad_x.shape,\n",
    "    preproc_french_sentences.shape[1],\n",
    "    len(english_tokenizer.word_index),\n",
    "    len(french_tokenizer.word_index))\n",
    "bidirect_emb_model.fit(pad_x, preproc_french_sentences, batch_size=final_batch_size, epochs=final_epochs, validation_split=0.2)\n",
    "\n",
    "# Print prediction(s)\n",
    "print(logits_to_text(onehot_x[:1][0], english_tokenizer))\n",
    "print(logits_to_text(bidirect_emb_model.predict(pad_x[:1])[0], french_tokenizer))\n",
    "\n",
    "print('Final Model Loaded')"
   ]
  },
  {
   "cell_type": "markdown",
   "metadata": {},
   "source": [
    "## Prediction (IMPLEMENTATION)"
   ]
  },
  {
   "cell_type": "code",
   "execution_count": null,
   "metadata": {
    "collapsed": true
   },
   "outputs": [],
   "source": [
    "import numpy as np\n",
    "from keras.preprocessing.sequence import pad_sequences\n",
    "\n",
    "def final_predictions(x, y, x_tk, y_tk):\n",
    "    \"\"\"\n",
    "    Gets predictions using the final model\n",
    "    :param x: Preprocessed English data\n",
    "    :param y: Preprocessed French data\n",
    "    :param x_tk: English tokenizer\n",
    "    :param y_tk: French tokenizer\n",
    "    \"\"\"\n",
    "    x = pad(x, y.shape[1])\n",
    "    \n",
    "    model = model_final(\n",
    "        x.shape,\n",
    "        y.shape[1],\n",
    "        len(x_tk.word_index),\n",
    "        len(y_tk.word_index))\n",
    "\n",
    "    model.fit(x, y, batch_size=final_batch_size, epochs=final_epochs)\n",
    "    \n",
    "    ## DON'T EDIT ANYTHING BELOW THIS LINE\n",
    "    y_id_to_word = {value: key for key, value in y_tk.word_index.items()}\n",
    "    y_id_to_word[0] = '<PAD>'\n",
    "\n",
    "    sentence = 'he saw a old yellow truck'\n",
    "    sentence = [x_tk.word_index[word] for word in sentence.split()]\n",
    "    sentence = pad_sequences([sentence], maxlen=x.shape[-1], padding='post')\n",
    "    sentences = np.array([sentence[0], x[0]])\n",
    "    predictions = model.predict(sentences, len(sentences))\n",
    "\n",
    "    print('Sample 1:')\n",
    "    print(' '.join([y_id_to_word[np.argmax(x)] for x in predictions[0]]))\n",
    "    print('Il a vu un vieux camion jaune')\n",
    "    print('Sample 2:')\n",
    "    print(' '.join([y_id_to_word[np.argmax(x)] for x in predictions[1]]))\n",
    "    print(' '.join([y_id_to_word[np.argmax(x)] for x in y[0]]))\n",
    "\n",
    "\n",
    "final_predictions(preproc_english_sentences, preproc_french_sentences, english_tokenizer, french_tokenizer)"
   ]
  },
  {
   "cell_type": "markdown",
   "metadata": {},
   "source": [
    "## Submission\n",
    "When you are ready to submit your project, do the following steps:\n",
    "1. Ensure you pass all points on the [rubric](https://review.udacity.com/#!/rubrics/1004/view).\n",
    "2. Submit the following in a zip file.\n",
    "  - `helper.py`\n",
    "  - `machine_translation.ipynb`\n",
    "  - `machine_translation.html`\n",
    "    - You can export the notebook by navigating to **File -> Download as -> HTML (.html)**."
   ]
  },
  {
   "cell_type": "code",
   "execution_count": null,
   "metadata": {
    "collapsed": true
   },
   "outputs": [],
   "source": []
  },
  {
   "cell_type": "code",
   "execution_count": null,
   "metadata": {
    "collapsed": true
   },
   "outputs": [],
   "source": []
  },
  {
   "cell_type": "code",
   "execution_count": null,
   "metadata": {
    "collapsed": true
   },
   "outputs": [],
   "source": []
  }
 ],
 "metadata": {
  "anaconda-cloud": {},
  "kernelspec": {
   "display_name": "Python [conda env:aind-nlp-capstone]",
   "language": "python",
   "name": "conda-env-aind-nlp-capstone-py"
  },
  "language_info": {
   "codemirror_mode": {
    "name": "ipython",
    "version": 3
   },
   "file_extension": ".py",
   "mimetype": "text/x-python",
   "name": "python",
   "nbconvert_exporter": "python",
   "pygments_lexer": "ipython3",
   "version": "3.5.3"
  }
 },
 "nbformat": 4,
 "nbformat_minor": 1
}
