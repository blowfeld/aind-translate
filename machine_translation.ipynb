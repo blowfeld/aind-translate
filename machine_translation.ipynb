{
 "cells": [
  {
   "cell_type": "markdown",
   "metadata": {
    "collapsed": true,
    "deletable": true,
    "editable": true
   },
   "source": [
    "# Artificial Intelligence Nanodegree\n",
    "## Machine Translation Project\n",
    "In this notebook, sections that end with **'(IMPLEMENTATION)'** in the header indicate that the following blocks of code will require additional functionality which you must provide. Please be sure to read the instructions carefully!\n",
    "\n",
    "## Introduction\n",
    "In this notebook, you will build a deep neural network that functions as part of an end-to-end machine translation pipeline. Your completed pipeline will accept English text as input and return the French translation.\n",
    "\n",
    "- **Preprocess** - You'll convert text to sequence of integers.\n",
    "- **Models** Create models which accepts a sequence of integers as input and returns a probability distribution over possible translations. After learning about the basic types of neural networks that are often used for machine translation, you will engage in your own investigations, to design your own model!\n",
    "- **Prediction** Run the model on English text.\n",
    "\n",
    "## Dataset\n",
    "We begin by investigating the dataset that will be used to train and evaluate your pipeline.  The most common datasets used for machine translation are from [WMT](http://www.statmt.org/).  However, that will take a long time to train a neural network on.  We'll be using a dataset we created for this project that contains a small vocabulary.  You'll be able to train your model in a reasonable time with this dataset.\n",
    "### Load Data\n",
    "The data is located in `data/small_vocab_en` and `data/small_vocab_fr`. The `small_vocab_en` file contains English sentences with their French translations in the `small_vocab_fr` file. Load the English and French data from these files from running the cell below."
   ]
  },
  {
   "cell_type": "code",
   "execution_count": 1,
   "metadata": {
    "collapsed": false,
    "deletable": true,
    "editable": true
   },
   "outputs": [
    {
     "name": "stdout",
     "output_type": "stream",
     "text": [
      "Dataset Loaded\n"
     ]
    }
   ],
   "source": [
    "import helper\n",
    "\n",
    "\n",
    "# Load English data\n",
    "english_sentences = helper.load_data('data/small_vocab_en')\n",
    "# Load French data\n",
    "french_sentences = helper.load_data('data/small_vocab_fr')\n",
    "\n",
    "print('Dataset Loaded')"
   ]
  },
  {
   "cell_type": "markdown",
   "metadata": {
    "deletable": true,
    "editable": true
   },
   "source": [
    "### Files\n",
    "Each line in `small_vocab_en` contains an English sentence with the respective translation in each line of `small_vocab_fr`.  View the first two lines from each file."
   ]
  },
  {
   "cell_type": "code",
   "execution_count": 2,
   "metadata": {
    "collapsed": false,
    "deletable": true,
    "editable": true
   },
   "outputs": [
    {
     "name": "stdout",
     "output_type": "stream",
     "text": [
      "small_vocab_en Line 1:  new jersey is sometimes quiet during autumn , and it is snowy in april .\n",
      "small_vocab_fr Line 1:  new jersey est parfois calme pendant l' automne , et il est neigeux en avril .\n",
      "small_vocab_en Line 2:  the united states is usually chilly during july , and it is usually freezing in november .\n",
      "small_vocab_fr Line 2:  les états-unis est généralement froid en juillet , et il gèle habituellement en novembre .\n"
     ]
    }
   ],
   "source": [
    "for sample_i in range(2):\n",
    "    print('small_vocab_en Line {}:  {}'.format(sample_i + 1, english_sentences[sample_i]))\n",
    "    print('small_vocab_fr Line {}:  {}'.format(sample_i + 1, french_sentences[sample_i]))"
   ]
  },
  {
   "cell_type": "markdown",
   "metadata": {
    "deletable": true,
    "editable": true
   },
   "source": [
    "From looking at the sentences, you can see they have been preprocessed already.  The puncuations have been delimited using spaces. All the text have been converted to lowercase.  This should save you some time, but the text requires more preprocessing.\n",
    "### Vocabulary\n",
    "The complexity of the problem is determined by the complexity of the vocabulary.  A more complex vocabulary is a more complex problem.  Let's look at the complexity of the dataset we'll be working with."
   ]
  },
  {
   "cell_type": "code",
   "execution_count": 3,
   "metadata": {
    "collapsed": false,
    "deletable": true,
    "editable": true
   },
   "outputs": [
    {
     "name": "stdout",
     "output_type": "stream",
     "text": [
      "1823250 English words.\n",
      "227 unique English words.\n",
      "10 Most common words in the English dataset:\n",
      "\"is\" \",\" \".\" \"in\" \"it\" \"during\" \"the\" \"but\" \"and\" \"sometimes\"\n",
      "\n",
      "1961295 French words.\n",
      "355 unique French words.\n",
      "10 Most common words in the French dataset:\n",
      "\"est\" \".\" \",\" \"en\" \"il\" \"les\" \"mais\" \"et\" \"la\" \"parfois\"\n"
     ]
    }
   ],
   "source": [
    "import collections\n",
    "\n",
    "\n",
    "english_words_counter = collections.Counter([word for sentence in english_sentences for word in sentence.split()])\n",
    "french_words_counter = collections.Counter([word for sentence in french_sentences for word in sentence.split()])\n",
    "\n",
    "print('{} English words.'.format(len([word for sentence in english_sentences for word in sentence.split()])))\n",
    "print('{} unique English words.'.format(len(english_words_counter)))\n",
    "print('10 Most common words in the English dataset:')\n",
    "print('\"' + '\" \"'.join(list(zip(*english_words_counter.most_common(10)))[0]) + '\"')\n",
    "print()\n",
    "print('{} French words.'.format(len([word for sentence in french_sentences for word in sentence.split()])))\n",
    "print('{} unique French words.'.format(len(french_words_counter)))\n",
    "print('10 Most common words in the French dataset:')\n",
    "print('\"' + '\" \"'.join(list(zip(*french_words_counter.most_common(10)))[0]) + '\"')"
   ]
  },
  {
   "cell_type": "markdown",
   "metadata": {
    "deletable": true,
    "editable": true
   },
   "source": [
    "For comparison, _Alice's Adventures in Wonderland_ contains 2,766 unique words of a total of 15,500 words.\n",
    "## Preprocess\n",
    "For this project, you won't use text data as input to your model. Instead, you'll convert the text into sequences of integers using the following preprocess methods:\n",
    "1. Tokenize the words into ids\n",
    "2. Add padding to make all the sequences the same length.\n",
    "\n",
    "Time to start preprocessing the data...\n",
    "### Tokenize (IMPLEMENTATION)\n",
    "For a neural network to predict on text data, it first has to be turned into data it can understand. Text data like \"dog\" is a sequence of ASCII character encodings.  Since a neural network is a series of multiplication and addition operations, the input data needs to be number(s).\n",
    "\n",
    "We can turn each character into a number or each word into a number.  These are called character and word ids, respectively.  Character ids are used for character level models that generate text predictions for each character.  A word level model uses word ids that generate text predictions for each word.  Word level models tend to learn better, since they are lower in complexity, so we'll use those.\n",
    "\n",
    "Turn each sentence into a sequence of words ids using Keras's [`Tokenizer`](https://keras.io/preprocessing/text/#tokenizer) function. Use this function to tokenize `english_sentences` and `french_sentences` in the cell below.\n",
    "\n",
    "Running the cell will run `tokenize` on sample data and show output for debugging."
   ]
  },
  {
   "cell_type": "code",
   "execution_count": 4,
   "metadata": {
    "collapsed": false,
    "deletable": true,
    "editable": true
   },
   "outputs": [
    {
     "name": "stderr",
     "output_type": "stream",
     "text": [
      "Using TensorFlow backend.\n"
     ]
    },
    {
     "name": "stdout",
     "output_type": "stream",
     "text": [
      "{'belle': 195, 'il': 6, 'verte': 275, 'little': 233, 'liked.': 292, 'june': 71, 'would': 485, 'were': 313, 'jamais': 22, 'have': 527, 'février': 98, \"aren't\": 492, 'saw': 268, 'rouillée': 294, 'pourraient': 422, 'détestons': 236, 'where': 526, 'souris': 358, 'does': 503, 'spring': 73, '-ils': 501, 'visit': 222, 'juillet': 89, 'apple': 170, 'éléphant': 420, 'california': 45, 'how': 444, 'entre': 288, 'pense': 287, 'but': 12, 'avril': 91, 'january': 75, 'enneigé': 541, 'pourrait': 360, 'prévoit': 441, 'dislikes': 132, 'chat': 393, 'est-ce': 530, 'glaciales': 342, 'nous': 199, \"d'\": 155, 'pluies': 320, 'bananes': 141, 'allez': 488, 'serpents': 464, 'poire': 164, 'volant': 410, 'shiny': 245, 'pousse': 490, 'usually': 20, 'peaches': 152, 'grande': 299, '-ce': 432, 'aimons': 227, 'aimait': 263, 'dry': 111, 'cher': 218, ',': 2, 'cats': 451, 'aller': 224, 'je': 214, 'car': 205, 'portugais': 337, 'nos': 277, 'fun': 351, 'doux': 124, 'winter': 77, 'rouille': 498, 'prévoient': 440, 'bananas': 151, 'orange.': 374, 'ses': 302, 'lapins': 466, 'pêches': 138, 'que': 266, 'douce': 522, 'bird': 384, 'septembre': 87, 'cours': 207, 'chien': 396, 'never': 21, 'april': 90, 'old': 237, 'trouvé': 556, 'that': 197, 'redouté': 281, 'inde': 53, 'apple.': 380, 'easy': 352, 'snake': 392, 'aux': 311, 'pears': 153, 'de': 40, \"l'automobile\": 430, 'comme': 356, 'you': 202, 'mois': 44, 'verts': 142, 'chaude': 225, 'wonderful': 110, 'new': 31, 'froid': 37, 'souvent': 560, 'as-tu': 557, 'quiet': 121, 'black': 243, 'march': 79, 'automne': 43, 'la': 17, 'relaxant': 123, 'apples': 149, '.': 1, 'strawberries.': 310, 'portuguese': 332, 'monde': 406, 'autumn': 81, 'fruit': 16, 'aimeraient': 532, 'temps': 496, 'wet': 118, 'pluie': 404, 'cet': 347, 'pamplemousse': 62, 'aimé.': 235, 'lemons.': 341, 'grosses': 538, 'petits': 534, 'mouse': 385, 'likes': 133, 'lime': 169, 'pears.': 304, \"qu'il\": 305, 'tranquille': 216, 'snowy': 106, 'plan': 262, 'france': 34, 'peach': 175, 'lemons': 147, 'rouge': 247, \"qu'elle\": 500, \"n'a\": 533, 'voulait': 361, 'jersey': 35, 'sur': 499, 'apples.': 309, 'visite': 443, \"isn't\": 505, 'décembre': 96, 'dog': 388, 'pamplemousses': 285, 'mars': 80, \"j'aime\": 248, \"c'est\": 519, 'do': 436, 'ours': 398, 'has': 504, 'son': 38, 'traduis': 553, 'busy': 112, 'printemps': 74, 'strawberries': 150, 'manguiers': 514, 'beautiful': 103, 'vit': 548, 'quand': 416, 'wants': 359, 'allée': 413, 'aimés': 367, 'préférées': 521, 'elephants': 446, 'se': 298, 'durant': 523, \"l'école\": 483, 'birds': 455, 'gelés': 544, 'mice': 456, 'neige': 192, 'think': 363, 'moins': 27, 'clémentes': 373, 'étaient': 323, '-il': 494, 'est': 4, 't': 516, 'vu': 274, 'grands': 536, 'et': 14, 'truck': 204, 'lapin': 399, 'gèle': 184, 'enneigée': 181, 'le': 23, 'mai': 84, 'frisquet': 254, 'grapefruit.': 282, 'lions': 418, 'beau': 135, 'voulaient': 423, 'où': 528, 'faire': 558, \"n'aimons\": 431, 'translate': 295, 'rabbits': 452, 'dislike': 180, \"n'aimez\": 229, 'bleue': 289, 'petites': 502, 'redoutés': 401, 'december': 95, 'apprécié': 554, 'agréable': 36, 'amusant': 354, 'animals': 258, 'mangues': 144, 'bleu': 297, 'favorite.': 249, 'lime.': 408, 'in': 7, 'lake': 477, 'légère': 469, 'redoutée': 551, 'novembre': 93, 'veulent': 424, 'dernière': 508, 'leurs': 230, 'chiens': 459, 'big': 234, 'pear': 174, 'eiffel': 425, 'vieux': 328, \"didn't\": 470, 'allons': 487, \"n'aime\": 191, 'favorite': 28, 'conduit': 210, 'grapes': 148, 'grapefruit': 63, 'grape': 168, 'our': 99, 'vous': 200, 'dernier': 261, 'most': 41, 'mes': 344, 'aimez': 231, 'fait': 193, 'pensez': 472, 'mon': 68, 'between': 286, 'weather': 495, 'traduire': 291, 'merveilleux': 119, 'pear.': 379, 'préférée': 256, 'feared': 257, 'sèche': 252, 'nouvelle': 272, 'notre': 126, 'congélation': 524, 'banana.': 376, 'requin': 394, 'préférés': 315, 'and': 15, 'cette': 221, 'moteur': 562, 'lion': 314, 'white': 242, 'a': 188, 'elle': 49, 'pourquoi': 366, 'mouillé': 349, 'magnifique': 429, 'are': 251, 'gelé': 433, 'disliked': 269, 'prochain': 212, 'mango.': 375, 'porcelaine': 517, 'vos': 370, 'tour': 479, 'like': 177, 'strawberry': 167, 'chilly': 115, 'mangoes': 146, 'animaux': 260, '?': 213, 'es-tu': 561, 'veut': 362, 'oranges': 51, 'his': 66, 'des': 201, 'proches': 512, 'july': 88, 'oiseau': 419, 'relaxing': 120, 'occupée': 253, 'était': 223, 'détendre': 427, 'strawberry.': 417, 'dans': 529, 'trop': 405, 'juin': 72, \"l'ours\": 463, 'pendant': 61, 'sec': 128, 'football': 426, 'noire': 278, 'grape.': 414, 'sharks': 449, 'united': 54, 'espagnol': 336, 'gros': 357, 'we': 198, 'raisin': 158, 'parfois': 19, 'blue': 241, 'shark': 383, 'conduisait': 265, 'pas': 179, 'terrain': 481, \"l'\": 24, 'this': 259, 'going': 267, 'oranges.': 308, 'they': 189, 'préféré': 32, 'blanc': 306, 'été': 82, 'bénigne': 539, 'hot': 122, 'lui': 442, 'jaune': 246, 'mild': 117, 'mangue': 156, 'cheval': 395, 'les': 11, 'chinois': 338, 'yellow': 238, '-': 327, 'aiment': 226, 'is': 3, 'grand': 437, 'rusty': 240, 'dogs': 448, 'qui': 552, 'bears': 454, 'ce': 215, 'plus': 42, 'vont': 409, 'rainy': 116, 'he': 59, 'why': 364, 'liked': 48, 'her': 67, 'lac': 482, 'least': 26, 'cépage': 471, \"l'épicerie\": 480, 'envisagent': 537, 'february': 97, 'nice': 85, 'it': 8, 'favoris': 559, 'humide': 125, 'spanish': 331, 'éléphants': 457, 'maillot': 407, 'à': 46, 'habituellement': 136, 'pommes': 137, 'serpent': 400, 'pleasant': 102, 'calme': 134, 'horses': 447, 'snakes': 450, 'november': 92, 'du': 491, 'states': 55, 'allé': 402, 'banane': 163, 'loved': 47, 'hiver': 78, 'ils': 190, 'détestait': 435, 'pêche': 166, \"l'orange\": 160, 'prévoyons': 369, 'red': 239, \"n'êtes\": 547, \"n'est\": 486, 'octobre': 104, 'anglais': 339, 'mais': 13, 'déteste': 183, 'grocery': 474, 'tower': 473, 'sometimes': 18, 'grandes': 520, 'field': 476, 'went': 316, 'fruit.': 434, 'singe': 397, 'avez': 411, 'avons': 515, 'plaît': 525, 'en': 5, 'when': 415, 'freezing': 101, 'ressort': 549, 'chats': 465, 'drove': 271, 'généralement': 25, 'facile': 355, 'difficile': 353, 'banana': 172, 'aimé': 30, 'at': 497, 'fraise': 165, 'blanche': 280, 'pleut': 283, 'vais': 510, 'prévois': 368, 'peaches.': 303, 'bien': 438, 'lemon.': 378, 'neigeux': 209, 'driving': 219, 'brillant': 279, 'china': 57, 'automobile': 203, 'limes': 145, 'etats-unis': 546, 'loved.': 293, 'vert': 326, 'chaud': 39, 'mango': 173, 'store': 475, 'nouveau': 290, 'october': 105, 'animal': 178, 'cold': 108, 'tout': 545, 'intention': 371, 'monkey': 389, 'voudrait': 511, 'aiment-ils': 535, 'préféré.': 301, 'fraises': 140, 'fall': 70, 'comment': 445, 'am': 506, 'voiture': 186, 'détestez': 518, 'petite': 276, 'grapes.': 330, 'août': 114, 'lemon': 171, 'rouillé': 300, 'chine': 58, 'frais': 513, 'leur': 129, 'during': 9, 'conduite': 543, 'votre': 69, 'summer': 94, 'french': 335, 'vieille': 273, 'ne': 196, 'ont': 381, \"l'automne\": 187, 'vers': 439, 'poires': 139, 'my': 65, \"l'oiseau\": 461, 'singes': 467, 'allés': 412, 'envisage': 322, 'did': 372, 'rabbit': 391, 'une': 220, 'noir': 319, 'grosse': 403, 'un': 264, 'requins': 462, 'camion': 206, 'was': 208, \"l'éléphant\": 460, 'brillante': 312, 'pluvieux': 131, 'favori': 182, 'pomme': 159, 'aimée': 428, 'mouillée': 540, 'californie': 127, \"l'animal\": 484, 'may': 83, 'limes.': 346, 'sont': 232, 'va': 324, 'français': 340, 'monkeys': 453, 'peu': 489, '-elle': 507, 'want': 421, \"n'aiment\": 228, 'gel': 157, 'their': 100, 'chaux': 162, 'êtes-vous': 509, 'drives': 270, 'paris': 33, 'voulez': 531, 'états-unis': 56, 'plans': 296, 'next': 211, 'chinese': 333, 'elephant': 387, 'might': 317, 'school': 478, 'au': 29, 'translating': 343, 'warm': 107, 'thinks': 321, 'india': 52, 'to': 154, 'occupé': 130, 'visiter': 250, \"it's\": 365, 'rendre': 325, 'raisins': 143, 'the': 10, 'been': 493, 'peach.': 377, 'english': 334, 'mangoes.': 345, 'fruits': 185, 'your': 64, 'moindres': 542, 'bear': 390, 'august': 113, 'last': 255, 'september': 86, 'i': 194, 'orange': 176, 'difficult': 350, 'citron': 161, 'traduction': 348, 'oiseaux': 468, \"n'aimait\": 284, 'chevaux': 458, 'wanted': 318, 'green': 244, 'citrons': 50, 'horse': 386, 'janvier': 76, 'allions': 555, 'aime': 109, 'petit': 329, 'she': 60, 'bananas.': 307, 'détend': 550, 'cat': 382, 'go': 217}\n",
      "\n",
      "Sequence 1 in x\n",
      "  Input:  The quick brown fox jumps over the lazy dog .\n",
      "  Output: [10, 10, 388, 1]\n",
      "Sequence 2 in x\n",
      "  Input:  By Jove , my quick study of lexicography won a prize .\n",
      "  Output: [2, 65, 188, 1]\n",
      "Sequence 3 in x\n",
      "  Input:  This is a short sentence .\n",
      "  Output: [259, 3, 188, 1]\n"
     ]
    }
   ],
   "source": [
    "import project_tests as tests\n",
    "from keras.preprocessing.text import Tokenizer\n",
    "from itertools import chain\n",
    "from pprint import pprint\n",
    "\n",
    "def tokenize(x):\n",
    "    \"\"\"\n",
    "    Tokenize x\n",
    "    :param x: List of sentences/strings to be tokenized\n",
    "    :return: Tuple of (tokenized x data, tokenizer used to tokenize x)\n",
    "    \"\"\"\n",
    "    small_voc_tokenizer = Tokenizer(filters='')\n",
    "    small_voc_tokenizer.fit_on_texts(chain(iter(english_sentences), iter(french_sentences)))\n",
    "\n",
    "    return small_voc_tokenizer.texts_to_sequences(x), small_voc_tokenizer\n",
    "\n",
    "tests.test_tokenize(tokenize)\n",
    "\n",
    "# Tokenize Example output\n",
    "text_sentences = [\n",
    "    'The quick brown fox jumps over the lazy dog .',\n",
    "    'By Jove , my quick study of lexicography won a prize .',\n",
    "    'This is a short sentence .']\n",
    "text_tokenized, text_tokenizer = tokenize(text_sentences)\n",
    "print(text_tokenizer.word_index)\n",
    "print()\n",
    "for sample_i, (sent, token_sent) in enumerate(zip(text_sentences, text_tokenized)):\n",
    "    print('Sequence {} in x'.format(sample_i + 1))\n",
    "    print('  Input:  {}'.format(sent))\n",
    "    print('  Output: {}'.format(token_sent))"
   ]
  },
  {
   "cell_type": "markdown",
   "metadata": {
    "deletable": true,
    "editable": true
   },
   "source": [
    "### Padding (IMPLEMENTATION)\n",
    "When batching the sequence of word ids together, each sequence needs to be the same length.  Since sentences are dynamic in length, we can add padding to the end of the sequences to make them the same length.\n",
    "\n",
    "Make sure all the English sequences have the same length and all the French sequences have the same length by adding padding to the **end** of each sequence using Keras's [`pad_sequences`](https://keras.io/preprocessing/sequence/#pad_sequences) function."
   ]
  },
  {
   "cell_type": "code",
   "execution_count": 5,
   "metadata": {
    "collapsed": false,
    "deletable": true,
    "editable": true
   },
   "outputs": [
    {
     "name": "stdout",
     "output_type": "stream",
     "text": [
      "Sequence 1 in x\n",
      "  Input:  [ 10  10 388   1]\n",
      "  Output: [ 10  10 388   1]\n",
      "Sequence 2 in x\n",
      "  Input:  [  2  65 188   1]\n",
      "  Output: [  2  65 188   1]\n",
      "Sequence 3 in x\n",
      "  Input:  [259   3 188   1]\n",
      "  Output: [259   3 188   1]\n"
     ]
    }
   ],
   "source": [
    "import numpy as np\n",
    "from keras.preprocessing.sequence import pad_sequences\n",
    "\n",
    "\n",
    "def pad(x, length=None):\n",
    "    \"\"\"\n",
    "    Pad x\n",
    "    :param x: List of sequences.\n",
    "    :param length: Length to pad the sequence to.  If None, use length of longest sequence in x.\n",
    "    :return: Padded numpy array of sequences\n",
    "    \"\"\"\n",
    "    maxlen = length if length else max(len(seq) for seq in x)\n",
    "\n",
    "    return pad_sequences(x, maxlen=maxlen, padding='post', truncating='post', value=0)\n",
    "\n",
    "tests.test_pad(pad)\n",
    "\n",
    "# Pad Tokenized output\n",
    "test_pad = pad(text_tokenized)\n",
    "for sample_i, (token_sent, pad_sent) in enumerate(zip(text_tokenized, test_pad)):\n",
    "    print('Sequence {} in x'.format(sample_i + 1))\n",
    "    print('  Input:  {}'.format(np.array(token_sent)))\n",
    "    print('  Output: {}'.format(pad_sent))"
   ]
  },
  {
   "cell_type": "markdown",
   "metadata": {
    "deletable": true,
    "editable": true
   },
   "source": [
    "### Preprocess Pipeline\n",
    "Your focus for this project is to build neural network architecture, so we won't ask you to create a preprocess pipeline.  Instead, we've provided you with the implementation of the `preprocess` function."
   ]
  },
  {
   "cell_type": "code",
   "execution_count": 6,
   "metadata": {
    "collapsed": false,
    "deletable": true,
    "editable": true
   },
   "outputs": [
    {
     "name": "stdout",
     "output_type": "stream",
     "text": [
      "Data Preprocessed\n"
     ]
    }
   ],
   "source": [
    "def preprocess(x, y):\n",
    "    \"\"\"\n",
    "    Preprocess x and y\n",
    "    :param x: Feature List of sentences\n",
    "    :param y: Label List of sentences\n",
    "    :return: Tuple of (Preprocessed x, Preprocessed y, x tokenizer, y tokenizer)\n",
    "    \"\"\"\n",
    "    preprocess_x, x_tk = tokenize(x)\n",
    "    preprocess_y, y_tk = tokenize(y)\n",
    "\n",
    "    preprocess_x = pad(preprocess_x)\n",
    "    preprocess_y = pad(preprocess_y)\n",
    "\n",
    "    # Keras's sparse_categorical_crossentropy function requires the labels to be in 3 dimensions\n",
    "    preprocess_y = preprocess_y.reshape(*preprocess_y.shape, 1)\n",
    "\n",
    "    return preprocess_x, preprocess_y, x_tk, y_tk\n",
    "\n",
    "preproc_english_sentences, preproc_french_sentences, english_tokenizer, french_tokenizer =\\\n",
    "    preprocess(english_sentences, french_sentences)\n",
    "\n",
    "print('Data Preprocessed')"
   ]
  },
  {
   "cell_type": "markdown",
   "metadata": {
    "deletable": true,
    "editable": true
   },
   "source": [
    "## Models\n",
    "In this section, you will experiment with various neural network architectures.\n",
    "You will begin by training four relatively simple architectures.\n",
    "- Model 1 is a simple RNN\n",
    "- Model 2 is a RNN with Embedding\n",
    "- Model 3 is a Bidirectional RNN\n",
    "- Model 4 is an optional Encoder-Decoder RNN\n",
    "\n",
    "After experimenting with the four simple architectures, you will construct a deeper architecture that is designed to outperform all four models.\n",
    "### Ids Back to Text\n",
    "The neural network will be translating the input to words ids, which isn't the final form we want.  We want the French translation.  The function `logits_to_text` will bridge the gab between the logits from the neural network to the French translation.  You'll be using this function to better understand the output of the neural network."
   ]
  },
  {
   "cell_type": "code",
   "execution_count": 7,
   "metadata": {
    "collapsed": false,
    "deletable": true,
    "editable": true
   },
   "outputs": [
    {
     "name": "stdout",
     "output_type": "stream",
     "text": [
      "`logits_to_text` function loaded.\n"
     ]
    }
   ],
   "source": [
    "def logits_to_text(logits, tokenizer):\n",
    "    \"\"\"\n",
    "    Turn logits from a neural network into text using the tokenizer\n",
    "    :param logits: Logits from a neural network\n",
    "    :param tokenizer: Keras Tokenizer fit on the labels\n",
    "    :return: String that represents the text of the logits\n",
    "    \"\"\"\n",
    "    index_to_words = {id: word for word, id in tokenizer.word_index.items()}\n",
    "    index_to_words[0] = '<PAD>'\n",
    "\n",
    "    return ' '.join([index_to_words[prediction] for prediction in np.argmax(logits, 1)])\n",
    "\n",
    "print('`logits_to_text` function loaded.')"
   ]
  },
  {
   "cell_type": "markdown",
   "metadata": {
    "deletable": true,
    "editable": true
   },
   "source": [
    "### Model 1: RNN (IMPLEMENTATION)\n",
    "![RNN](images/rnn.png)\n",
    "A basic RNN model is a good baseline for sequence data.  In this model, you'll build a RNN that translates English to French."
   ]
  },
  {
   "cell_type": "code",
   "execution_count": 15,
   "metadata": {
    "collapsed": false,
    "deletable": true,
    "editable": true
   },
   "outputs": [
    {
     "name": "stdout",
     "output_type": "stream",
     "text": [
      "(137861, 23, 1)\n",
      "Train on 110288 samples, validate on 27573 samples\n",
      "Epoch 1/4\n",
      "110288/110288 [==============================] - 209s - loss: 0.6729 - acc: 0.8154 - val_loss: 0.6689 - val_acc: 0.8172\n",
      "Epoch 2/4\n",
      "110288/110288 [==============================] - 198s - loss: 0.6728 - acc: 0.8155 - val_loss: 0.6727 - val_acc: 0.8172\n",
      "Epoch 3/4\n",
      "110288/110288 [==============================] - 207s - loss: 0.7350 - acc: 0.7975 - val_loss: 0.6850 - val_acc: 0.8123\n",
      "Epoch 4/4\n",
      "110288/110288 [==============================] - 211s - loss: 0.6658 - acc: 0.8174 - val_loss: 0.6635 - val_acc: 0.8177\n",
      "new jersey is sometimes quiet during autumn , and it is snowy in april . <PAD> <PAD> <PAD> <PAD> <PAD> <PAD> <PAD> <PAD>\n",
      "new jersey est parfois calme en l' , et et est neigeux sec en . <PAD> <PAD> <PAD> <PAD> <PAD> <PAD> <PAD> <PAD>\n"
     ]
    }
   ],
   "source": [
    "from keras.layers import GRU, Input, Dense, TimeDistributed\n",
    "from keras.models import Model, Sequential\n",
    "from keras.layers import Activation, SimpleRNN\n",
    "from keras.optimizers import Adam\n",
    "from keras.losses import sparse_categorical_crossentropy\n",
    "\n",
    "\n",
    "def simple_model(input_shape, output_sequence_length, english_vocab_size, french_vocab_size, learning_rate=0.1):\n",
    "    \"\"\"\n",
    "    Build and train a basic RNN on x and y\n",
    "    :param input_shape: Tuple of input shape\n",
    "    :param output_sequence_length: Length of output sequence\n",
    "    :param english_vocab_size: Number of unique English words in the dataset\n",
    "    :param french_vocab_size: Number of unique French words in the dataset\n",
    "    :return: Keras model built, but not trained\n",
    "    \"\"\"\n",
    "    print(english_vocab_size)\n",
    "    print(french_vocab_size)\n",
    "    print(input_shape)\n",
    "#     timestep = Input(shape=(input_shape[2],))\n",
    "#     timesteps = Input(shape=input_shape[1:])\n",
    "#     hidden = GRU(64, return_sequences=True)(timesteps)\n",
    "#     predictions = Dense(french_vocab_size + 1, activation='softmax')(hidden)\n",
    "\n",
    "#     rnn_model = Model(inputs=timesteps, outputs=predictions)\n",
    "#     rnn_model.compile(loss=sparse_categorical_crossentropy,\n",
    "#                   optimizer=Adam(learning_rate),\n",
    "#                   metrics=['accuracy'])\n",
    "#     rnn_model.summary()\n",
    "    \n",
    "    rnn_model = Sequential()\n",
    "    rnn_model.add(SimpleRNN(64, return_sequences=True, input_shape=input_shape[1:]))\n",
    "    rnn_model.add(Dense(french_vocab_size + 1, activation='softmax'))\n",
    "\n",
    "    rnn_model.compile(loss=sparse_categorical_crossentropy,\n",
    "                  optimizer=Adam(learning_rate, decay=0.01),\n",
    "                  metrics=['accuracy'])\n",
    "    rnn_model.summary()\n",
    "\n",
    "    return rnn_model\n",
    "\n",
    "# tests.test_simple_model(simple_model)\n",
    "\n",
    "\n",
    "# Reshaping the input to work with a basic RNN\n",
    "tmp_x = pad(preproc_english_sentences, preproc_french_sentences.shape[1])\n",
    "tmp_x = tmp_x.reshape((-1, preproc_french_sentences.shape[-2], 1))\n",
    "from keras.utils import to_categorical\n",
    "tmp_x = np.apply_along_axis(lambda x: to_categorical(x, num_classes=len(english_tokenizer.word_index))[0], 2, tmp_x)\n",
    "pprint(tmp_x[:2])\n",
    "pprint(preproc_french_sentences.shape)\n",
    "\n",
    "# Train the neural network\n",
    "simple_rnn_model = simple_model(\n",
    "    tmp_x.shape,\n",
    "    preproc_french_sentences.shape[1],\n",
    "    len(english_tokenizer.word_index),\n",
    "    len(french_tokenizer.word_index))\n",
    "simple_rnn_model.fit(tmp_x, preproc_french_sentences, batch_size=1024, epochs=4, validation_split=0.2)\n",
    "\n",
    "# Print prediction(s)\n",
    "print(logits_to_text(tmp_x[:1][0], english_tokenizer))\n",
    "print(logits_to_text(simple_rnn_model.predict(tmp_x[:1])[0], french_tokenizer))"
   ]
  },
  {
   "cell_type": "markdown",
   "metadata": {
    "deletable": true,
    "editable": true
   },
   "source": [
    "### Model 2: Embedding (IMPLEMENTATION)\n",
    "![RNN](images/embedding.png)\n",
    "You've turned the words into ids, but there's a better representation of a word.  This is called word embeddings.  An embedding is a vector representation of the word that is close to similar words in n-dimensional space, where the n represents the size of the embedding vectors.\n",
    "\n",
    "In this model, you'll create a RNN model using embedding."
   ]
  },
  {
   "cell_type": "code",
   "execution_count": null,
   "metadata": {
    "collapsed": true,
    "deletable": true,
    "editable": true
   },
   "outputs": [],
   "source": [
    "from keras.layers.embeddings import Embedding\n",
    "\n",
    "\n",
    "def embed_model(input_shape, output_sequence_length, english_vocab_size, french_vocab_size):\n",
    "    \"\"\"\n",
    "    Build and train a RNN model using word embedding on x and y\n",
    "    :param input_shape: Tuple of input shape\n",
    "    :param output_sequence_length: Length of output sequence\n",
    "    :param english_vocab_size: Number of unique English words in the dataset\n",
    "    :param french_vocab_size: Number of unique French words in the dataset\n",
    "    :return: Keras model built, but not trained\n",
    "    \"\"\"\n",
    "    # TODO: Implement\n",
    "    return None\n",
    "tests.test_embed_model(embed_model)\n",
    "\n",
    "\n",
    "# TODO: Reshape the input\n",
    "\n",
    "# TODO: Train the neural network\n",
    "\n",
    "# TODO: Print prediction(s)"
   ]
  },
  {
   "cell_type": "markdown",
   "metadata": {
    "deletable": true,
    "editable": true
   },
   "source": [
    "### Model 3: Bidirectional RNNs (IMPLEMENTATION)\n",
    "![RNN](images/bidirectional.png)\n",
    "One restriction of a RNN is that it can't see the future input, only the past.  This is where bidirectional recurrent neural networks come in.  They are able to see the future data."
   ]
  },
  {
   "cell_type": "code",
   "execution_count": null,
   "metadata": {
    "collapsed": true,
    "deletable": true,
    "editable": true
   },
   "outputs": [],
   "source": [
    "from keras.layers import Bidirectional\n",
    "\n",
    "\n",
    "def bd_model(input_shape, output_sequence_length, english_vocab_size, french_vocab_size):\n",
    "    \"\"\"\n",
    "    Build and train a bidirectional RNN model on x and y\n",
    "    :param input_shape: Tuple of input shape\n",
    "    :param output_sequence_length: Length of output sequence\n",
    "    :param english_vocab_size: Number of unique English words in the dataset\n",
    "    :param french_vocab_size: Number of unique French words in the dataset\n",
    "    :return: Keras model built, but not trained\n",
    "    \"\"\"\n",
    "    # TODO: Implement\n",
    "    return None\n",
    "tests.test_bd_model(bd_model)\n",
    "\n",
    "\n",
    "# TODO: Train and Print prediction(s)"
   ]
  },
  {
   "cell_type": "markdown",
   "metadata": {
    "deletable": true,
    "editable": true
   },
   "source": [
    "### Model 4: Encoder-Decoder (OPTIONAL)\n",
    "Time to look at encoder-decoder models.  This model is made up of an encoder and decoder. The encoder creates a matrix representation of the sentence.  The decoder takes this matrix as input and predicts the translation as output.\n",
    "\n",
    "Create an encoder-decoder model in the cell below."
   ]
  },
  {
   "cell_type": "code",
   "execution_count": null,
   "metadata": {
    "collapsed": true,
    "deletable": true,
    "editable": true
   },
   "outputs": [],
   "source": [
    "from keras.layers import RepeatVector\n",
    "\n",
    "\n",
    "def encdec_model(input_shape, output_sequence_length, english_vocab_size, french_vocab_size):\n",
    "    \"\"\"\n",
    "    Build and train an encoder-decoder model on x and y\n",
    "    :param input_shape: Tuple of input shape\n",
    "    :param output_sequence_length: Length of output sequence\n",
    "    :param english_vocab_size: Number of unique English words in the dataset\n",
    "    :param french_vocab_size: Number of unique French words in the dataset\n",
    "    :return: Keras model built, but not trained\n",
    "    \"\"\"\n",
    "    # OPTIONAL: Implement\n",
    "    return None\n",
    "tests.test_encdec_model(encdec_model)\n",
    "\n",
    "\n",
    "# OPTIONAL: Train and Print prediction(s)"
   ]
  },
  {
   "cell_type": "markdown",
   "metadata": {
    "deletable": true,
    "editable": true
   },
   "source": [
    "### Model 5: Custom (IMPLEMENTATION)\n",
    "Use everything you learned from the previous models to create a model that incorporates embedding and a bidirectional rnn into one model."
   ]
  },
  {
   "cell_type": "code",
   "execution_count": null,
   "metadata": {
    "collapsed": false,
    "deletable": true,
    "editable": true
   },
   "outputs": [],
   "source": [
    "def model_final(input_shape, output_sequence_length, english_vocab_size, french_vocab_size):\n",
    "    \"\"\"\n",
    "    Build and train a model that incorporates embedding, encoder-decoder, and bidirectional RNN on x and y\n",
    "    :param input_shape: Tuple of input shape\n",
    "    :param output_sequence_length: Length of output sequence\n",
    "    :param english_vocab_size: Number of unique English words in the dataset\n",
    "    :param french_vocab_size: Number of unique French words in the dataset\n",
    "    :return: Keras model built, but not trained\n",
    "    \"\"\"\n",
    "    # TODO: Implement\n",
    "    return None\n",
    "tests.test_model_final(model_final)\n",
    "\n",
    "\n",
    "print('Final Model Loaded')"
   ]
  },
  {
   "cell_type": "markdown",
   "metadata": {
    "deletable": true,
    "editable": true
   },
   "source": [
    "## Prediction (IMPLEMENTATION)"
   ]
  },
  {
   "cell_type": "code",
   "execution_count": null,
   "metadata": {
    "collapsed": true,
    "deletable": true,
    "editable": true
   },
   "outputs": [],
   "source": [
    "import numpy as np\n",
    "from keras.preprocessing.sequence import pad_sequences\n",
    "\n",
    "\n",
    "def final_predictions(x, y, x_tk, y_tk):\n",
    "    \"\"\"\n",
    "    Gets predictions using the final model\n",
    "    :param x: Preprocessed English data\n",
    "    :param y: Preprocessed French data\n",
    "    :param x_tk: English tokenizer\n",
    "    :param y_tk: French tokenizer\n",
    "    \"\"\"\n",
    "    # TODO: Train neural network using model_final\n",
    "    model = None\n",
    "\n",
    "    \n",
    "    ## DON'T EDIT ANYTHING BELOW THIS LINE\n",
    "    y_id_to_word = {value: key for key, value in y_tk.word_index.items()}\n",
    "    y_id_to_word[0] = '<PAD>'\n",
    "\n",
    "    sentence = 'he saw a old yellow truck'\n",
    "    sentence = [x_tk.word_index[word] for word in sentence.split()]\n",
    "    sentence = pad_sequences([sentence], maxlen=x.shape[-1], padding='post')\n",
    "    sentences = np.array([sentence[0], x[0]])\n",
    "    predictions = model.predict(sentences, len(sentences))\n",
    "\n",
    "    print('Sample 1:')\n",
    "    print(' '.join([y_id_to_word[np.argmax(x)] for x in predictions[0]]))\n",
    "    print('Il a vu un vieux camion jaune')\n",
    "    print('Sample 2:')\n",
    "    print(' '.join([y_id_to_word[np.argmax(x)] for x in predictions[1]]))\n",
    "    print(' '.join([y_id_to_word[np.argmax(x)] for x in y[0]]))\n",
    "\n",
    "\n",
    "final_predictions(preproc_english_sentences, preproc_french_sentences, english_tokenizer, french_tokenizer)"
   ]
  },
  {
   "cell_type": "markdown",
   "metadata": {
    "deletable": true,
    "editable": true
   },
   "source": [
    "## Submission\n",
    "When you are ready to submit your project, do the following steps:\n",
    "1. Ensure you pass all points on the [rubric](https://review.udacity.com/#!/rubrics/1004/view).\n",
    "2. Submit the following in a zip file.\n",
    "  - `helper.py`\n",
    "  - `machine_translation.ipynb`\n",
    "  - `machine_translation.html`\n",
    "    - You can export the notebook by navigating to **File -> Download as -> HTML (.html)**."
   ]
  }
 ],
 "metadata": {
  "anaconda-cloud": {},
  "kernelspec": {
   "display_name": "Python [conda env:aind-nlp-capstone]",
   "language": "python",
   "name": "conda-env-aind-nlp-capstone-py"
  },
  "language_info": {
   "codemirror_mode": {
    "name": "ipython",
    "version": 3
   },
   "file_extension": ".py",
   "mimetype": "text/x-python",
   "name": "python",
   "nbconvert_exporter": "python",
   "pygments_lexer": "ipython3",
   "version": "3.5.3"
  }
 },
 "nbformat": 4,
 "nbformat_minor": 0
}
